{
 "cells": [
  {
   "cell_type": "code",
   "execution_count": 351,
   "metadata": {},
   "outputs": [],
   "source": [
    "import pandas as pd\n",
    "import numpy as np\n",
    "import seaborn as sns  \n",
    "import matplotlib.pyplot as plt\n",
    "from datetime import date\n",
    "from dateutil.relativedelta import relativedelta\n",
    "import json\n",
    "import time\n",
    "%matplotlib inline \n",
    "\n",
    "# IMPORTANT:\n",
    "# Redownload the files from slack and Outlook "
   ]
  },
  {
   "cell_type": "markdown",
   "metadata": {},
   "source": [
    "##### DATA (the anonymised dataframe) "
   ]
  },
  {
   "cell_type": "code",
   "execution_count": 352,
   "metadata": {},
   "outputs": [],
   "source": [
    "#import main dataframe\n",
    "data = pd.read_csv('locations.csv', low_memory=False)"
   ]
  },
  {
   "cell_type": "code",
   "execution_count": 353,
   "metadata": {},
   "outputs": [],
   "source": [
    "#rename City column and drop empty columns\n",
    "data.rename( columns={'Unnamed: 5':'City'}, inplace=True )\n",
    "data = data.drop(data.columns[data.columns.str.contains('unnamed',case = False)],axis = 1)"
   ]
  },
  {
   "cell_type": "code",
   "execution_count": 354,
   "metadata": {},
   "outputs": [],
   "source": [
    "#drop VisitorID and ContentInfo\n",
    "data = data.drop(columns=['VisitorID', 'ContentInfo'])"
   ]
  },
  {
   "cell_type": "code",
   "execution_count": 355,
   "metadata": {},
   "outputs": [
    {
     "data": {
      "text/html": [
       "<div>\n",
       "<style scoped>\n",
       "    .dataframe tbody tr th:only-of-type {\n",
       "        vertical-align: middle;\n",
       "    }\n",
       "\n",
       "    .dataframe tbody tr th {\n",
       "        vertical-align: top;\n",
       "    }\n",
       "\n",
       "    .dataframe thead th {\n",
       "        text-align: right;\n",
       "    }\n",
       "</style>\n",
       "<table border=\"1\" class=\"dataframe\">\n",
       "  <thead>\n",
       "    <tr style=\"text-align: right;\">\n",
       "      <th></th>\n",
       "      <th>Time</th>\n",
       "      <th>ExternalID</th>\n",
       "      <th>Role</th>\n",
       "      <th>Building</th>\n",
       "      <th>City</th>\n",
       "      <th>LinkTitle</th>\n",
       "      <th>LinkType</th>\n",
       "    </tr>\n",
       "  </thead>\n",
       "  <tbody>\n",
       "    <tr>\n",
       "      <th>0</th>\n",
       "      <td>29/10/2018 10:55</td>\n",
       "      <td>5325.0</td>\n",
       "      <td>User</td>\n",
       "      <td>Broom Ground</td>\n",
       "      <td>Stirling</td>\n",
       "      <td>Sam Smith</td>\n",
       "      <td>Internet</td>\n",
       "    </tr>\n",
       "    <tr>\n",
       "      <th>1</th>\n",
       "      <td>29/10/2018 10:50</td>\n",
       "      <td>5325.0</td>\n",
       "      <td>User</td>\n",
       "      <td>Broom Ground</td>\n",
       "      <td>Stirling</td>\n",
       "      <td>Elton John</td>\n",
       "      <td>Internet</td>\n",
       "    </tr>\n",
       "    <tr>\n",
       "      <th>2</th>\n",
       "      <td>29/10/2018 10:49</td>\n",
       "      <td>5325.0</td>\n",
       "      <td>User</td>\n",
       "      <td>Broom Ground</td>\n",
       "      <td>Stirling</td>\n",
       "      <td>My Music</td>\n",
       "      <td>Category</td>\n",
       "    </tr>\n",
       "    <tr>\n",
       "      <th>3</th>\n",
       "      <td>29/10/2018 10:49</td>\n",
       "      <td>5325.0</td>\n",
       "      <td>User</td>\n",
       "      <td>Broom Ground</td>\n",
       "      <td>Stirling</td>\n",
       "      <td>Entertainment</td>\n",
       "      <td>Category</td>\n",
       "    </tr>\n",
       "    <tr>\n",
       "      <th>4</th>\n",
       "      <td>29/10/2018 10:48</td>\n",
       "      <td>NaN</td>\n",
       "      <td>User</td>\n",
       "      <td>Belses Gardens - Care Home</td>\n",
       "      <td>Glasgow</td>\n",
       "      <td>BBC Formula 1</td>\n",
       "      <td>Internet</td>\n",
       "    </tr>\n",
       "  </tbody>\n",
       "</table>\n",
       "</div>"
      ],
      "text/plain": [
       "               Time  ExternalID  Role                    Building      City  \\\n",
       "0  29/10/2018 10:55      5325.0  User                Broom Ground  Stirling   \n",
       "1  29/10/2018 10:50      5325.0  User                Broom Ground  Stirling   \n",
       "2  29/10/2018 10:49      5325.0  User                Broom Ground  Stirling   \n",
       "3  29/10/2018 10:49      5325.0  User                Broom Ground  Stirling   \n",
       "4  29/10/2018 10:48         NaN  User  Belses Gardens - Care Home   Glasgow   \n",
       "\n",
       "       LinkTitle  LinkType  \n",
       "0      Sam Smith  Internet  \n",
       "1     Elton John  Internet  \n",
       "2       My Music  Category  \n",
       "3  Entertainment  Category  \n",
       "4  BBC Formula 1  Internet  "
      ]
     },
     "execution_count": 355,
     "metadata": {},
     "output_type": "execute_result"
    }
   ],
   "source": [
    "#just getting rid of the space after the name\n",
    "data = data.replace('STH Ayshire St Leonards ', 'STH Ayshire St Leonards')\n",
    "data.head()"
   ]
  },
  {
   "cell_type": "code",
   "execution_count": 356,
   "metadata": {},
   "outputs": [],
   "source": [
    "#change time to datetime\n",
    "data['Time'] = pd.to_datetime(data['Time'], format = \"%d/%m/%Y %H:%M\", utc=False)"
   ]
  },
  {
   "cell_type": "code",
   "execution_count": 357,
   "metadata": {},
   "outputs": [],
   "source": [
    "#change ExternalIDs to integers\n",
    "data.ExternalID = data.ExternalID.fillna(0).astype(int)"
   ]
  },
  {
   "cell_type": "code",
   "execution_count": 358,
   "metadata": {},
   "outputs": [],
   "source": [
    "#drop rows that are identical\n",
    "data = data.drop_duplicates(keep='first')"
   ]
  },
  {
   "cell_type": "code",
   "execution_count": 359,
   "metadata": {},
   "outputs": [],
   "source": [
    "#new dataframe with no null ExternalID vaues\n",
    "data = data[data.ExternalID != 0]"
   ]
  },
  {
   "cell_type": "code",
   "execution_count": 360,
   "metadata": {},
   "outputs": [],
   "source": [
    "data = data[(data.City != 'Test user ignore') & (data.City != 'test user')]"
   ]
  },
  {
   "cell_type": "markdown",
   "metadata": {},
   "source": [
    "##### USERS (the user dataframe) "
   ]
  },
  {
   "cell_type": "code",
   "execution_count": 361,
   "metadata": {},
   "outputs": [],
   "source": [
    "#import users dataframe\n",
    "users = pd.read_csv('PrimaryConditions age sex by customer reference.csv', low_memory=False)"
   ]
  },
  {
   "cell_type": "code",
   "execution_count": 362,
   "metadata": {},
   "outputs": [
    {
     "data": {
      "text/plain": [
       "(695, 5)"
      ]
     },
     "execution_count": 362,
     "metadata": {},
     "output_type": "execute_result"
    }
   ],
   "source": [
    "users.shape"
   ]
  },
  {
   "cell_type": "code",
   "execution_count": 363,
   "metadata": {},
   "outputs": [],
   "source": [
    "#drop empty column and CleverCogsUserId\n",
    "users = users.drop(users.columns[users.columns.str.contains('unnamed',case = False)],axis = 1)\n",
    "users = users.drop(columns=['CleverCogsUserId'])"
   ]
  },
  {
   "cell_type": "code",
   "execution_count": 364,
   "metadata": {},
   "outputs": [],
   "source": [
    "#delete empty row\n",
    "users = users.dropna(axis=0, how='all', inplace=False)"
   ]
  },
  {
   "cell_type": "code",
   "execution_count": 365,
   "metadata": {},
   "outputs": [
    {
     "data": {
      "text/html": [
       "<div>\n",
       "<style scoped>\n",
       "    .dataframe tbody tr th:only-of-type {\n",
       "        vertical-align: middle;\n",
       "    }\n",
       "\n",
       "    .dataframe tbody tr th {\n",
       "        vertical-align: top;\n",
       "    }\n",
       "\n",
       "    .dataframe thead th {\n",
       "        text-align: right;\n",
       "    }\n",
       "</style>\n",
       "<table border=\"1\" class=\"dataframe\">\n",
       "  <thead>\n",
       "    <tr style=\"text-align: right;\">\n",
       "      <th></th>\n",
       "      <th>ExternalID</th>\n",
       "      <th>BirthDate</th>\n",
       "      <th>Gender</th>\n",
       "      <th>Condition</th>\n",
       "    </tr>\n",
       "  </thead>\n",
       "  <tbody>\n",
       "    <tr>\n",
       "      <th>0</th>\n",
       "      <td>4703</td>\n",
       "      <td>04/07/1965</td>\n",
       "      <td>F</td>\n",
       "      <td>Spina Bifida</td>\n",
       "    </tr>\n",
       "    <tr>\n",
       "      <th>1</th>\n",
       "      <td>4704</td>\n",
       "      <td>21/06/1940</td>\n",
       "      <td>F</td>\n",
       "      <td>COPD</td>\n",
       "    </tr>\n",
       "    <tr>\n",
       "      <th>2</th>\n",
       "      <td>4706</td>\n",
       "      <td>25/02/1931</td>\n",
       "      <td>F</td>\n",
       "      <td>Dementia</td>\n",
       "    </tr>\n",
       "    <tr>\n",
       "      <th>3</th>\n",
       "      <td>4707</td>\n",
       "      <td>18/09/1982</td>\n",
       "      <td>F</td>\n",
       "      <td>Brain Injury</td>\n",
       "    </tr>\n",
       "    <tr>\n",
       "      <th>4</th>\n",
       "      <td>4708</td>\n",
       "      <td>20/12/1931</td>\n",
       "      <td>F</td>\n",
       "      <td>NaN</td>\n",
       "    </tr>\n",
       "  </tbody>\n",
       "</table>\n",
       "</div>"
      ],
      "text/plain": [
       "   ExternalID   BirthDate Gender     Condition\n",
       "0        4703  04/07/1965      F  Spina Bifida\n",
       "1        4704  21/06/1940      F          COPD\n",
       "2        4706  25/02/1931      F      Dementia\n",
       "3        4707  18/09/1982      F  Brain Injury\n",
       "4        4708  20/12/1931      F           NaN"
      ]
     },
     "execution_count": 365,
     "metadata": {},
     "output_type": "execute_result"
    }
   ],
   "source": [
    "#change ExternalID into integers\n",
    "users['ExternalID'] = users['ExternalID'].apply(np.int64)\n",
    "users.head()"
   ]
  },
  {
   "cell_type": "code",
   "execution_count": 366,
   "metadata": {},
   "outputs": [
    {
     "data": {
      "text/plain": [
       "(680, 4)"
      ]
     },
     "execution_count": 366,
     "metadata": {},
     "output_type": "execute_result"
    }
   ],
   "source": [
    "#drop duplicates\n",
    "users = users.drop_duplicates(subset = ['ExternalID'], keep='last')\n",
    "users.shape"
   ]
  },
  {
   "cell_type": "code",
   "execution_count": 367,
   "metadata": {},
   "outputs": [
    {
     "data": {
      "text/html": [
       "<div>\n",
       "<style scoped>\n",
       "    .dataframe tbody tr th:only-of-type {\n",
       "        vertical-align: middle;\n",
       "    }\n",
       "\n",
       "    .dataframe tbody tr th {\n",
       "        vertical-align: top;\n",
       "    }\n",
       "\n",
       "    .dataframe thead th {\n",
       "        text-align: right;\n",
       "    }\n",
       "</style>\n",
       "<table border=\"1\" class=\"dataframe\">\n",
       "  <thead>\n",
       "    <tr style=\"text-align: right;\">\n",
       "      <th></th>\n",
       "      <th>ExternalID</th>\n",
       "      <th>BirthDate</th>\n",
       "      <th>Gender</th>\n",
       "      <th>Condition</th>\n",
       "    </tr>\n",
       "    <tr>\n",
       "      <th>BirthDate</th>\n",
       "      <th></th>\n",
       "      <th></th>\n",
       "      <th></th>\n",
       "      <th></th>\n",
       "    </tr>\n",
       "  </thead>\n",
       "  <tbody>\n",
       "    <tr>\n",
       "      <th>1965-07-04</th>\n",
       "      <td>4703</td>\n",
       "      <td>1965-07-04</td>\n",
       "      <td>F</td>\n",
       "      <td>Spina Bifida</td>\n",
       "    </tr>\n",
       "    <tr>\n",
       "      <th>1940-06-21</th>\n",
       "      <td>4704</td>\n",
       "      <td>1940-06-21</td>\n",
       "      <td>F</td>\n",
       "      <td>COPD</td>\n",
       "    </tr>\n",
       "    <tr>\n",
       "      <th>1931-02-25</th>\n",
       "      <td>4706</td>\n",
       "      <td>1931-02-25</td>\n",
       "      <td>F</td>\n",
       "      <td>Dementia</td>\n",
       "    </tr>\n",
       "    <tr>\n",
       "      <th>1982-09-18</th>\n",
       "      <td>4707</td>\n",
       "      <td>1982-09-18</td>\n",
       "      <td>F</td>\n",
       "      <td>Brain Injury</td>\n",
       "    </tr>\n",
       "    <tr>\n",
       "      <th>1931-12-20</th>\n",
       "      <td>4708</td>\n",
       "      <td>1931-12-20</td>\n",
       "      <td>F</td>\n",
       "      <td>NaN</td>\n",
       "    </tr>\n",
       "  </tbody>\n",
       "</table>\n",
       "</div>"
      ],
      "text/plain": [
       "            ExternalID  BirthDate Gender     Condition\n",
       "BirthDate                                             \n",
       "1965-07-04        4703 1965-07-04      F  Spina Bifida\n",
       "1940-06-21        4704 1940-06-21      F          COPD\n",
       "1931-02-25        4706 1931-02-25      F      Dementia\n",
       "1982-09-18        4707 1982-09-18      F  Brain Injury\n",
       "1931-12-20        4708 1931-12-20      F           NaN"
      ]
     },
     "execution_count": 367,
     "metadata": {},
     "output_type": "execute_result"
    }
   ],
   "source": [
    "#change BirthDate to date time\n",
    "#users['BirthDate'] = pd.to_datetime(users['BirthDate'], format = \"%m/%d/%y\", dayfirst=False, utc=True)\n",
    "\n",
    "users['BirthDate'] = pd.to_datetime(users['BirthDate'], errors='coerce', dayfirst=False, yearfirst=False, \n",
    "                   format=\"%d/%m/%Y\", utc=False, infer_datetime_format=False, origin='unix')\n",
    "users = users.set_index(pd.DatetimeIndex(users['BirthDate']))\n",
    "\n",
    "#Remove erroneous entries\n",
    "threshold = pd.to_datetime(\"2010-01-01\", format=\"%Y-%m-%d\", utc=False, origin='unix')\n",
    "users = users[users['BirthDate'] < threshold]\n",
    "\n",
    "users.head()"
   ]
  },
  {
   "cell_type": "code",
   "execution_count": 368,
   "metadata": {},
   "outputs": [],
   "source": [
    "now = pd.to_datetime(date.today())\n",
    "\n",
    "def getYears(start):\n",
    "    diff = relativedelta(now, start)\n",
    "    return diff.years\n",
    "\n",
    "# Add a new column that contains the age of the user\n",
    "users[\"Age\"] = users['BirthDate'].map(getYears)"
   ]
  },
  {
   "cell_type": "code",
   "execution_count": 369,
   "metadata": {},
   "outputs": [
    {
     "data": {
      "text/plain": [
       "(672, 5)"
      ]
     },
     "execution_count": 369,
     "metadata": {},
     "output_type": "execute_result"
    }
   ],
   "source": [
    "users.head()\n",
    "users.shape"
   ]
  },
  {
   "cell_type": "markdown",
   "metadata": {},
   "source": [
    "# Generate Network\n",
    "\n",
    "This file will generate a JSON file that includes all LinkTitles as nodes, coloured by clusters of LinkTypes. \n",
    "\n",
    "```Node: id, label, numberOfTraffic, timeSpent```\n",
    "\n",
    "The edges will represent each line of traffic. \n",
    "\n",
    "```Edge: id, label, userId, age bucket, startNodeId, endNodeId, date, time, prevDate, prevTime```\n"
   ]
  },
  {
   "cell_type": "code",
   "execution_count": 370,
   "metadata": {},
   "outputs": [
    {
     "data": {
      "text/html": [
       "<div>\n",
       "<style scoped>\n",
       "    .dataframe tbody tr th:only-of-type {\n",
       "        vertical-align: middle;\n",
       "    }\n",
       "\n",
       "    .dataframe tbody tr th {\n",
       "        vertical-align: top;\n",
       "    }\n",
       "\n",
       "    .dataframe thead th {\n",
       "        text-align: right;\n",
       "    }\n",
       "</style>\n",
       "<table border=\"1\" class=\"dataframe\">\n",
       "  <thead>\n",
       "    <tr style=\"text-align: right;\">\n",
       "      <th></th>\n",
       "      <th>Time</th>\n",
       "      <th>ExternalID</th>\n",
       "      <th>Role</th>\n",
       "      <th>Building</th>\n",
       "      <th>City</th>\n",
       "      <th>LinkTitle</th>\n",
       "      <th>LinkType</th>\n",
       "      <th>BirthDate</th>\n",
       "      <th>Gender</th>\n",
       "      <th>Condition</th>\n",
       "      <th>Age</th>\n",
       "      <th>AgeRange</th>\n",
       "    </tr>\n",
       "  </thead>\n",
       "  <tbody>\n",
       "    <tr>\n",
       "      <th>0</th>\n",
       "      <td>2018-10-29 10:41:00</td>\n",
       "      <td>5541</td>\n",
       "      <td>User</td>\n",
       "      <td>STH Ayshire St Leonards</td>\n",
       "      <td>Ayr</td>\n",
       "      <td>YouTube</td>\n",
       "      <td>Internet</td>\n",
       "      <td>1954-02-18</td>\n",
       "      <td>M</td>\n",
       "      <td>Cerebral Palsy</td>\n",
       "      <td>64</td>\n",
       "      <td>60</td>\n",
       "    </tr>\n",
       "    <tr>\n",
       "      <th>1</th>\n",
       "      <td>2018-10-29 10:39:00</td>\n",
       "      <td>5541</td>\n",
       "      <td>User</td>\n",
       "      <td>STH Ayshire St Leonards</td>\n",
       "      <td>Ayr</td>\n",
       "      <td>YouTube</td>\n",
       "      <td>Internet</td>\n",
       "      <td>1954-02-18</td>\n",
       "      <td>M</td>\n",
       "      <td>Cerebral Palsy</td>\n",
       "      <td>64</td>\n",
       "      <td>60</td>\n",
       "    </tr>\n",
       "    <tr>\n",
       "      <th>2</th>\n",
       "      <td>2018-10-29 10:38:00</td>\n",
       "      <td>5541</td>\n",
       "      <td>User</td>\n",
       "      <td>STH Ayshire St Leonards</td>\n",
       "      <td>Ayr</td>\n",
       "      <td>YouTube</td>\n",
       "      <td>Internet</td>\n",
       "      <td>1954-02-18</td>\n",
       "      <td>M</td>\n",
       "      <td>Cerebral Palsy</td>\n",
       "      <td>64</td>\n",
       "      <td>60</td>\n",
       "    </tr>\n",
       "    <tr>\n",
       "      <th>3</th>\n",
       "      <td>2018-10-29 10:33:00</td>\n",
       "      <td>5541</td>\n",
       "      <td>User</td>\n",
       "      <td>STH Ayshire St Leonards</td>\n",
       "      <td>Ayr</td>\n",
       "      <td>YouTube</td>\n",
       "      <td>Internet</td>\n",
       "      <td>1954-02-18</td>\n",
       "      <td>M</td>\n",
       "      <td>Cerebral Palsy</td>\n",
       "      <td>64</td>\n",
       "      <td>60</td>\n",
       "    </tr>\n",
       "    <tr>\n",
       "      <th>4</th>\n",
       "      <td>2018-10-29 10:00:00</td>\n",
       "      <td>5541</td>\n",
       "      <td>User</td>\n",
       "      <td>STH Ayshire St Leonards</td>\n",
       "      <td>Ayr</td>\n",
       "      <td>YouTube</td>\n",
       "      <td>Internet</td>\n",
       "      <td>1954-02-18</td>\n",
       "      <td>M</td>\n",
       "      <td>Cerebral Palsy</td>\n",
       "      <td>64</td>\n",
       "      <td>60</td>\n",
       "    </tr>\n",
       "  </tbody>\n",
       "</table>\n",
       "</div>"
      ],
      "text/plain": [
       "                 Time  ExternalID  Role                 Building City  \\\n",
       "0 2018-10-29 10:41:00        5541  User  STH Ayshire St Leonards  Ayr   \n",
       "1 2018-10-29 10:39:00        5541  User  STH Ayshire St Leonards  Ayr   \n",
       "2 2018-10-29 10:38:00        5541  User  STH Ayshire St Leonards  Ayr   \n",
       "3 2018-10-29 10:33:00        5541  User  STH Ayshire St Leonards  Ayr   \n",
       "4 2018-10-29 10:00:00        5541  User  STH Ayshire St Leonards  Ayr   \n",
       "\n",
       "  LinkTitle  LinkType  BirthDate Gender       Condition  Age  AgeRange  \n",
       "0   YouTube  Internet 1954-02-18      M  Cerebral Palsy   64        60  \n",
       "1   YouTube  Internet 1954-02-18      M  Cerebral Palsy   64        60  \n",
       "2   YouTube  Internet 1954-02-18      M  Cerebral Palsy   64        60  \n",
       "3   YouTube  Internet 1954-02-18      M  Cerebral Palsy   64        60  \n",
       "4   YouTube  Internet 1954-02-18      M  Cerebral Palsy   64        60  "
      ]
     },
     "execution_count": 370,
     "metadata": {},
     "output_type": "execute_result"
    }
   ],
   "source": [
    "# Merge data and user on external id\n",
    "data.ExternalID = (data.ExternalID.fillna(0)).astype(dtype='int64')\n",
    "dataUserInner = pd.merge(data, users, on =\"ExternalID\", how=\"inner\")\n",
    "\n",
    "\n",
    "# create age buckets\n",
    "\n",
    "def getAgeBucket(age):\n",
    "    start = int(age/10)*10\n",
    "    if age < start+5:\n",
    "#         return (str(start) + '-' + str(start+5))\n",
    "        return start\n",
    "    else:\n",
    "#         return (str(start+5) + '-' + str(start+10))\n",
    "        return start+5\n",
    "\n",
    "\n",
    "dataUserInner[\"AgeRange\"] = dataUserInner['Age'].map(getAgeBucket)\n",
    "\n",
    "# dataZero = dataUserInner[dataUserInner[\"ExternalID\"] == 0]\n",
    "# dataZero.head()\n",
    "\n",
    "dataUserInner.head()\n"
   ]
  },
  {
   "cell_type": "code",
   "execution_count": 371,
   "metadata": {},
   "outputs": [],
   "source": [
    "# Sort by user to  allow linear processing\n",
    "dataUserInner.sort_values(['ExternalID', 'Time'], ascending=[True, True], inplace=True)"
   ]
  },
  {
   "cell_type": "code",
   "execution_count": 372,
   "metadata": {},
   "outputs": [
    {
     "data": {
      "text/html": [
       "<div>\n",
       "<style scoped>\n",
       "    .dataframe tbody tr th:only-of-type {\n",
       "        vertical-align: middle;\n",
       "    }\n",
       "\n",
       "    .dataframe tbody tr th {\n",
       "        vertical-align: top;\n",
       "    }\n",
       "\n",
       "    .dataframe thead th {\n",
       "        text-align: right;\n",
       "    }\n",
       "</style>\n",
       "<table border=\"1\" class=\"dataframe\">\n",
       "  <thead>\n",
       "    <tr style=\"text-align: right;\">\n",
       "      <th></th>\n",
       "      <th>Time</th>\n",
       "      <th>ExternalID</th>\n",
       "      <th>Role</th>\n",
       "      <th>Building</th>\n",
       "      <th>City</th>\n",
       "      <th>LinkTitle</th>\n",
       "      <th>LinkType</th>\n",
       "      <th>BirthDate</th>\n",
       "      <th>Gender</th>\n",
       "      <th>Condition</th>\n",
       "      <th>Age</th>\n",
       "      <th>AgeRange</th>\n",
       "    </tr>\n",
       "  </thead>\n",
       "  <tbody>\n",
       "    <tr>\n",
       "      <th>71133</th>\n",
       "      <td>2018-01-13 09:45:00</td>\n",
       "      <td>4703</td>\n",
       "      <td>User</td>\n",
       "      <td>Charleston</td>\n",
       "      <td>Dundee (Tayside)</td>\n",
       "      <td>Keys To Life</td>\n",
       "      <td>Internet</td>\n",
       "      <td>1965-07-04</td>\n",
       "      <td>F</td>\n",
       "      <td>Spina Bifida</td>\n",
       "      <td>53</td>\n",
       "      <td>50</td>\n",
       "    </tr>\n",
       "    <tr>\n",
       "      <th>71134</th>\n",
       "      <td>2018-01-13 09:45:00</td>\n",
       "      <td>4703</td>\n",
       "      <td>User</td>\n",
       "      <td>Charleston</td>\n",
       "      <td>Dundee (Tayside)</td>\n",
       "      <td>Health &amp; Wellbeing</td>\n",
       "      <td>Category</td>\n",
       "      <td>1965-07-04</td>\n",
       "      <td>F</td>\n",
       "      <td>Spina Bifida</td>\n",
       "      <td>53</td>\n",
       "      <td>50</td>\n",
       "    </tr>\n",
       "    <tr>\n",
       "      <th>71135</th>\n",
       "      <td>2018-01-13 09:45:00</td>\n",
       "      <td>4703</td>\n",
       "      <td>User</td>\n",
       "      <td>Charleston</td>\n",
       "      <td>Dundee (Tayside)</td>\n",
       "      <td>Information</td>\n",
       "      <td>Category</td>\n",
       "      <td>1965-07-04</td>\n",
       "      <td>F</td>\n",
       "      <td>Spina Bifida</td>\n",
       "      <td>53</td>\n",
       "      <td>50</td>\n",
       "    </tr>\n",
       "    <tr>\n",
       "      <th>71129</th>\n",
       "      <td>2018-01-20 20:29:00</td>\n",
       "      <td>4703</td>\n",
       "      <td>User</td>\n",
       "      <td>Charleston</td>\n",
       "      <td>Dundee (Tayside)</td>\n",
       "      <td>Sudoku</td>\n",
       "      <td>Internet</td>\n",
       "      <td>1965-07-04</td>\n",
       "      <td>F</td>\n",
       "      <td>Spina Bifida</td>\n",
       "      <td>53</td>\n",
       "      <td>50</td>\n",
       "    </tr>\n",
       "    <tr>\n",
       "      <th>71130</th>\n",
       "      <td>2018-01-20 20:29:00</td>\n",
       "      <td>4703</td>\n",
       "      <td>User</td>\n",
       "      <td>Charleston</td>\n",
       "      <td>Dundee (Tayside)</td>\n",
       "      <td>Single Player Games</td>\n",
       "      <td>Category</td>\n",
       "      <td>1965-07-04</td>\n",
       "      <td>F</td>\n",
       "      <td>Spina Bifida</td>\n",
       "      <td>53</td>\n",
       "      <td>50</td>\n",
       "    </tr>\n",
       "  </tbody>\n",
       "</table>\n",
       "</div>"
      ],
      "text/plain": [
       "                     Time  ExternalID  Role    Building              City  \\\n",
       "71133 2018-01-13 09:45:00        4703  User  Charleston  Dundee (Tayside)   \n",
       "71134 2018-01-13 09:45:00        4703  User  Charleston  Dundee (Tayside)   \n",
       "71135 2018-01-13 09:45:00        4703  User  Charleston  Dundee (Tayside)   \n",
       "71129 2018-01-20 20:29:00        4703  User  Charleston  Dundee (Tayside)   \n",
       "71130 2018-01-20 20:29:00        4703  User  Charleston  Dundee (Tayside)   \n",
       "\n",
       "                 LinkTitle  LinkType  BirthDate Gender     Condition  Age  \\\n",
       "71133         Keys To Life  Internet 1965-07-04      F  Spina Bifida   53   \n",
       "71134  Health & Wellbeing   Category 1965-07-04      F  Spina Bifida   53   \n",
       "71135          Information  Category 1965-07-04      F  Spina Bifida   53   \n",
       "71129               Sudoku  Internet 1965-07-04      F  Spina Bifida   53   \n",
       "71130  Single Player Games  Category 1965-07-04      F  Spina Bifida   53   \n",
       "\n",
       "       AgeRange  \n",
       "71133        50  \n",
       "71134        50  \n",
       "71135        50  \n",
       "71129        50  \n",
       "71130        50  "
      ]
     },
     "execution_count": 372,
     "metadata": {},
     "output_type": "execute_result"
    }
   ],
   "source": [
    "dataUserInner.head()"
   ]
  },
  {
   "cell_type": "code",
   "execution_count": 380,
   "metadata": {},
   "outputs": [],
   "source": [
    "# Iterate through file and process nodes and edges. Assign each distinct user a new id.\n",
    "\n",
    "# Node: id, label, traffic, timeSpent, start, type\n",
    "# Edge: id, label, userId, age bucket, startNodeId, endNodeId, timeDiff, pathId, end\n",
    "\n",
    "\n",
    "# calculate timespent by adding the timediff to a time diff array at the node. Can then be used to \n",
    "# calculate averages or sum\n",
    "links = {}\n",
    "\n",
    "nodes = {}\n",
    "edges = {}\n",
    "\n",
    "threshold = 2 #hours\n",
    "currentNodeId = 0\n",
    "currentEdgeId = 0\n",
    "currentUserId = 0\n",
    "currentPathId = 0\n",
    "\n",
    "prevUser = 0\n",
    "prevTime = 0\n",
    "\n",
    "\n",
    "node = {}\n",
    "edge = {}\n",
    "for index, row in dataUserInner.iterrows():\n",
    "    # check if the same user\n",
    "    if prevTime == 0: \n",
    "        prevTime = row.Time\n",
    "    else: \n",
    "        timeDiff = row.Time - prevTime\n",
    "        #print(timeDiff.total_seconds())\n",
    "        \n",
    "        \n",
    "    if row.ExternalID != prevUser:\n",
    "        if edge: \n",
    "            edge[\"end\"] = True\n",
    "            currentPathId+=1\n",
    "        prevUser = row.ExternalID\n",
    "        currentUserId += 1\n",
    "    \n",
    "    # check if time threshold\n",
    "    elif timeDiff.total_seconds() > (2 * 60 * 60): \n",
    "        # start new path\n",
    "        # check if previous edge needs finishing\n",
    "        if edge: \n",
    "            edge[\"end\"] = True\n",
    "            currentPathId+=1\n",
    "    \n",
    "\n",
    "    # set up new start node and edge\n",
    "    # check if this link already in node\n",
    "    nodeId = 0\n",
    "    nodeTraffic = 0\n",
    "    if row.LinkTitle in links: \n",
    "        # this node already exists and if so update it with the traffic\n",
    "        nodeId, nodeTraffic = links[row.LinkTitle]\n",
    "        links[row.LinkTitle] = (nodeId, nodeTraffic+1)\n",
    "        nodes[nodeId][\"traffic\"] = nodeTraffic+1\n",
    "    else: \n",
    "        #create new node\n",
    "        nodeId = currentNodeId\n",
    "        currentNodeId+=1\n",
    "        node = {\"id\":nodeId, \"label\": row.LinkTitle, \"traffic\":1, \"type\": row.LinkType, \"timeDiffs\": []}\n",
    "        links[row.LinkTitle] = (nodeId, 1)\n",
    "        nodes[nodeId] = node\n",
    "    \n",
    "    if edge: \n",
    "        edge[\"timeDiff\"] = timeDiff.total_seconds()\n",
    "        edge[\"endNode\"] = nodeId\n",
    "        edges[currentEdgeId] = edge\n",
    "        nodes[edge[\"startNode\"]][\"timeDiffs\"].append(timeDiff.total_seconds())\n",
    "        currentEdgeId += 1\n",
    "        edge = {}\n",
    "\n",
    "    #create edge\n",
    "    prevTime = row.Time\n",
    "    edge = {\"id\": currentEdgeId, \"userId\":currentUserId, \"age\": row.AgeRange, \n",
    "             \"startNode\": nodeId, \"pathId\": currentPathId}\n",
    "    node = {}\n"
   ]
  },
  {
   "cell_type": "code",
   "execution_count": 381,
   "metadata": {},
   "outputs": [],
   "source": [
    "nodesList = []\n",
    "edgesList = []\n",
    "\n",
    "for key, value in nodes.items():\n",
    "    nodesList.append(value)\n",
    "\n",
    "for key, value in edges.items(): \n",
    "    edgesList.append(value)"
   ]
  },
  {
   "cell_type": "code",
   "execution_count": 382,
   "metadata": {},
   "outputs": [
    {
     "name": "stdout",
     "output_type": "stream",
     "text": [
      "node: \n",
      "{'id': 0, 'label': 'Keys To Life', 'traffic': 22, 'type': 'Internet', 'timeDiffs': [0.0, 60.0, 960.0, 0.0, 60.0, 604740.0, 0.0, 0.0, 0.0, 0.0, 0.0, 0.0, 0.0, 0.0, 0.0, 0.0, 0.0, 0.0, 420.0, 60.0, 480.0, 120.0]}\n",
      "edges: \n",
      "{'id': 0, 'userId': 1, 'age': 50, 'startNode': 0, 'pathId': 0, 'timeDiff': 0.0, 'endNode': 1}\n",
      "478\n",
      "71731\n"
     ]
    }
   ],
   "source": [
    "# difference in seconds (b-a).total_seconds()\n",
    "\n",
    "# for i in range(0,10):\n",
    "#     print(nodes[i])\n",
    "    \n",
    "\n",
    "# for i in range(0,30):\n",
    "#     print(edges[i])\n",
    "\n",
    "#print(edges[500])\n",
    "    \n",
    "print(\"node: \"),\n",
    "print(nodesList[0])\n",
    "\n",
    "print(\"edges: \"),\n",
    "print(edgesList[0])\n",
    "    \n",
    "print(len(nodes))\n",
    "print(len(edges))"
   ]
  },
  {
   "cell_type": "code",
   "execution_count": 383,
   "metadata": {},
   "outputs": [],
   "source": [
    "edgesJson = json.dumps(edgesList)\n",
    "nodesJson = json.dumps(nodesList)\n",
    "graph = {\"links\": edges, \"nodes\": nodes}"
   ]
  },
  {
   "cell_type": "code",
   "execution_count": 384,
   "metadata": {},
   "outputs": [],
   "source": [
    "with open('nodes.json', 'w') as outfile:\n",
    "    json.dump(nodesJson, outfile)\n",
    "    "
   ]
  },
  {
   "cell_type": "code",
   "execution_count": 385,
   "metadata": {},
   "outputs": [],
   "source": [
    "with open('edges.json', 'w') as outfile:\n",
    "    json.dump(edgesJson, outfile)"
   ]
  },
  {
   "cell_type": "code",
   "execution_count": 386,
   "metadata": {},
   "outputs": [],
   "source": [
    "with open('graph.json', 'w') as outfile:\n",
    "    json.dump(graph, outfile)"
   ]
  },
  {
   "cell_type": "code",
   "execution_count": null,
   "metadata": {},
   "outputs": [],
   "source": []
  },
  {
   "cell_type": "code",
   "execution_count": null,
   "metadata": {},
   "outputs": [],
   "source": []
  }
 ],
 "metadata": {
  "kernelspec": {
   "display_name": "Python 3",
   "language": "python",
   "name": "python3"
  },
  "language_info": {
   "codemirror_mode": {
    "name": "ipython",
    "version": 3
   },
   "file_extension": ".py",
   "mimetype": "text/x-python",
   "name": "python",
   "nbconvert_exporter": "python",
   "pygments_lexer": "ipython3",
   "version": "3.7.0"
  }
 },
 "nbformat": 4,
 "nbformat_minor": 2
}
