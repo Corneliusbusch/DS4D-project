{
 "cells": [
  {
   "cell_type": "code",
   "execution_count": 1,
   "metadata": {},
   "outputs": [],
   "source": [
    "import pandas as pd\n",
    "import numpy as np\n",
    "import seaborn as sns  \n",
    "import matplotlib.pyplot as plt\n",
    "from datetime import date\n",
    "from dateutil.relativedelta import relativedelta\n",
    "import json\n",
    "import time\n",
    "%matplotlib inline \n",
    "\n",
    "# IMPORTANT:\n",
    "# Redownload the files from slack and Outlook "
   ]
  },
  {
   "cell_type": "markdown",
   "metadata": {},
   "source": [
    "##### DATA (the anonymised dataframe) "
   ]
  },
  {
   "cell_type": "code",
   "execution_count": 2,
   "metadata": {},
   "outputs": [],
   "source": [
    "#import main dataframe\n",
    "data = pd.read_csv('locations.csv', low_memory=False)"
   ]
  },
  {
   "cell_type": "code",
   "execution_count": 3,
   "metadata": {},
   "outputs": [],
   "source": [
    "#rename City column and drop empty columns\n",
    "data.rename( columns={'Unnamed: 5':'City'}, inplace=True )\n",
    "data = data.drop(data.columns[data.columns.str.contains('unnamed',case = False)],axis = 1)"
   ]
  },
  {
   "cell_type": "code",
   "execution_count": 4,
   "metadata": {},
   "outputs": [],
   "source": [
    "#drop VisitorID and ContentInfo\n",
    "data = data.drop(columns=['VisitorID', 'ContentInfo'])"
   ]
  },
  {
   "cell_type": "code",
   "execution_count": 5,
   "metadata": {},
   "outputs": [
    {
     "data": {
      "text/html": [
       "<div>\n",
       "<style scoped>\n",
       "    .dataframe tbody tr th:only-of-type {\n",
       "        vertical-align: middle;\n",
       "    }\n",
       "\n",
       "    .dataframe tbody tr th {\n",
       "        vertical-align: top;\n",
       "    }\n",
       "\n",
       "    .dataframe thead th {\n",
       "        text-align: right;\n",
       "    }\n",
       "</style>\n",
       "<table border=\"1\" class=\"dataframe\">\n",
       "  <thead>\n",
       "    <tr style=\"text-align: right;\">\n",
       "      <th></th>\n",
       "      <th>Time</th>\n",
       "      <th>ExternalID</th>\n",
       "      <th>Role</th>\n",
       "      <th>Building</th>\n",
       "      <th>City</th>\n",
       "      <th>LinkTitle</th>\n",
       "      <th>LinkType</th>\n",
       "    </tr>\n",
       "  </thead>\n",
       "  <tbody>\n",
       "    <tr>\n",
       "      <th>0</th>\n",
       "      <td>29/10/2018 10:55</td>\n",
       "      <td>5325.0</td>\n",
       "      <td>User</td>\n",
       "      <td>Broom Ground</td>\n",
       "      <td>Stirling</td>\n",
       "      <td>Sam Smith</td>\n",
       "      <td>Internet</td>\n",
       "    </tr>\n",
       "    <tr>\n",
       "      <th>1</th>\n",
       "      <td>29/10/2018 10:50</td>\n",
       "      <td>5325.0</td>\n",
       "      <td>User</td>\n",
       "      <td>Broom Ground</td>\n",
       "      <td>Stirling</td>\n",
       "      <td>Elton John</td>\n",
       "      <td>Internet</td>\n",
       "    </tr>\n",
       "    <tr>\n",
       "      <th>2</th>\n",
       "      <td>29/10/2018 10:49</td>\n",
       "      <td>5325.0</td>\n",
       "      <td>User</td>\n",
       "      <td>Broom Ground</td>\n",
       "      <td>Stirling</td>\n",
       "      <td>My Music</td>\n",
       "      <td>Category</td>\n",
       "    </tr>\n",
       "    <tr>\n",
       "      <th>3</th>\n",
       "      <td>29/10/2018 10:49</td>\n",
       "      <td>5325.0</td>\n",
       "      <td>User</td>\n",
       "      <td>Broom Ground</td>\n",
       "      <td>Stirling</td>\n",
       "      <td>Entertainment</td>\n",
       "      <td>Category</td>\n",
       "    </tr>\n",
       "    <tr>\n",
       "      <th>4</th>\n",
       "      <td>29/10/2018 10:48</td>\n",
       "      <td>NaN</td>\n",
       "      <td>User</td>\n",
       "      <td>Belses Gardens - Care Home</td>\n",
       "      <td>Glasgow</td>\n",
       "      <td>BBC Formula 1</td>\n",
       "      <td>Internet</td>\n",
       "    </tr>\n",
       "  </tbody>\n",
       "</table>\n",
       "</div>"
      ],
      "text/plain": [
       "               Time  ExternalID  Role                    Building      City  \\\n",
       "0  29/10/2018 10:55      5325.0  User                Broom Ground  Stirling   \n",
       "1  29/10/2018 10:50      5325.0  User                Broom Ground  Stirling   \n",
       "2  29/10/2018 10:49      5325.0  User                Broom Ground  Stirling   \n",
       "3  29/10/2018 10:49      5325.0  User                Broom Ground  Stirling   \n",
       "4  29/10/2018 10:48         NaN  User  Belses Gardens - Care Home   Glasgow   \n",
       "\n",
       "       LinkTitle  LinkType  \n",
       "0      Sam Smith  Internet  \n",
       "1     Elton John  Internet  \n",
       "2       My Music  Category  \n",
       "3  Entertainment  Category  \n",
       "4  BBC Formula 1  Internet  "
      ]
     },
     "execution_count": 5,
     "metadata": {},
     "output_type": "execute_result"
    }
   ],
   "source": [
    "#just getting rid of the space after the name\n",
    "data = data.replace('STH Ayshire St Leonards ', 'STH Ayshire St Leonards')\n",
    "data.head()"
   ]
  },
  {
   "cell_type": "code",
   "execution_count": 6,
   "metadata": {},
   "outputs": [],
   "source": [
    "#change time to datetime\n",
    "data['Time'] = pd.to_datetime(data['Time'], format = \"%d/%m/%Y %H:%M\", utc=False)"
   ]
  },
  {
   "cell_type": "code",
   "execution_count": 7,
   "metadata": {},
   "outputs": [],
   "source": [
    "#change ExternalIDs to integers\n",
    "data.ExternalID = data.ExternalID.fillna(0).astype(int)"
   ]
  },
  {
   "cell_type": "code",
   "execution_count": 8,
   "metadata": {},
   "outputs": [],
   "source": [
    "#drop rows that are identical\n",
    "data = data.drop_duplicates(keep='first')"
   ]
  },
  {
   "cell_type": "code",
   "execution_count": 9,
   "metadata": {},
   "outputs": [],
   "source": [
    "#new dataframe with no null ExternalID vaues\n",
    "data = data[data.ExternalID != 0]"
   ]
  },
  {
   "cell_type": "code",
   "execution_count": 10,
   "metadata": {},
   "outputs": [],
   "source": [
    "data = data[(data.City != 'Test user ignore') & (data.City != 'test user')]"
   ]
  },
  {
   "cell_type": "markdown",
   "metadata": {},
   "source": [
    "##### USERS (the user dataframe) "
   ]
  },
  {
   "cell_type": "code",
   "execution_count": 11,
   "metadata": {},
   "outputs": [],
   "source": [
    "#import users dataframe\n",
    "users = pd.read_csv('PrimaryConditions age sex by customer reference.csv', low_memory=False)"
   ]
  },
  {
   "cell_type": "code",
   "execution_count": 12,
   "metadata": {},
   "outputs": [
    {
     "data": {
      "text/plain": [
       "(695, 5)"
      ]
     },
     "execution_count": 12,
     "metadata": {},
     "output_type": "execute_result"
    }
   ],
   "source": [
    "users.shape"
   ]
  },
  {
   "cell_type": "code",
   "execution_count": 13,
   "metadata": {},
   "outputs": [],
   "source": [
    "#drop empty column and CleverCogsUserId\n",
    "users = users.drop(users.columns[users.columns.str.contains('unnamed',case = False)],axis = 1)\n",
    "users = users.drop(columns=['CleverCogsUserId'])"
   ]
  },
  {
   "cell_type": "code",
   "execution_count": 14,
   "metadata": {},
   "outputs": [],
   "source": [
    "#delete empty row\n",
    "users = users.dropna(axis=0, how='all', inplace=False)"
   ]
  },
  {
   "cell_type": "code",
   "execution_count": 15,
   "metadata": {},
   "outputs": [
    {
     "data": {
      "text/html": [
       "<div>\n",
       "<style scoped>\n",
       "    .dataframe tbody tr th:only-of-type {\n",
       "        vertical-align: middle;\n",
       "    }\n",
       "\n",
       "    .dataframe tbody tr th {\n",
       "        vertical-align: top;\n",
       "    }\n",
       "\n",
       "    .dataframe thead th {\n",
       "        text-align: right;\n",
       "    }\n",
       "</style>\n",
       "<table border=\"1\" class=\"dataframe\">\n",
       "  <thead>\n",
       "    <tr style=\"text-align: right;\">\n",
       "      <th></th>\n",
       "      <th>ExternalID</th>\n",
       "      <th>BirthDate</th>\n",
       "      <th>Gender</th>\n",
       "      <th>Condition</th>\n",
       "    </tr>\n",
       "  </thead>\n",
       "  <tbody>\n",
       "    <tr>\n",
       "      <th>0</th>\n",
       "      <td>4703</td>\n",
       "      <td>04/07/1965</td>\n",
       "      <td>F</td>\n",
       "      <td>Spina Bifida</td>\n",
       "    </tr>\n",
       "    <tr>\n",
       "      <th>1</th>\n",
       "      <td>4704</td>\n",
       "      <td>21/06/1940</td>\n",
       "      <td>F</td>\n",
       "      <td>COPD</td>\n",
       "    </tr>\n",
       "    <tr>\n",
       "      <th>2</th>\n",
       "      <td>4706</td>\n",
       "      <td>25/02/1931</td>\n",
       "      <td>F</td>\n",
       "      <td>Dementia</td>\n",
       "    </tr>\n",
       "    <tr>\n",
       "      <th>3</th>\n",
       "      <td>4707</td>\n",
       "      <td>18/09/1982</td>\n",
       "      <td>F</td>\n",
       "      <td>Brain Injury</td>\n",
       "    </tr>\n",
       "    <tr>\n",
       "      <th>4</th>\n",
       "      <td>4708</td>\n",
       "      <td>20/12/1931</td>\n",
       "      <td>F</td>\n",
       "      <td>NaN</td>\n",
       "    </tr>\n",
       "  </tbody>\n",
       "</table>\n",
       "</div>"
      ],
      "text/plain": [
       "   ExternalID   BirthDate Gender     Condition\n",
       "0        4703  04/07/1965      F  Spina Bifida\n",
       "1        4704  21/06/1940      F          COPD\n",
       "2        4706  25/02/1931      F      Dementia\n",
       "3        4707  18/09/1982      F  Brain Injury\n",
       "4        4708  20/12/1931      F           NaN"
      ]
     },
     "execution_count": 15,
     "metadata": {},
     "output_type": "execute_result"
    }
   ],
   "source": [
    "#change ExternalID into integers\n",
    "users['ExternalID'] = users['ExternalID'].apply(np.int64)\n",
    "users.head()"
   ]
  },
  {
   "cell_type": "code",
   "execution_count": 16,
   "metadata": {},
   "outputs": [
    {
     "data": {
      "text/plain": [
       "(680, 4)"
      ]
     },
     "execution_count": 16,
     "metadata": {},
     "output_type": "execute_result"
    }
   ],
   "source": [
    "#drop duplicates\n",
    "users = users.drop_duplicates(subset = ['ExternalID'], keep='last')\n",
    "users.shape"
   ]
  },
  {
   "cell_type": "code",
   "execution_count": 17,
   "metadata": {},
   "outputs": [
    {
     "data": {
      "text/html": [
       "<div>\n",
       "<style scoped>\n",
       "    .dataframe tbody tr th:only-of-type {\n",
       "        vertical-align: middle;\n",
       "    }\n",
       "\n",
       "    .dataframe tbody tr th {\n",
       "        vertical-align: top;\n",
       "    }\n",
       "\n",
       "    .dataframe thead th {\n",
       "        text-align: right;\n",
       "    }\n",
       "</style>\n",
       "<table border=\"1\" class=\"dataframe\">\n",
       "  <thead>\n",
       "    <tr style=\"text-align: right;\">\n",
       "      <th></th>\n",
       "      <th>ExternalID</th>\n",
       "      <th>BirthDate</th>\n",
       "      <th>Gender</th>\n",
       "      <th>Condition</th>\n",
       "    </tr>\n",
       "    <tr>\n",
       "      <th>BirthDate</th>\n",
       "      <th></th>\n",
       "      <th></th>\n",
       "      <th></th>\n",
       "      <th></th>\n",
       "    </tr>\n",
       "  </thead>\n",
       "  <tbody>\n",
       "    <tr>\n",
       "      <th>1965-07-04</th>\n",
       "      <td>4703</td>\n",
       "      <td>1965-07-04</td>\n",
       "      <td>F</td>\n",
       "      <td>Spina Bifida</td>\n",
       "    </tr>\n",
       "    <tr>\n",
       "      <th>1940-06-21</th>\n",
       "      <td>4704</td>\n",
       "      <td>1940-06-21</td>\n",
       "      <td>F</td>\n",
       "      <td>COPD</td>\n",
       "    </tr>\n",
       "    <tr>\n",
       "      <th>1931-02-25</th>\n",
       "      <td>4706</td>\n",
       "      <td>1931-02-25</td>\n",
       "      <td>F</td>\n",
       "      <td>Dementia</td>\n",
       "    </tr>\n",
       "    <tr>\n",
       "      <th>1982-09-18</th>\n",
       "      <td>4707</td>\n",
       "      <td>1982-09-18</td>\n",
       "      <td>F</td>\n",
       "      <td>Brain Injury</td>\n",
       "    </tr>\n",
       "    <tr>\n",
       "      <th>1931-12-20</th>\n",
       "      <td>4708</td>\n",
       "      <td>1931-12-20</td>\n",
       "      <td>F</td>\n",
       "      <td>NaN</td>\n",
       "    </tr>\n",
       "  </tbody>\n",
       "</table>\n",
       "</div>"
      ],
      "text/plain": [
       "            ExternalID  BirthDate Gender     Condition\n",
       "BirthDate                                             \n",
       "1965-07-04        4703 1965-07-04      F  Spina Bifida\n",
       "1940-06-21        4704 1940-06-21      F          COPD\n",
       "1931-02-25        4706 1931-02-25      F      Dementia\n",
       "1982-09-18        4707 1982-09-18      F  Brain Injury\n",
       "1931-12-20        4708 1931-12-20      F           NaN"
      ]
     },
     "execution_count": 17,
     "metadata": {},
     "output_type": "execute_result"
    }
   ],
   "source": [
    "#change BirthDate to date time\n",
    "#users['BirthDate'] = pd.to_datetime(users['BirthDate'], format = \"%m/%d/%y\", dayfirst=False, utc=True)\n",
    "\n",
    "users['BirthDate'] = pd.to_datetime(users['BirthDate'], errors='coerce', dayfirst=False, yearfirst=False, \n",
    "                   format=\"%d/%m/%Y\", utc=False, infer_datetime_format=False, origin='unix')\n",
    "users = users.set_index(pd.DatetimeIndex(users['BirthDate']))\n",
    "\n",
    "#Remove erroneous entries\n",
    "threshold = pd.to_datetime(\"2010-01-01\", format=\"%Y-%m-%d\", utc=False, origin='unix')\n",
    "users = users[users['BirthDate'] < threshold]\n",
    "\n",
    "users.head()"
   ]
  },
  {
   "cell_type": "code",
   "execution_count": 18,
   "metadata": {},
   "outputs": [],
   "source": [
    "now = pd.to_datetime(date.today())\n",
    "\n",
    "def getYears(start):\n",
    "    diff = relativedelta(now, start)\n",
    "    return diff.years\n",
    "\n",
    "# Add a new column that contains the age of the user\n",
    "users[\"Age\"] = users['BirthDate'].map(getYears)"
   ]
  },
  {
   "cell_type": "code",
   "execution_count": 19,
   "metadata": {},
   "outputs": [
    {
     "data": {
      "text/plain": [
       "(672, 5)"
      ]
     },
     "execution_count": 19,
     "metadata": {},
     "output_type": "execute_result"
    }
   ],
   "source": [
    "users.head()\n",
    "users.shape"
   ]
  },
  {
   "cell_type": "markdown",
   "metadata": {},
   "source": [
    "# Generate Network\n",
    "\n",
    "This file will generate a JSON file that includes all LinkTitles as nodes, coloured by clusters of LinkTypes. \n",
    "\n",
    "```Node: id, label, numberOfTraffic, timeSpent```\n",
    "\n",
    "The edges will represent each line of traffic. \n",
    "\n",
    "```Edge: id, label, userId, age bucket, startNodeId, endNodeId, date, time, prevDate, prevTime```\n"
   ]
  },
  {
   "cell_type": "code",
   "execution_count": 20,
   "metadata": {},
   "outputs": [
    {
     "data": {
      "text/html": [
       "<div>\n",
       "<style scoped>\n",
       "    .dataframe tbody tr th:only-of-type {\n",
       "        vertical-align: middle;\n",
       "    }\n",
       "\n",
       "    .dataframe tbody tr th {\n",
       "        vertical-align: top;\n",
       "    }\n",
       "\n",
       "    .dataframe thead th {\n",
       "        text-align: right;\n",
       "    }\n",
       "</style>\n",
       "<table border=\"1\" class=\"dataframe\">\n",
       "  <thead>\n",
       "    <tr style=\"text-align: right;\">\n",
       "      <th></th>\n",
       "      <th>Time</th>\n",
       "      <th>ExternalID</th>\n",
       "      <th>Role</th>\n",
       "      <th>Building</th>\n",
       "      <th>City</th>\n",
       "      <th>LinkTitle</th>\n",
       "      <th>LinkType</th>\n",
       "      <th>BirthDate</th>\n",
       "      <th>Gender</th>\n",
       "      <th>Condition</th>\n",
       "      <th>Age</th>\n",
       "      <th>AgeRange</th>\n",
       "    </tr>\n",
       "  </thead>\n",
       "  <tbody>\n",
       "    <tr>\n",
       "      <th>0</th>\n",
       "      <td>2018-10-29 10:41:00</td>\n",
       "      <td>5541</td>\n",
       "      <td>User</td>\n",
       "      <td>STH Ayshire St Leonards</td>\n",
       "      <td>Ayr</td>\n",
       "      <td>YouTube</td>\n",
       "      <td>Internet</td>\n",
       "      <td>1954-02-18</td>\n",
       "      <td>M</td>\n",
       "      <td>Cerebral Palsy</td>\n",
       "      <td>64</td>\n",
       "      <td>60</td>\n",
       "    </tr>\n",
       "    <tr>\n",
       "      <th>1</th>\n",
       "      <td>2018-10-29 10:39:00</td>\n",
       "      <td>5541</td>\n",
       "      <td>User</td>\n",
       "      <td>STH Ayshire St Leonards</td>\n",
       "      <td>Ayr</td>\n",
       "      <td>YouTube</td>\n",
       "      <td>Internet</td>\n",
       "      <td>1954-02-18</td>\n",
       "      <td>M</td>\n",
       "      <td>Cerebral Palsy</td>\n",
       "      <td>64</td>\n",
       "      <td>60</td>\n",
       "    </tr>\n",
       "    <tr>\n",
       "      <th>2</th>\n",
       "      <td>2018-10-29 10:38:00</td>\n",
       "      <td>5541</td>\n",
       "      <td>User</td>\n",
       "      <td>STH Ayshire St Leonards</td>\n",
       "      <td>Ayr</td>\n",
       "      <td>YouTube</td>\n",
       "      <td>Internet</td>\n",
       "      <td>1954-02-18</td>\n",
       "      <td>M</td>\n",
       "      <td>Cerebral Palsy</td>\n",
       "      <td>64</td>\n",
       "      <td>60</td>\n",
       "    </tr>\n",
       "    <tr>\n",
       "      <th>3</th>\n",
       "      <td>2018-10-29 10:33:00</td>\n",
       "      <td>5541</td>\n",
       "      <td>User</td>\n",
       "      <td>STH Ayshire St Leonards</td>\n",
       "      <td>Ayr</td>\n",
       "      <td>YouTube</td>\n",
       "      <td>Internet</td>\n",
       "      <td>1954-02-18</td>\n",
       "      <td>M</td>\n",
       "      <td>Cerebral Palsy</td>\n",
       "      <td>64</td>\n",
       "      <td>60</td>\n",
       "    </tr>\n",
       "    <tr>\n",
       "      <th>4</th>\n",
       "      <td>2018-10-29 10:00:00</td>\n",
       "      <td>5541</td>\n",
       "      <td>User</td>\n",
       "      <td>STH Ayshire St Leonards</td>\n",
       "      <td>Ayr</td>\n",
       "      <td>YouTube</td>\n",
       "      <td>Internet</td>\n",
       "      <td>1954-02-18</td>\n",
       "      <td>M</td>\n",
       "      <td>Cerebral Palsy</td>\n",
       "      <td>64</td>\n",
       "      <td>60</td>\n",
       "    </tr>\n",
       "  </tbody>\n",
       "</table>\n",
       "</div>"
      ],
      "text/plain": [
       "                 Time  ExternalID  Role                 Building City  \\\n",
       "0 2018-10-29 10:41:00        5541  User  STH Ayshire St Leonards  Ayr   \n",
       "1 2018-10-29 10:39:00        5541  User  STH Ayshire St Leonards  Ayr   \n",
       "2 2018-10-29 10:38:00        5541  User  STH Ayshire St Leonards  Ayr   \n",
       "3 2018-10-29 10:33:00        5541  User  STH Ayshire St Leonards  Ayr   \n",
       "4 2018-10-29 10:00:00        5541  User  STH Ayshire St Leonards  Ayr   \n",
       "\n",
       "  LinkTitle  LinkType  BirthDate Gender       Condition  Age  AgeRange  \n",
       "0   YouTube  Internet 1954-02-18      M  Cerebral Palsy   64        60  \n",
       "1   YouTube  Internet 1954-02-18      M  Cerebral Palsy   64        60  \n",
       "2   YouTube  Internet 1954-02-18      M  Cerebral Palsy   64        60  \n",
       "3   YouTube  Internet 1954-02-18      M  Cerebral Palsy   64        60  \n",
       "4   YouTube  Internet 1954-02-18      M  Cerebral Palsy   64        60  "
      ]
     },
     "execution_count": 20,
     "metadata": {},
     "output_type": "execute_result"
    }
   ],
   "source": [
    "# Merge data and user on external id\n",
    "data.ExternalID = (data.ExternalID.fillna(0)).astype(dtype='int64')\n",
    "dataUserInner = pd.merge(data, users, on =\"ExternalID\", how=\"inner\")\n",
    "\n",
    "\n",
    "# create age buckets\n",
    "\n",
    "def getAgeBucket(age):\n",
    "    start = int(age/10)*10\n",
    "    if age < start+5:\n",
    "#         return (str(start) + '-' + str(start+5))\n",
    "        return start\n",
    "    else:\n",
    "#         return (str(start+5) + '-' + str(start+10))\n",
    "        return start+5\n",
    "\n",
    "\n",
    "dataUserInner[\"AgeRange\"] = dataUserInner['Age'].map(getAgeBucket)\n",
    "\n",
    "# dataZero = dataUserInner[dataUserInner[\"ExternalID\"] == 0]\n",
    "# dataZero.head()\n",
    "\n",
    "dataUserInner.head()\n"
   ]
  },
  {
   "cell_type": "code",
   "execution_count": 21,
   "metadata": {},
   "outputs": [],
   "source": [
    "# Sort by user to  allow linear processing\n",
    "dataUserInner.sort_values(['ExternalID', 'Time'], ascending=[True, True], inplace=True)"
   ]
  },
  {
   "cell_type": "code",
   "execution_count": 24,
   "metadata": {},
   "outputs": [
    {
     "data": {
      "text/html": [
       "<div>\n",
       "<style scoped>\n",
       "    .dataframe tbody tr th:only-of-type {\n",
       "        vertical-align: middle;\n",
       "    }\n",
       "\n",
       "    .dataframe tbody tr th {\n",
       "        vertical-align: top;\n",
       "    }\n",
       "\n",
       "    .dataframe thead th {\n",
       "        text-align: right;\n",
       "    }\n",
       "</style>\n",
       "<table border=\"1\" class=\"dataframe\">\n",
       "  <thead>\n",
       "    <tr style=\"text-align: right;\">\n",
       "      <th></th>\n",
       "      <th>Time</th>\n",
       "      <th>ExternalID</th>\n",
       "      <th>Role</th>\n",
       "      <th>Building</th>\n",
       "      <th>City</th>\n",
       "      <th>LinkTitle</th>\n",
       "      <th>LinkType</th>\n",
       "      <th>BirthDate</th>\n",
       "      <th>Gender</th>\n",
       "      <th>Condition</th>\n",
       "      <th>Age</th>\n",
       "      <th>AgeRange</th>\n",
       "    </tr>\n",
       "  </thead>\n",
       "  <tbody>\n",
       "    <tr>\n",
       "      <th>71133</th>\n",
       "      <td>2018-01-13 09:45:00</td>\n",
       "      <td>4703</td>\n",
       "      <td>User</td>\n",
       "      <td>Charleston</td>\n",
       "      <td>Dundee (Tayside)</td>\n",
       "      <td>Keys To Life</td>\n",
       "      <td>Internet</td>\n",
       "      <td>1965-07-04</td>\n",
       "      <td>F</td>\n",
       "      <td>Spina Bifida</td>\n",
       "      <td>53</td>\n",
       "      <td>50</td>\n",
       "    </tr>\n",
       "    <tr>\n",
       "      <th>71134</th>\n",
       "      <td>2018-01-13 09:45:00</td>\n",
       "      <td>4703</td>\n",
       "      <td>User</td>\n",
       "      <td>Charleston</td>\n",
       "      <td>Dundee (Tayside)</td>\n",
       "      <td>Health &amp; Wellbeing</td>\n",
       "      <td>Category</td>\n",
       "      <td>1965-07-04</td>\n",
       "      <td>F</td>\n",
       "      <td>Spina Bifida</td>\n",
       "      <td>53</td>\n",
       "      <td>50</td>\n",
       "    </tr>\n",
       "    <tr>\n",
       "      <th>71135</th>\n",
       "      <td>2018-01-13 09:45:00</td>\n",
       "      <td>4703</td>\n",
       "      <td>User</td>\n",
       "      <td>Charleston</td>\n",
       "      <td>Dundee (Tayside)</td>\n",
       "      <td>Information</td>\n",
       "      <td>Category</td>\n",
       "      <td>1965-07-04</td>\n",
       "      <td>F</td>\n",
       "      <td>Spina Bifida</td>\n",
       "      <td>53</td>\n",
       "      <td>50</td>\n",
       "    </tr>\n",
       "    <tr>\n",
       "      <th>71129</th>\n",
       "      <td>2018-01-20 20:29:00</td>\n",
       "      <td>4703</td>\n",
       "      <td>User</td>\n",
       "      <td>Charleston</td>\n",
       "      <td>Dundee (Tayside)</td>\n",
       "      <td>Sudoku</td>\n",
       "      <td>Internet</td>\n",
       "      <td>1965-07-04</td>\n",
       "      <td>F</td>\n",
       "      <td>Spina Bifida</td>\n",
       "      <td>53</td>\n",
       "      <td>50</td>\n",
       "    </tr>\n",
       "    <tr>\n",
       "      <th>71130</th>\n",
       "      <td>2018-01-20 20:29:00</td>\n",
       "      <td>4703</td>\n",
       "      <td>User</td>\n",
       "      <td>Charleston</td>\n",
       "      <td>Dundee (Tayside)</td>\n",
       "      <td>Single Player Games</td>\n",
       "      <td>Category</td>\n",
       "      <td>1965-07-04</td>\n",
       "      <td>F</td>\n",
       "      <td>Spina Bifida</td>\n",
       "      <td>53</td>\n",
       "      <td>50</td>\n",
       "    </tr>\n",
       "  </tbody>\n",
       "</table>\n",
       "</div>"
      ],
      "text/plain": [
       "                     Time  ExternalID  Role    Building              City  \\\n",
       "71133 2018-01-13 09:45:00        4703  User  Charleston  Dundee (Tayside)   \n",
       "71134 2018-01-13 09:45:00        4703  User  Charleston  Dundee (Tayside)   \n",
       "71135 2018-01-13 09:45:00        4703  User  Charleston  Dundee (Tayside)   \n",
       "71129 2018-01-20 20:29:00        4703  User  Charleston  Dundee (Tayside)   \n",
       "71130 2018-01-20 20:29:00        4703  User  Charleston  Dundee (Tayside)   \n",
       "\n",
       "                 LinkTitle  LinkType  BirthDate Gender     Condition  Age  \\\n",
       "71133         Keys To Life  Internet 1965-07-04      F  Spina Bifida   53   \n",
       "71134  Health & Wellbeing   Category 1965-07-04      F  Spina Bifida   53   \n",
       "71135          Information  Category 1965-07-04      F  Spina Bifida   53   \n",
       "71129               Sudoku  Internet 1965-07-04      F  Spina Bifida   53   \n",
       "71130  Single Player Games  Category 1965-07-04      F  Spina Bifida   53   \n",
       "\n",
       "       AgeRange  \n",
       "71133        50  \n",
       "71134        50  \n",
       "71135        50  \n",
       "71129        50  \n",
       "71130        50  "
      ]
     },
     "execution_count": 24,
     "metadata": {},
     "output_type": "execute_result"
    }
   ],
   "source": [
    "dataUserInner.head()"
   ]
  },
  {
   "cell_type": "code",
   "execution_count": 70,
   "metadata": {},
   "outputs": [],
   "source": [
    "# Iterate through file and process nodes and edges. Assign each distinct user a new id.\n",
    "\n",
    "# Node: id, label, traffic, timeSpent, start, type\n",
    "# Edge: id, label, userId, age bucket, startNodeId, endNodeId, timeDiff, pathId, end\n",
    "\n",
    "\n",
    "# calculate timespent by adding the timediff to a time diff array at the node. Can then be used to \n",
    "# calculate averages or sum\n",
    "links = {}\n",
    "\n",
    "nodes = {}\n",
    "edges = {}\n",
    "\n",
    "threshold = 2 #hours\n",
    "currentNodeId = 0\n",
    "currentEdgeId = 0\n",
    "currentUserId = 0\n",
    "currentPathId = 0\n",
    "\n",
    "prevUser = 0\n",
    "prevTime = 0\n",
    "\n",
    "\n",
    "node = {}\n",
    "edge = {}\n",
    "for index, row in dataUserInner.iterrows():\n",
    "    # check if the same user\n",
    "    if prevTime == 0: \n",
    "        prevTime = row.Time\n",
    "    else: \n",
    "        timeDiff = row.Time - prevTime\n",
    "        #print(timeDiff.total_seconds())\n",
    "        \n",
    "        \n",
    "    if row.ExternalID != prevUser:\n",
    "        if edge: \n",
    "            edge[\"end\"] = True\n",
    "            currentPathId+=1\n",
    "        prevUser = row.ExternalID\n",
    "        currentUserId += 1\n",
    "    \n",
    "    # check if time threshold\n",
    "    elif timeDiff.total_seconds() > (2 * 60 * 60): \n",
    "        # start new path\n",
    "        # check if previous edge needs finishing\n",
    "        if edge: \n",
    "            edge[\"end\"] = True\n",
    "            currentPathId+=1\n",
    "    \n",
    "\n",
    "    # set up new start node and edge\n",
    "    # check if this link already in node\n",
    "    nodeId = 0\n",
    "    nodeTraffic = 0\n",
    "    if row.LinkTitle in links: \n",
    "        # this node already exists and if so update it with the traffic\n",
    "        nodeId, nodeTraffic = links[row.LinkTitle]\n",
    "        links[row.LinkTitle] = (nodeId, nodeTraffic+1)\n",
    "        nodes[nodeId][\"traffic\"] = nodeTraffic+1\n",
    "    else: \n",
    "        #create new node\n",
    "        nodeId = currentNodeId\n",
    "        currentNodeId+=1\n",
    "        node = {\"id\":nodeId, \"label\": row.LinkTitle, \"traffic\":1, \"type\": row.LinkType, \"timeDiffs\": []}\n",
    "        links[row.LinkTitle] = (nodeId, 1)\n",
    "        nodes[nodeId] = node\n",
    "    \n",
    "    if edge: \n",
    "        edge[\"timeDiff\"] = timeDiff.total_seconds()\n",
    "        edge[\"endNode\"] = nodeId\n",
    "        edges[currentEdgeId] = edge\n",
    "        nodes[edge[\"startNode\"]][\"timeDiffs\"].append(timeDiff.total_seconds())\n",
    "        currentEdgeId += 1\n",
    "        edge = {}\n",
    "\n",
    "    #create edge\n",
    "    prevTime = row.Time\n",
    "    edge = {\"id\": currentEdgeId, \"userId\":currentUserId, \"age\": row.AgeRange, \n",
    "             \"startNode\": nodeId, \"pathId\": currentPathId}\n",
    "    node = {}\n"
   ]
  },
  {
   "cell_type": "code",
   "execution_count": 71,
   "metadata": {},
   "outputs": [],
   "source": [
    "nodesList = []\n",
    "edgesList = []\n",
    "\n",
    "for key, value in nodes.items():\n",
    "    nodesList.append(value)\n",
    "\n",
    "for key, value in edges.items(): \n",
    "    edgesList.append(value)"
   ]
  },
  {
   "cell_type": "code",
   "execution_count": 72,
   "metadata": {},
   "outputs": [
    {
     "name": "stdout",
     "output_type": "stream",
     "text": [
      "node: \n",
      "{'id': 0, 'label': 'Keys To Life', 'traffic': 22, 'type': 'Internet', 'timeDiffs': [0.0, 60.0, 960.0, 0.0, 60.0, 604740.0, 0.0, 0.0, 0.0, 0.0, 0.0, 0.0, 0.0, 0.0, 0.0, 0.0, 0.0, 0.0, 420.0, 60.0, 480.0, 120.0]}\n",
      "edges: \n",
      "{'id': 0, 'userId': 1, 'age': 50, 'startNode': 0, 'pathId': 0, 'timeDiff': 0.0, 'endNode': 1}\n",
      "478\n",
      "71731\n"
     ]
    }
   ],
   "source": [
    "# difference in seconds (b-a).total_seconds()\n",
    "\n",
    "# for i in range(0,10):\n",
    "#     print(nodes[i])\n",
    "    \n",
    "\n",
    "# for i in range(0,30):\n",
    "#     print(edges[i])\n",
    "\n",
    "#print(edges[500])\n",
    "    \n",
    "print(\"node: \"),\n",
    "print(nodesList[0])\n",
    "\n",
    "print(\"edges: \"),\n",
    "print(edgesList[0])\n",
    "    \n",
    "print(len(nodes))\n",
    "print(len(edges))"
   ]
  },
  {
   "cell_type": "code",
   "execution_count": 73,
   "metadata": {},
   "outputs": [],
   "source": [
    "edgesJson = json.dumps(edgesList)\n",
    "nodesJson = json.dumps(nodesList)\n",
    "graph = {\"links\": edges, \"nodes\": nodes}"
   ]
  },
  {
   "cell_type": "code",
   "execution_count": 74,
   "metadata": {},
   "outputs": [],
   "source": [
    "with open('nodes.json', 'w') as outfile:\n",
    "    json.dump(nodesJson, outfile)\n",
    "    "
   ]
  },
  {
   "cell_type": "code",
   "execution_count": 75,
   "metadata": {},
   "outputs": [],
   "source": [
    "with open('edges.json', 'w') as outfile:\n",
    "    json.dump(edgesJson, outfile)"
   ]
  },
  {
   "cell_type": "code",
   "execution_count": 76,
   "metadata": {},
   "outputs": [],
   "source": [
    "with open('graph.json', 'w') as outfile:\n",
    "    json.dump(graph, outfile)"
   ]
  },
  {
   "cell_type": "code",
   "execution_count": 77,
   "metadata": {},
   "outputs": [],
   "source": [
    "# #Iterate through file and process nodes and edges. Assign each distinct user a new id.\n",
    "\n",
    "# #Node: id, label, traffic, timeSpent, start, type\n",
    "# #Edge: id, label, userId, age bucket, startNodeId, endNodeId, timeDiff, pathId, end\n",
    "\n",
    "\n",
    "# #calculate timespent by adding the timediff to a time diff array at the node. Can then be used to \n",
    "# #calculate averages or sum\n",
    "# links = {}\n",
    "\n",
    "# nodes = {}\n",
    "# edges = {}\n",
    "\n",
    "# threshold = 2 #hours\n",
    "# currentNodeId = 0\n",
    "# currentEdgeId = 0\n",
    "# currentUserId = 0\n",
    "# currentPathId = 0\n",
    "\n",
    "# prevUser = 0\n",
    "# prevTime = 0\n",
    "\n",
    "\n",
    "# node = {}\n",
    "# edge = {}\n",
    "# for index, row in dataUserInner.iterrows():\n",
    "#     # check if the same user\n",
    "#     if prevTime == 0: \n",
    "#         prevTime = row.Time\n",
    "#     else: \n",
    "#         timeDiff = row.Time - prevTime\n",
    "#         #print(timeDiff.total_seconds())\n",
    "        \n",
    "#     if row.ExternalID != prevUser:\n",
    "#         if edge: \n",
    "#             edge[\"end\"] = True\n",
    "#             currentPathId+=1\n",
    "#         prevUser = row.ExternalID\n",
    "#         currentUserId += 1\n",
    "    \n",
    "#     # check if time threshold\n",
    "#     elif timeDiff.total_seconds() > (2 * 60 * 60): \n",
    "#         # start new path\n",
    "#         # check if previous edge needs finishing\n",
    "#         if edge: \n",
    "#             edge[\"end\"] = True\n",
    "#             currentPathId+=1\n",
    "    \n",
    "\n",
    "#     # set up new start node and edge\n",
    "#     # check if this link already in node\n",
    "#     nodeLabel = row.LinkTitle\n",
    "#     nodeTraffic = 0\n",
    "#     if row.LinkTitle in links: \n",
    "#         # this node already exists and if so update it with the traffic\n",
    "#         links[nodeLabel] +=1\n",
    "#         nodeTraffic = links[nodeLabel]\n",
    "#         nodes[nodeLabel][\"traffic\"] = nodeTraffic\n",
    "#     else: \n",
    "#         #create new node\n",
    "#         node = {\"label\": row.LinkTitle, \"traffic\":1, \"type\": row.LinkType, \"timeDiffs\": []}\n",
    "#         links[nodeLabel] = 1\n",
    "#         nodes[nodeLabel] = node\n",
    "    \n",
    "#     if edge: \n",
    "#         edge[\"timeDiff\"] = timeDiff.total_seconds()\n",
    "#         edge[\"endNode\"] = nodeLabel\n",
    "#         edges[currentEdgeId] = edge\n",
    "#         nodes[edge[\"startNode\"]][\"timeDiffs\"].append(timeDiff.total_seconds())\n",
    "#         currentEdgeId += 1\n",
    "#         edge = {}\n",
    "\n",
    "#     #create edge\n",
    "#     prevTime = row.Time\n",
    "#     edge = {\"id\": currentEdgeId, \"userId\":currentUserId, \"age\": row.AgeRange, \n",
    "#              \"startNode\": nodeLabel, \"pathId\": currentPathId}\n",
    "#     node = {}\n"
   ]
  },
  {
   "cell_type": "code",
   "execution_count": 78,
   "metadata": {},
   "outputs": [
    {
     "name": "stdout",
     "output_type": "stream",
     "text": [
      "{'id': 0, 'userId': 1, 'age': 50, 'startNode': 0, 'pathId': 0, 'timeDiff': 0.0, 'endNode': 1}\n",
      "{'id': 1, 'userId': 1, 'age': 50, 'startNode': 1, 'pathId': 0, 'timeDiff': 0.0, 'endNode': 2}\n",
      "{'id': 2, 'userId': 1, 'age': 50, 'startNode': 2, 'pathId': 0, 'end': True, 'timeDiff': 643440.0, 'endNode': 3}\n",
      "{'id': 3, 'userId': 1, 'age': 50, 'startNode': 3, 'pathId': 1, 'timeDiff': 0.0, 'endNode': 4}\n",
      "{'id': 4, 'userId': 1, 'age': 50, 'startNode': 4, 'pathId': 1, 'timeDiff': 0.0, 'endNode': 5}\n",
      "{'id': 5, 'userId': 1, 'age': 50, 'startNode': 5, 'pathId': 1, 'timeDiff': 0.0, 'endNode': 6}\n",
      "{'id': 6, 'userId': 1, 'age': 50, 'startNode': 6, 'pathId': 1, 'timeDiff': 240.0, 'endNode': 7}\n",
      "{'id': 7, 'userId': 1, 'age': 50, 'startNode': 7, 'pathId': 1, 'timeDiff': 60.0, 'endNode': 8}\n",
      "{'id': 8, 'userId': 1, 'age': 50, 'startNode': 8, 'pathId': 1, 'end': True, 'timeDiff': 208140.0, 'endNode': 9}\n",
      "{'id': 9, 'userId': 1, 'age': 50, 'startNode': 9, 'pathId': 2, 'timeDiff': 0.0, 'endNode': 4}\n",
      "478\n"
     ]
    }
   ],
   "source": [
    "for i in range(0,10):\n",
    "    print(edges[i])\n",
    "    \n",
    "print(len(nodes))\n",
    "\n"
   ]
  },
  {
   "cell_type": "code",
   "execution_count": 33,
   "metadata": {},
   "outputs": [],
   "source": [
    "# nList = []\n",
    "# eList = []\n",
    "# ed = {}\n",
    "# allnodes=[]\n",
    "\n",
    "# for key, value in nodes.items():\n",
    "#     if value[\"traffic\"] > 50:\n",
    "#         nList.append({\"id\": value[\"label\"], \"group\": value[\"type\"], \"traffic\": value[\"traffic\"]})\n",
    "#         allnodes.append(value[\"label\"])\n",
    "\n",
    "# for key, value in edges.items():\n",
    "#     if value[\"timeDiff\"] > 2*60*60 and (value[\"startNode\"] in allnodes) and (value[\"endNode\"] in allnodes):\n",
    "#         ekey = str(value[\"startNode\"]) + \"_\" + str(value[\"endNode\"])\n",
    "#         if ekey in ed:\n",
    "#             ed[ekey] +=1\n",
    "#         else:\n",
    "#             ed[ekey] = 1\n",
    "#     else: \n",
    "#         continue\n",
    "    \n",
    "# for key, value in ed.items():\n",
    "#     start, end = key.split(\"_\")\n",
    "#     eList.append({\"source\": start, \"target\": end, \"value\": value})"
   ]
  },
  {
   "cell_type": "code",
   "execution_count": 91,
   "metadata": {},
   "outputs": [],
   "source": [
    "nList = []\n",
    "eList = []\n",
    "ed = {}\n",
    "allnodes={}\n",
    "\n",
    "currentId = 0\n",
    "for key, value in nodes.items():\n",
    "    if value[\"traffic\"] > 50:\n",
    "        nList.append({\"id\": currentId, 'label': value[\"label\"], \"group\": value[\"type\"], \"traffic\": value[\"traffic\"]})\n",
    "        allnodes[value[\"id\"]] = currentId\n",
    "        currentId +=1\n",
    "\n",
    "for key, value in edges.items():\n",
    "    if value[\"timeDiff\"] > 2*60*60 and (value[\"startNode\"] in allnodes) and (value[\"endNode\"] in allnodes):\n",
    "        ekey = str(value[\"startNode\"]) + \"_\" + str(value[\"endNode\"])\n",
    "        if ekey in ed:\n",
    "            ed[ekey] +=1\n",
    "        else:\n",
    "            ed[ekey] = 1\n",
    "    else: \n",
    "        continue\n",
    "        \n",
    "tracked =[]\n",
    "currentId = 0\n",
    "for key, value in edges.items(): \n",
    "    if value[\"timeDiff\"] > 2*60*60 and (value[\"startNode\"] in allnodes) and (value[\"endNode\"] in allnodes):\n",
    "        ekey = str(value[\"startNode\"]) + \"_\" + str(value[\"endNode\"])\n",
    "        if ekey in ed and ekey not in tracked: \n",
    "            eList.append({\"id\": currentId, \"source\": allnodes[value[\"startNode\"]], \n",
    "                          \"target\": allnodes[value[\"endNode\"]],\n",
    "                         'value': ed[ekey]})\n",
    "            currentId+=1\n",
    "            tracked.append(ekey)\n",
    "        \n",
    "    \n",
    "# for key, value in ed.items():\n",
    "#     start, end = key.split(\"_\")\n",
    "#     eList.append({\"source\": start, \"target\": end, \"value\": value})"
   ]
  },
  {
   "cell_type": "code",
   "execution_count": 92,
   "metadata": {},
   "outputs": [
    {
     "name": "stdout",
     "output_type": "stream",
     "text": [
      "{'id': 0, 'source': 9, 'target': 8, 'value': 1}\n",
      "{'id': 1, 'source': 8, 'target': 4, 'value': 1}\n",
      "{'id': 2, 'source': 4, 'target': 7, 'value': 39}\n",
      "{'id': 3, 'source': 7, 'target': 4, 'value': 26}\n",
      "{'id': 4, 'source': 4, 'target': 5, 'value': 7}\n",
      "{'id': 5, 'source': 9, 'target': 2, 'value': 2}\n",
      "{'id': 6, 'source': 1, 'target': 10, 'value': 2}\n",
      "{'id': 7, 'source': 16, 'target': 4, 'value': 5}\n",
      "{'id': 8, 'source': 4, 'target': 8, 'value': 9}\n",
      "{'id': 9, 'source': 9, 'target': 1, 'value': 1}\n",
      "{'id': 0, 'label': 'Health & Wellbeing ', 'group': 'Category', 'traffic': 115}\n",
      "{'id': 1, 'label': 'Information', 'group': 'Category', 'traffic': 835}\n",
      "{'id': 2, 'label': 'Single Player Games', 'group': 'Category', 'traffic': 3879}\n",
      "{'id': 3, 'label': 'Play Games', 'group': 'Category', 'traffic': 3887}\n",
      "{'id': 4, 'label': 'Entertainment', 'group': 'Category', 'traffic': 10078}\n",
      "{'id': 5, 'label': 'Mini Golf', 'group': 'Internet', 'traffic': 97}\n",
      "{'id': 6, 'label': 'Family & Friends', 'group': 'Internet', 'traffic': 379}\n",
      "{'id': 7, 'label': 'My Interests', 'group': 'Category', 'traffic': 6740}\n",
      "{'id': 8, 'label': 'Mahjong', 'group': 'Internet', 'traffic': 140}\n",
      "{'id': 9, 'label': 'Candy Crush Soda', 'group': 'Internet', 'traffic': 790}\n",
      "752\n",
      "80\n",
      "752\n",
      "{'Category', 'Internet'}\n"
     ]
    }
   ],
   "source": [
    "\n",
    "for i in range(0,10):\n",
    "    print(eList[i])\n",
    "\n",
    "types = set()\n",
    "for i in range(0,10):\n",
    "    types.add(nList[i][\"group\"])\n",
    "    print(nList[i])\n",
    "    \n",
    "print(len(eList))\n",
    "print(len(nList))\n",
    "print(len(ed))\n",
    "\n",
    "print(types)\n"
   ]
  },
  {
   "cell_type": "code",
   "execution_count": null,
   "metadata": {},
   "outputs": [],
   "source": []
  },
  {
   "cell_type": "code",
   "execution_count": 93,
   "metadata": {},
   "outputs": [],
   "source": [
    "# note neighbours and connected links\n",
    "\n",
    "neighbouring = {}\n",
    "# all neighbours of each node\n",
    "for value in eList:\n",
    "    source = value['source']\n",
    "    if source in neighbouring:\n",
    "        neighbouring[source]['neighbours'].append(value['target'])\n",
    "        neighbouring[source]['outgoing'].append(value['id'])\n",
    "    else: \n",
    "        neighbouring[source] = {'neighbours':[value['target']], 'outgoing': [value['id']]}\n",
    "            \n",
    "#print(neighbouring)\n",
    "\n",
    "        \n"
   ]
  },
  {
   "cell_type": "code",
   "execution_count": 94,
   "metadata": {},
   "outputs": [
    {
     "name": "stdout",
     "output_type": "stream",
     "text": [
      "{9: {'neighbours': [8, 2, 1, 42, 29, 15, 53, 9, 10, 50, 4, 3, 56, 34, 11], 'outgoing': [0, 5, 9, 193, 233, 235, 236, 237, 239, 240, 242, 256, 268, 349, 686]}, 8: {'neighbours': [4, 29, 15, 42, 34, 11, 66, 38], 'outgoing': [1, 60, 321, 333, 337, 355, 390, 409]}, 4: {'neighbours': [7, 5, 8, 21, 18, 19, 4, 9, 13, 23, 1, 15, 26, 14, 29, 42, 43, 41, 45, 44, 2, 46, 22, 36, 6, 49, 32, 10, 55, 53, 52, 40, 50, 3, 39, 61, 57, 58, 63, 34, 64, 17, 11, 38, 65, 66, 68, 69, 33, 56, 59, 70, 72, 71, 74, 16, 73, 20, 25, 75, 67, 76, 31, 27, 30, 51, 47, 24, 28, 79, 54], 'outgoing': [2, 4, 8, 16, 24, 28, 31, 38, 39, 40, 42, 44, 45, 55, 56, 80, 94, 102, 108, 116, 127, 130, 152, 158, 159, 163, 189, 197, 212, 216, 219, 244, 251, 264, 275, 287, 293, 295, 304, 326, 343, 352, 353, 367, 373, 395, 408, 428, 429, 431, 435, 438, 493, 498, 499, 504, 508, 519, 546, 555, 567, 582, 614, 625, 637, 639, 663, 678, 707, 718, 733]}, 7: {'neighbours': [4, 1, 15, 6, 37, 7, 43, 42, 46, 44, 0, 36, 41, 49, 29, 51, 22, 10, 35, 52, 2, 53, 50, 9, 26, 3, 34, 8, 64, 14, 18, 65, 70, 60, 56, 69, 27, 66, 71, 13, 40, 75, 62, 17, 77, 16, 24, 11, 20, 28, 54, 79], 'outgoing': [3, 49, 58, 67, 74, 82, 85, 89, 92, 113, 121, 135, 149, 161, 167, 174, 179, 194, 198, 203, 209, 218, 225, 245, 248, 269, 323, 338, 346, 371, 376, 378, 447, 449, 450, 460, 488, 490, 511, 528, 551, 552, 576, 581, 585, 609, 613, 669, 700, 708, 730, 735]}, 1: {'neighbours': [10, 8, 26, 29, 14, 15, 7, 42, 44, 46, 49, 9, 0, 1, 11, 4, 18, 38, 56, 70, 69, 72, 22, 77, 3, 25, 30, 51, 6, 2, 20, 28], 'outgoing': [6, 10, 47, 50, 51, 62, 64, 93, 114, 124, 181, 274, 318, 320, 359, 364, 374, 407, 443, 453, 477, 523, 542, 601, 623, 633, 635, 643, 670, 673, 677, 716]}, 16: {'neighbours': [4, 18, 21, 13, 12, 14, 41, 42, 29, 22, 27, 7, 31, 15], 'outgoing': [7, 14, 21, 29, 34, 52, 148, 205, 486, 544, 622, 660, 717, 740]}, 18: {'neighbours': [18, 19, 21, 20, 5, 4, 65, 15, 56], 'outgoing': [11, 12, 25, 27, 188, 380, 381, 430, 437]}, 13: {'neighbours': [21, 18, 4, 22, 16, 19, 36, 42, 7, 13, 29, 69, 71, 48, 1], 'outgoing': [13, 22, 26, 30, 32, 37, 156, 207, 322, 422, 424, 476, 524, 616, 632]}, 21: {'neighbours': [21, 4, 18, 19, 16, 13, 20], 'outgoing': [15, 19, 20, 23, 33, 35, 36]}, 20: {'neighbours': [21, 4, 13, 60, 72, 22, 10, 29, 3, 9, 1, 26, 15, 79], 'outgoing': [17, 18, 204, 465, 505, 612, 644, 674, 683, 704, 706, 719, 727, 729]}, 23: {'neighbours': [23, 1, 4, 29, 7, 22, 9], 'outgoing': [41, 383, 384, 579, 617, 618, 693]}, 26: {'neighbours': [4, 15, 26, 7, 14, 54, 28, 13, 16], 'outgoing': [43, 46, 48, 720, 721, 731, 737, 741, 742]}, 6: {'neighbours': [14, 4, 6, 37, 1, 15, 3, 39, 42, 49, 2, 34, 18, 23, 38, 70, 59, 69, 30, 22, 29, 72, 40, 7, 10, 11, 24, 26], 'outgoing': [53, 57, 66, 68, 71, 73, 76, 78, 83, 162, 190, 328, 382, 385, 396, 459, 469, 470, 472, 473, 485, 502, 565, 578, 647, 672, 696, 726]}, 14: {'neighbours': [29, 44, 49, 14, 56, 15, 4, 16], 'outgoing': [54, 115, 170, 434, 441, 722, 748, 751]}, 29: {'neighbours': [29, 4, 1, 49, 7, 37, 15, 42, 13, 3, 9, 39, 48, 8, 38, 66, 2, 68, 22, 43, 6, 27, 62, 23, 77, 30, 28, 25, 16, 24, 11], 'outgoing': [59, 61, 63, 165, 176, 178, 180, 199, 206, 231, 267, 387, 388, 394, 400, 401, 404, 417, 423, 483, 484, 487, 573, 580, 592, 634, 656, 658, 659, 662, 671]}, 3: {'neighbours': [6, 43, 42, 7, 4, 53, 9, 2, 64, 11, 29, 38, 15, 39, 22, 69, 40, 13, 10, 3, 28, 24], 'outgoing': [65, 133, 139, 147, 184, 238, 250, 263, 345, 358, 393, 397, 406, 416, 420, 468, 560, 629, 646, 652, 664, 668]}, 15: {'neighbours': [6, 4, 42, 45, 41, 35, 46, 20, 5, 26, 9, 53, 10, 39, 61, 18, 15, 68, 38, 22, 56, 14, 70, 7, 59, 69, 13, 40, 43, 29, 30, 1, 51, 11, 2, 16, 79, 32, 54, 28, 17], 'outgoing': [69, 79, 105, 137, 143, 153, 155, 185, 186, 228, 241, 253, 270, 281, 299, 377, 389, 411, 413, 415, 432, 440, 452, 457, 462, 474, 478, 554, 557, 590, 608, 640, 641, 667, 676, 695, 725, 732, 734, 743, 744]}, 37: {'neighbours': [37, 6, 49, 7], 'outgoing': [70, 75, 164, 177]}, 25: {'neighbours': [6, 67, 2, 27], 'outgoing': [72, 569, 620, 626]}, 17: {'neighbours': [6, 22, 11, 3, 38, 4, 39, 15], 'outgoing': [77, 254, 357, 361, 399, 402, 418, 638]}, 46: {'neighbours': [42, 46, 41, 4, 44, 5, 43, 15, 40, 75, 3, 67, 7], 'outgoing': [81, 86, 106, 109, 119, 125, 128, 132, 284, 549, 553, 558, 566]}, 45: {'neighbours': [42, 7, 41, 4, 5], 'outgoing': [84, 98, 100, 112, 140]}, 36: {'neighbours': [7, 42, 36, 41], 'outgoing': [87, 91, 141, 146]}, 47: {'neighbours': [42, 11, 4], 'outgoing': [88, 666, 713]}, 43: {'neighbours': [43, 42, 4, 44, 41, 73, 67, 40, 46, 22, 13], 'outgoing': [90, 101, 111, 120, 129, 537, 547, 556, 564, 570, 571]}, 41: {'neighbours': [46, 4, 41, 36, 42, 1], 'outgoing': [95, 103, 104, 136, 142, 144]}, 44: {'neighbours': [46, 41, 42], 'outgoing': [96, 107, 117]}, 42: {'neighbours': [42, 43, 35, 5, 36, 53, 3, 7, 40, 10, 9, 2, 34, 4, 8, 64], 'outgoing': [97, 99, 122, 123, 134, 213, 217, 222, 223, 259, 265, 273, 324, 325, 330, 341]}, 2: {'neighbours': [44, 10, 50, 9, 42, 34, 38, 8, 11, 29, 4, 3, 24, 2, 48], 'outgoing': [110, 196, 232, 243, 266, 348, 356, 362, 363, 403, 680, 685, 691, 692, 712]}, 48: {'neighbours': [42, 1, 48, 7], 'outgoing': [118, 710, 714, 715]}, 31: {'neighbours': [42, 24, 32, 31], 'outgoing': [126, 610, 621, 703]}, 22: {'neighbours': [22, 43, 42, 45, 13, 4, 10, 69, 70, 29, 71, 72, 3, 20, 66, 74, 1, 40, 77, 49, 7, 51, 2, 17], 'outgoing': [131, 145, 150, 151, 154, 157, 247, 475, 481, 482, 527, 529, 534, 536, 539, 540, 545, 572, 584, 589, 598, 602, 619, 631]}, 5: {'neighbours': [42], 'outgoing': [138]}, 49: {'neighbours': [49, 7, 37, 15, 29, 1, 51, 77, 22], 'outgoing': [160, 166, 168, 169, 172, 175, 182, 587, 588]}, 50: {'neighbours': [49, 50, 53, 10, 9, 42, 2], 'outgoing': [171, 226, 229, 230, 246, 249, 255]}, 51: {'neighbours': [49, 29, 22, 77, 7, 51, 4, 15], 'outgoing': [173, 595, 596, 600, 604, 605, 606, 642]}, 10: {'neighbours': [15, 42, 10, 7, 52, 53, 55, 16, 2, 4, 9, 29, 1, 3, 50, 38, 11, 22, 76, 20, 8], 'outgoing': [183, 192, 195, 200, 202, 211, 214, 215, 221, 224, 234, 257, 258, 262, 272, 365, 370, 535, 648, 650, 654]}, 11: {'neighbours': [17, 42, 11, 10, 4, 2, 6, 1, 3, 29, 22, 15], 'outgoing': [187, 227, 354, 649, 651, 653, 665, 675, 682, 684, 687, 705]}, 27: {'neighbours': [4, 16, 15], 'outgoing': [191, 627, 681]}, 53: {'neighbours': [42, 53, 9, 29, 7, 49], 'outgoing': [201, 252, 261, 586, 597, 599]}, 55: {'neighbours': [42, 15, 53], 'outgoing': [208, 220, 260]}, 52: {'neighbours': [42, 9], 'outgoing': [210, 271]}, 39: {'neighbours': [39, 57, 4, 61, 58, 63, 15, 38], 'outgoing': [276, 277, 279, 289, 298, 307, 309, 414]}, 57: {'neighbours': [1, 57, 61, 63], 'outgoing': [278, 280, 291, 316]}, 58: {'neighbours': [40, 57, 61, 39, 4, 58, 15, 63], 'outgoing': [282, 285, 290, 292, 296, 302, 303, 306]}, 40: {'neighbours': [40, 15, 61, 59, 11, 43, 75, 46, 22, 1, 7, 29, 4, 14], 'outgoing': [283, 297, 300, 301, 360, 550, 561, 563, 568, 607, 746, 747, 749, 750]}, 61: {'neighbours': [58, 61, 15, 63, 39, 1], 'outgoing': [286, 288, 294, 308, 310, 314]}, 63: {'neighbours': [63, 15, 7, 61], 'outgoing': [305, 311, 312, 313]}, 59: {'neighbours': [39, 58, 15, 56, 7], 'outgoing': [315, 317, 426, 445, 694]}, 0: {'neighbours': [1, 2, 29, 15], 'outgoing': [319, 655, 661, 738]}, 34: {'neighbours': [42, 4, 34, 8, 3, 11, 64, 9, 7], 'outgoing': [327, 329, 331, 332, 334, 336, 340, 347, 350]}, 12: {'neighbours': [42, 5], 'outgoing': [335, 339]}, 64: {'neighbours': [42, 64, 34], 'outgoing': [342, 344, 351]}, 38: {'neighbours': [38, 10, 2, 15, 4], 'outgoing': [366, 368, 369, 392, 405]}, 65: {'neighbours': [4, 65, 18], 'outgoing': [372, 375, 379]}, 66: {'neighbours': [29, 18, 38, 22, 66, 7, 72, 71, 13, 74, 4], 'outgoing': [386, 391, 398, 421, 489, 491, 501, 516, 521, 522, 531]}, 68: {'neighbours': [68, 4, 39], 'outgoing': [410, 412, 419]}, 69: {'neighbours': [15, 56, 70, 69, 22, 6, 4, 13], 'outgoing': [425, 446, 455, 458, 467, 471, 479, 480]}, 70: {'neighbours': [4, 70, 56, 60, 7], 'outgoing': [427, 448, 451, 454, 456]}, 56: {'neighbours': [56, 69, 14, 22], 'outgoing': [433, 436, 439, 464]}, 67: {'neighbours': [14, 72], 'outgoing': [442, 526]}, 30: {'neighbours': [15, 3, 4, 1], 'outgoing': [444, 624, 630, 636]}, 60: {'neighbours': [4], 'outgoing': [461]}, 54: {'neighbours': [15, 22], 'outgoing': [463, 466]}, 72: {'neighbours': [4, 71, 72, 73, 16, 13, 74, 22], 'outgoing': [492, 494, 496, 512, 517, 518, 520, 532]}, 71: {'neighbours': [72, 4, 71, 74, 13, 7, 22], 'outgoing': [495, 497, 500, 503, 507, 515, 543]}, 74: {'neighbours': [4, 72, 7, 22], 'outgoing': [506, 514, 525, 533]}, 73: {'neighbours': [4, 67, 72, 22, 71], 'outgoing': [509, 510, 513, 538, 541]}, 24: {'neighbours': [22, 16, 11, 6, 33, 24, 1, 31], 'outgoing': [530, 611, 679, 688, 689, 698, 699, 701]}, 33: {'neighbours': [43, 3, 24], 'outgoing': [548, 690, 697]}, 75: {'neighbours': [4, 40], 'outgoing': [559, 562]}, 62: {'neighbours': [29, 7, 62], 'outgoing': [574, 575, 577]}, 77: {'neighbours': [29, 49, 77], 'outgoing': [583, 591, 603]}, 78: {'neighbours': [22, 49], 'outgoing': [593, 594]}, 32: {'neighbours': [16, 24], 'outgoing': [615, 702]}, 35: {'neighbours': [1], 'outgoing': [628]}, 76: {'neighbours': [10], 'outgoing': [645]}, 28: {'neighbours': [22, 4, 3, 15], 'outgoing': [657, 709, 711, 739]}, 79: {'neighbours': [79, 6, 15, 26, 1], 'outgoing': [723, 724, 728, 736, 745]}}\n"
     ]
    }
   ],
   "source": [
    "# i = 0\n",
    "# for key, item in neighbours.items():\n",
    "#     if i > 10:\n",
    "#         break\n",
    "#     else:\n",
    "#         print(key, item)\n",
    "\n",
    "# i = 0\n",
    "# for key, item in outgoingLinks.items():\n",
    "#     if i > 10:\n",
    "#         break\n",
    "#     else:\n",
    "#         print(key, item)\n",
    "\n",
    "#print(neighbouring)"
   ]
  },
  {
   "cell_type": "code",
   "execution_count": 95,
   "metadata": {},
   "outputs": [],
   "source": [
    "with open('graph-basic.json', 'w') as outfile:\n",
    "    json.dump({\"links\": eList, \"nodes\": nList, 'neighbouring': neighbouring}, outfile)"
   ]
  },
  {
   "cell_type": "markdown",
   "metadata": {},
   "source": [
    "# More Graphs\n"
   ]
  },
  {
   "cell_type": "code",
   "execution_count": 38,
   "metadata": {},
   "outputs": [],
   "source": [
    "\n",
    "data['Time'] = pd.to_datetime(data['Time'], errors='coerce', dayfirst=False, yearfirst=False, \n",
    "                   format=None, utc=False, infer_datetime_format=True, origin='unix')\n",
    "data = data.set_index(pd.DatetimeIndex(data['Time']))"
   ]
  },
  {
   "cell_type": "code",
   "execution_count": 64,
   "metadata": {},
   "outputs": [
    {
     "name": "stdout",
     "output_type": "stream",
     "text": [
      "Average per month:  8798.2\n",
      "Average per day:  291.33112582781456\n"
     ]
    },
    {
     "data": {
      "image/png": "[encoded data removed]",
      "text/plain": [
       "<Figure size 648x72 with 1 Axes>"
      ]
     },
     "metadata": {},
     "output_type": "display_data"
    },
    {
     "data": {
      "image/png": "[encoded data removed]",
      "text/plain": [
       "<Figure size 1080x360 with 1 Axes>"
      ]
     },
     "metadata": {},
     "output_type": "display_data"
    },
    {
     "data": {
      "text/plain": [
       "<Figure size 432x288 with 0 Axes>"
      ]
     },
     "metadata": {},
     "output_type": "display_data"
    },
    {
     "data": {
      "image/png": "[encoded data removed]",
      "text/plain": [
       "<Figure size 1080x360 with 1 Axes>"
      ]
     },
     "metadata": {},
     "output_type": "display_data"
    },
    {
     "data": {
      "text/plain": [
       "<Figure size 432x288 with 0 Axes>"
      ]
     },
     "metadata": {},
     "output_type": "display_data"
    }
   ],
   "source": [
    "data = data[data['ExternalID'].notna()]\n",
    "month = data['Time'].resample('M').count().reset_index(name=\"number\")\n",
    "mav = month['number'].mean()\n",
    "print('Average per month: ', mav )\n",
    "\n",
    "day = data['Time'].resample('D').count().reset_index(name=\"number\")\n",
    "dav = day['number'].mean()\n",
    "print('Average per day: ', dav)\n",
    "\n",
    "flatui = [\"#Fb007F\", \"#df3b6d\", \"#da4a5f\", \"#d55e53\", \"#d07548\", \"#cb8f41\", \"#c9a73e\", \"#c7be3f\", \"#c3d400\"]\n",
    "sns.palplot(sns.color_palette(flatui))\n",
    "\n",
    "fig, ax = plt.subplots()\n",
    "fig.set_size_inches(15, 5)\n",
    "\n",
    "sns.lineplot(x=\"Time\", y=\"number\", data=day, legend=\"full\")\n",
    "plt.xticks(rotation=-45, ha='left')\n",
    "plt.title(\"Interactions per day\")\n",
    "sns.set_style(\"white\")\n",
    "x = plt.gca().axes.get_xlim()\n",
    "plt.plot(x, len(x) * [dav], sns.xkcd_rgb[\"dark grey\"])\n",
    "plt.show()\n",
    "plt.savefig(\"fig1.svg\")\n",
    "\n",
    "fig, ax = plt.subplots()\n",
    "fig.set_size_inches(15, 5)\n",
    "sns.set_context(\"notebook\", font_scale=1.5, rc={\"lines.linewidth\": 3.5})\n",
    "sns.lineplot(x=\"Time\", y=\"number\", data=month, legend=\"full\")\n",
    "sns.set_style(\"whitegrid\")\n",
    "sns.color_palette(flatui)\n",
    "plt.xticks(rotation=-45, ha='left')\n",
    "plt.title(\"Interactions per month\")\n",
    "x = plt.gca().axes.get_xlim()\n",
    "plt.plot(x, len(x) * [mav], sns.xkcd_rgb[\"dark grey\"])\n",
    "plt.show()\n",
    "plt.savefig(\"fig2.svg\")"
   ]
  },
  {
   "cell_type": "code",
   "execution_count": 22,
   "metadata": {},
   "outputs": [
    {
     "name": "stdout",
     "output_type": "stream",
     "text": [
      "    daytime  number\n",
      "0  00:00:00    2527\n",
      "1  01:00:00    1329\n",
      "2  02:00:00    1090\n",
      "3  03:00:00    1307\n",
      "4  04:00:00     937\n"
     ]
    },
    {
     "data": {
      "image/png": "[encoded data removed]",
      "text/plain": [
       "<Figure size 1080x576 with 1 Axes>"
      ]
     },
     "metadata": {
      "needs_background": "light"
     },
     "output_type": "display_data"
    }
   ],
   "source": [
    "daytimes = (data.Time.map(lambda t: t.replace(year=2013, month=2, day=1))).reset_index(name=\"daytime\")\n",
    "daytimes['daytime'] = pd.to_datetime(daytimes['daytime'], errors='coerce', dayfirst=False, yearfirst=False, \n",
    "                   format=None, utc=False, infer_datetime_format=True, origin='unix')\n",
    "daytimes = daytimes.set_index(pd.DatetimeIndex(daytimes['daytime']))\n",
    "\n",
    "# count interaction per hour\n",
    "daytimes = daytimes['daytime'].resample('H').count().reset_index(name=\"number\")\n",
    "daytimes['daytime'] = daytimes[daytimes['daytime'].notnull()]['daytime'].dt.time\n",
    "\n",
    "print(daytimes.head())\n",
    "\n",
    "sns.set_context(\"notebook\", font_scale=1.5, rc={\"lines.linewidth\": 3.5})\n",
    "fig, ax = plt.subplots()\n",
    "fig.set_size_inches(15, 8)\n",
    "sns.lineplot(x=\"daytime\", y=\"number\", data=daytimes, ax = ax)\n",
    "sns.set_style(\"white\")\n",
    "sns.despine()\n",
    "plt.title(\"Usage distribution over a day\")\n",
    "plt.savefig(\"fig3.svg\")"
   ]
  },
  {
   "cell_type": "code",
   "execution_count": 35,
   "metadata": {},
   "outputs": [],
   "source": [
    "times = dataUserInner.filter(['Time', 'Age','ExternalID', 'Gender', 'Condition'], axis=1)\n",
    "times = times[(times.Gender == 'F') | (times.Gender == 'M')]\n",
    "times['Time'] = (times.Time.map(lambda t: t.replace(year=2013, month=1, day=1)))\n",
    "times = times.set_index(pd.DatetimeIndex(times['Time']))\n",
    "times.head()\n",
    "\n",
    "# There must be a better way to do it, however, after hours of googling, I am going\n",
    "# to do it the iterative way. 'Premature optimization is the root of all evil' -- DonaldKnuth\n",
    "\n",
    "# Don't worry, this part runs for at least 30s. \n",
    "\n",
    "# Create the buckets\n",
    "dates = pd.date_range('1/1/2013', periods=24, freq='H')\n",
    "buckets = sorted(set(zip(list(range(0,24)), dates)))\n",
    "\n",
    "# Iterate over the time and assign buckets for each time of day\n",
    "\n",
    "def getBucket(time):\n",
    "    for bucket in buckets: \n",
    "        diff = relativedelta(time, bucket[1])\n",
    "        if diff.hours == 0 and diff.minutes <= 60:\n",
    "            #print(diff.minutes)\n",
    "            # return (str(bucket[0]) + '-'+ str(bucket[0]+1))\n",
    "            return bucket[0]\n",
    "#     return (str(bucket[-1][0]) + '-'+ str(bucket[-1][0]+1)) \n",
    "    return bucket[-1][0]\n",
    "    \n",
    "\n",
    "times[\"Times\"] = times['Time'].map(getBucket)"
   ]
  },
  {
   "cell_type": "code",
   "execution_count": 45,
   "metadata": {},
   "outputs": [],
   "source": [
    "genderGrouped = times.groupby(['Hours', 'Gender'])[\"ExternalID\"].count().reset_index(name=\"Count\").sort_values(by=['Hours'])\n",
    "nonGrouped = times.groupby(['Hours'])[\"ExternalID\"].count().reset_index(name=\"Count\").sort_values(by=['Hours'])\n",
    "nonGrouped['Gender'] = 'B'"
   ]
  },
  {
   "cell_type": "code",
   "execution_count": 48,
   "metadata": {},
   "outputs": [
    {
     "name": "stdout",
     "output_type": "stream",
     "text": [
      "   Hours Gender  Count\n",
      "0      0      F   2030\n",
      "1      0      M    276\n",
      "2      1      F    868\n",
      "3      1      M    226\n",
      "4      2      F    370\n",
      "   Hours  Count Gender\n",
      "0      0   2306      B\n",
      "1      1   1094      B\n",
      "2      2    549      B\n",
      "3      3    320      B\n",
      "4      4    420      B\n",
      "   Count Gender  Hours\n",
      "0   2306      B      0\n",
      "1   1094      B      1\n",
      "2    549      B      2\n",
      "3    320      B      3\n",
      "4    420      B      4\n"
     ]
    },
    {
     "name": "stderr",
     "output_type": "stream",
     "text": [
      "/home/nme/anaconda3/lib/python3.7/site-packages/ipykernel_launcher.py:6: FutureWarning: Sorting because non-concatenation axis is not aligned. A future version\n",
      "of pandas will change to not sort by default.\n",
      "\n",
      "To accept the future behavior, pass 'sort=False'.\n",
      "\n",
      "To retain the current behavior and silence the warning, pass 'sort=True'.\n",
      "\n",
      "  \n"
     ]
    },
    {
     "data": {
      "image/png": "[encoded data removed]",
      "text/plain": [
       "<Figure size 1080x720 with 1 Axes>"
      ]
     },
     "metadata": {},
     "output_type": "display_data"
    },
    {
     "data": {
      "text/plain": [
       "<Figure size 432x288 with 0 Axes>"
      ]
     },
     "metadata": {},
     "output_type": "display_data"
    }
   ],
   "source": [
    "sns.set_context(\"notebook\", font_scale=1.5, rc={\"lines.linewidth\": 4.5})\n",
    "\n",
    "print(genderGrouped.head())\n",
    "print(nonGrouped.head())\n",
    "\n",
    "allGrouped = pd.concat([nonGrouped, genderGrouped])\n",
    "\n",
    "print(allGrouped.head())\n",
    "\n",
    "flatui = [ '#706e6f',\"#Fb007F\", \"#c3d400\"]\n",
    "\n",
    "fig, ax = plt.subplots()\n",
    "fig.set_size_inches(15, 10)\n",
    "sns.lineplot(x='Hours', y='Count', data=allGrouped, hue='Gender', palette=flatui)\n",
    "sns.despine()\n",
    "sns.set_style(\"white\")\n",
    "plt.legend(bbox_to_anchor=(1.05, 1), loc=2, borderaxespad=0.)\n",
    "ax.set(xlabel='common xlabel', ylabel='common ylabel')\n",
    "plt.show()\n",
    "plt.savefig(\"GenderUsage.svg\")"
   ]
  },
  {
   "cell_type": "code",
   "execution_count": null,
   "metadata": {},
   "outputs": [],
   "source": []
  }
 ],
 "metadata": {
  "kernelspec": {
   "display_name": "Python 3",
   "language": "python",
   "name": "python3"
  },
  "language_info": {
   "codemirror_mode": {
    "name": "ipython",
    "version": 3
   },
   "file_extension": ".py",
   "mimetype": "text/x-python",
   "name": "python",
   "nbconvert_exporter": "python",
   "pygments_lexer": "ipython3",
   "version": "3.7.0"
  }
 },
 "nbformat": 4,
 "nbformat_minor": 2
}
