{
 "cells": [
  {
   "cell_type": "code",
   "execution_count": 24,
   "metadata": {},
   "outputs": [],
   "source": [
    "import pandas as pd\n",
    "import numpy as np\n",
    "import seaborn as sns  \n",
    "import matplotlib.pyplot as plt\n",
    "from datetime import date\n",
    "from dateutil.relativedelta import relativedelta\n",
    "%matplotlib inline \n",
    "\n",
    "# IMPORTANT:\n",
    "# Redownload the files from slack and Outlook "
   ]
  },
  {
   "cell_type": "markdown",
   "metadata": {},
   "source": [
    "##### DATA (the anonymised dataframe) "
   ]
  },
  {
   "cell_type": "code",
   "execution_count": 25,
   "metadata": {},
   "outputs": [],
   "source": [
    "#import main dataframe\n",
    "data = pd.read_csv('locations.csv', low_memory=False)"
   ]
  },
  {
   "cell_type": "code",
   "execution_count": 26,
   "metadata": {},
   "outputs": [],
   "source": [
    "#rename City column and drop empty columns\n",
    "data.rename( columns={'Unnamed: 5':'City'}, inplace=True )\n",
    "data = data.drop(data.columns[data.columns.str.contains('unnamed',case = False)],axis = 1)"
   ]
  },
  {
   "cell_type": "code",
   "execution_count": 27,
   "metadata": {},
   "outputs": [],
   "source": [
    "#drop VisitorID and ContentInfo\n",
    "data = data.drop(columns=['VisitorID', 'ContentInfo'])"
   ]
  },
  {
   "cell_type": "code",
   "execution_count": 29,
   "metadata": {},
   "outputs": [],
   "source": [
    "#just getting rid of the space after the name\n",
    "data = data.replace('STH Ayshire St Leonards ', 'STH Ayshire St Leonards')"
   ]
  },
  {
   "cell_type": "code",
   "execution_count": 30,
   "metadata": {},
   "outputs": [],
   "source": [
    "#change time to datetime\n",
    "data['Time'] = pd.to_datetime(data['Time'], format = \"%d/%m/%Y %H:%M\", utc=False)"
   ]
  },
  {
   "cell_type": "code",
   "execution_count": 31,
   "metadata": {},
   "outputs": [],
   "source": [
    "#change ExternalIDs to integers\n",
    "data.ExternalID = data.ExternalID.fillna(0).astype(int)"
   ]
  },
  {
   "cell_type": "code",
   "execution_count": 32,
   "metadata": {},
   "outputs": [],
   "source": [
    "#drop rows that are identical\n",
    "data = data.drop_duplicates(keep='first')"
   ]
  },
  {
   "cell_type": "code",
   "execution_count": 33,
   "metadata": {},
   "outputs": [],
   "source": [
    "#new dataframe with no null ExternalID vaues\n",
    "dataNoNullUsers = data[data.ExternalID != 0]"
   ]
  },
  {
   "cell_type": "markdown",
   "metadata": {},
   "source": [
    "##### USERS (the user dataframe) "
   ]
  },
  {
   "cell_type": "code",
   "execution_count": 34,
   "metadata": {},
   "outputs": [],
   "source": [
    "#import users dataframe\n",
    "users = pd.read_csv('PrimaryConditions age sex by customer reference.csv', low_memory=False)"
   ]
  },
  {
   "cell_type": "code",
   "execution_count": 35,
   "metadata": {},
   "outputs": [],
   "source": [
    "#drop empty column and CleverCogsUserId\n",
    "users = users.drop(users.columns[users.columns.str.contains('unnamed',case = False)],axis = 1)\n",
    "users = users.drop(columns=['CleverCogsUserId'])"
   ]
  },
  {
   "cell_type": "code",
   "execution_count": 36,
   "metadata": {},
   "outputs": [],
   "source": [
    "#delete empty row\n",
    "users = users.dropna(axis=0, how='all', inplace=False)"
   ]
  },
  {
   "cell_type": "code",
   "execution_count": 37,
   "metadata": {},
   "outputs": [
    {
     "data": {
      "text/html": [
       "<div>\n",
       "<style scoped>\n",
       "    .dataframe tbody tr th:only-of-type {\n",
       "        vertical-align: middle;\n",
       "    }\n",
       "\n",
       "    .dataframe tbody tr th {\n",
       "        vertical-align: top;\n",
       "    }\n",
       "\n",
       "    .dataframe thead th {\n",
       "        text-align: right;\n",
       "    }\n",
       "</style>\n",
       "<table border=\"1\" class=\"dataframe\">\n",
       "  <thead>\n",
       "    <tr style=\"text-align: right;\">\n",
       "      <th></th>\n",
       "      <th>ExternalID</th>\n",
       "      <th>BirthDate</th>\n",
       "      <th>Gender</th>\n",
       "      <th>Condition</th>\n",
       "    </tr>\n",
       "  </thead>\n",
       "  <tbody>\n",
       "    <tr>\n",
       "      <th>0</th>\n",
       "      <td>4703</td>\n",
       "      <td>04/07/1965</td>\n",
       "      <td>F</td>\n",
       "      <td>Spina Bifida</td>\n",
       "    </tr>\n",
       "    <tr>\n",
       "      <th>1</th>\n",
       "      <td>4704</td>\n",
       "      <td>21/06/1940</td>\n",
       "      <td>F</td>\n",
       "      <td>COPD</td>\n",
       "    </tr>\n",
       "    <tr>\n",
       "      <th>2</th>\n",
       "      <td>4706</td>\n",
       "      <td>25/02/1931</td>\n",
       "      <td>F</td>\n",
       "      <td>Dementia</td>\n",
       "    </tr>\n",
       "    <tr>\n",
       "      <th>3</th>\n",
       "      <td>4707</td>\n",
       "      <td>18/09/1982</td>\n",
       "      <td>F</td>\n",
       "      <td>Brain Injury</td>\n",
       "    </tr>\n",
       "    <tr>\n",
       "      <th>4</th>\n",
       "      <td>4708</td>\n",
       "      <td>20/12/1931</td>\n",
       "      <td>F</td>\n",
       "      <td>NaN</td>\n",
       "    </tr>\n",
       "  </tbody>\n",
       "</table>\n",
       "</div>"
      ],
      "text/plain": [
       "   ExternalID   BirthDate Gender     Condition\n",
       "0        4703  04/07/1965      F  Spina Bifida\n",
       "1        4704  21/06/1940      F          COPD\n",
       "2        4706  25/02/1931      F      Dementia\n",
       "3        4707  18/09/1982      F  Brain Injury\n",
       "4        4708  20/12/1931      F           NaN"
      ]
     },
     "execution_count": 37,
     "metadata": {},
     "output_type": "execute_result"
    }
   ],
   "source": [
    "#change ExternalID into integers\n",
    "users['ExternalID'] = users['ExternalID'].apply(np.int64)\n",
    "users.shape\n",
    "users.head()"
   ]
  },
  {
   "cell_type": "code",
   "execution_count": 38,
   "metadata": {},
   "outputs": [
    {
     "data": {
      "text/plain": [
       "(680, 4)"
      ]
     },
     "execution_count": 38,
     "metadata": {},
     "output_type": "execute_result"
    }
   ],
   "source": [
    "#drop duplicates\n",
    "users = users.drop_duplicates(subset = ['ExternalID'], keep='last')\n",
    "users.shape"
   ]
  },
  {
   "cell_type": "code",
   "execution_count": 40,
   "metadata": {},
   "outputs": [
    {
     "data": {
      "text/html": [
       "<div>\n",
       "<style scoped>\n",
       "    .dataframe tbody tr th:only-of-type {\n",
       "        vertical-align: middle;\n",
       "    }\n",
       "\n",
       "    .dataframe tbody tr th {\n",
       "        vertical-align: top;\n",
       "    }\n",
       "\n",
       "    .dataframe thead th {\n",
       "        text-align: right;\n",
       "    }\n",
       "</style>\n",
       "<table border=\"1\" class=\"dataframe\">\n",
       "  <thead>\n",
       "    <tr style=\"text-align: right;\">\n",
       "      <th></th>\n",
       "      <th>ExternalID</th>\n",
       "      <th>BirthDate</th>\n",
       "      <th>Gender</th>\n",
       "      <th>Condition</th>\n",
       "    </tr>\n",
       "    <tr>\n",
       "      <th>BirthDate</th>\n",
       "      <th></th>\n",
       "      <th></th>\n",
       "      <th></th>\n",
       "      <th></th>\n",
       "    </tr>\n",
       "  </thead>\n",
       "  <tbody>\n",
       "    <tr>\n",
       "      <th>1965-07-04</th>\n",
       "      <td>4703</td>\n",
       "      <td>1965-07-04</td>\n",
       "      <td>F</td>\n",
       "      <td>Spina Bifida</td>\n",
       "    </tr>\n",
       "    <tr>\n",
       "      <th>1940-06-21</th>\n",
       "      <td>4704</td>\n",
       "      <td>1940-06-21</td>\n",
       "      <td>F</td>\n",
       "      <td>COPD</td>\n",
       "    </tr>\n",
       "    <tr>\n",
       "      <th>1931-02-25</th>\n",
       "      <td>4706</td>\n",
       "      <td>1931-02-25</td>\n",
       "      <td>F</td>\n",
       "      <td>Dementia</td>\n",
       "    </tr>\n",
       "    <tr>\n",
       "      <th>1982-09-18</th>\n",
       "      <td>4707</td>\n",
       "      <td>1982-09-18</td>\n",
       "      <td>F</td>\n",
       "      <td>Brain Injury</td>\n",
       "    </tr>\n",
       "    <tr>\n",
       "      <th>1931-12-20</th>\n",
       "      <td>4708</td>\n",
       "      <td>1931-12-20</td>\n",
       "      <td>F</td>\n",
       "      <td>NaN</td>\n",
       "    </tr>\n",
       "  </tbody>\n",
       "</table>\n",
       "</div>"
      ],
      "text/plain": [
       "            ExternalID  BirthDate Gender     Condition\n",
       "BirthDate                                             \n",
       "1965-07-04        4703 1965-07-04      F  Spina Bifida\n",
       "1940-06-21        4704 1940-06-21      F          COPD\n",
       "1931-02-25        4706 1931-02-25      F      Dementia\n",
       "1982-09-18        4707 1982-09-18      F  Brain Injury\n",
       "1931-12-20        4708 1931-12-20      F           NaN"
      ]
     },
     "execution_count": 40,
     "metadata": {},
     "output_type": "execute_result"
    }
   ],
   "source": [
    "#change BirthDate to date time\n",
    "#users['BirthDate'] = pd.to_datetime(users['BirthDate'], format = \"%m/%d/%y\", dayfirst=False, utc=True)\n",
    "\n",
    "users['BirthDate'] = pd.to_datetime(users['BirthDate'], errors='coerce', dayfirst=False, yearfirst=False, \n",
    "                   format=\"%d/%m/%Y\", utc=False, infer_datetime_format=False, origin='unix')\n",
    "users = users.set_index(pd.DatetimeIndex(users['BirthDate']))\n",
    "\n",
    "#Remove erroneous entries\n",
    "threshold = pd.to_datetime(\"2010-01-01\", format=\"%Y-%m-%d\", utc=False, origin='unix')\n",
    "users = users[users['BirthDate'] < threshold]\n",
    "\n",
    "users.head()"
   ]
  },
  {
   "cell_type": "code",
   "execution_count": 41,
   "metadata": {},
   "outputs": [],
   "source": [
    "now = pd.to_datetime(date.today())\n",
    "\n",
    "def getYears(start):\n",
    "    diff = relativedelta(now, start)\n",
    "    return diff.years\n",
    "\n",
    "# Add a new column that contains the age of the user\n",
    "users[\"Age\"] = users['BirthDate'].map(getYears)"
   ]
  },
  {
   "cell_type": "code",
   "execution_count": 42,
   "metadata": {},
   "outputs": [
    {
     "data": {
      "text/html": [
       "<div>\n",
       "<style scoped>\n",
       "    .dataframe tbody tr th:only-of-type {\n",
       "        vertical-align: middle;\n",
       "    }\n",
       "\n",
       "    .dataframe tbody tr th {\n",
       "        vertical-align: top;\n",
       "    }\n",
       "\n",
       "    .dataframe thead th {\n",
       "        text-align: right;\n",
       "    }\n",
       "</style>\n",
       "<table border=\"1\" class=\"dataframe\">\n",
       "  <thead>\n",
       "    <tr style=\"text-align: right;\">\n",
       "      <th></th>\n",
       "      <th>ExternalID</th>\n",
       "      <th>BirthDate</th>\n",
       "      <th>Gender</th>\n",
       "      <th>Condition</th>\n",
       "      <th>Age</th>\n",
       "    </tr>\n",
       "    <tr>\n",
       "      <th>BirthDate</th>\n",
       "      <th></th>\n",
       "      <th></th>\n",
       "      <th></th>\n",
       "      <th></th>\n",
       "      <th></th>\n",
       "    </tr>\n",
       "  </thead>\n",
       "  <tbody>\n",
       "    <tr>\n",
       "      <th>1965-07-04</th>\n",
       "      <td>4703</td>\n",
       "      <td>1965-07-04</td>\n",
       "      <td>F</td>\n",
       "      <td>Spina Bifida</td>\n",
       "      <td>53</td>\n",
       "    </tr>\n",
       "    <tr>\n",
       "      <th>1940-06-21</th>\n",
       "      <td>4704</td>\n",
       "      <td>1940-06-21</td>\n",
       "      <td>F</td>\n",
       "      <td>COPD</td>\n",
       "      <td>78</td>\n",
       "    </tr>\n",
       "    <tr>\n",
       "      <th>1931-02-25</th>\n",
       "      <td>4706</td>\n",
       "      <td>1931-02-25</td>\n",
       "      <td>F</td>\n",
       "      <td>Dementia</td>\n",
       "      <td>87</td>\n",
       "    </tr>\n",
       "    <tr>\n",
       "      <th>1982-09-18</th>\n",
       "      <td>4707</td>\n",
       "      <td>1982-09-18</td>\n",
       "      <td>F</td>\n",
       "      <td>Brain Injury</td>\n",
       "      <td>36</td>\n",
       "    </tr>\n",
       "    <tr>\n",
       "      <th>1931-12-20</th>\n",
       "      <td>4708</td>\n",
       "      <td>1931-12-20</td>\n",
       "      <td>F</td>\n",
       "      <td>NaN</td>\n",
       "      <td>86</td>\n",
       "    </tr>\n",
       "  </tbody>\n",
       "</table>\n",
       "</div>"
      ],
      "text/plain": [
       "            ExternalID  BirthDate Gender     Condition  Age\n",
       "BirthDate                                                  \n",
       "1965-07-04        4703 1965-07-04      F  Spina Bifida   53\n",
       "1940-06-21        4704 1940-06-21      F          COPD   78\n",
       "1931-02-25        4706 1931-02-25      F      Dementia   87\n",
       "1982-09-18        4707 1982-09-18      F  Brain Injury   36\n",
       "1931-12-20        4708 1931-12-20      F           NaN   86"
      ]
     },
     "execution_count": 42,
     "metadata": {},
     "output_type": "execute_result"
    }
   ],
   "source": [
    "users.head()"
   ]
  },
  {
   "cell_type": "code",
   "execution_count": null,
   "metadata": {},
   "outputs": [],
   "source": []
  }
 ],
 "metadata": {
  "kernelspec": {
   "display_name": "Python 3",
   "language": "python",
   "name": "python3"
  },
  "language_info": {
   "codemirror_mode": {
    "name": "ipython",
    "version": 3
   },
   "file_extension": ".py",
   "mimetype": "text/x-python",
   "name": "python",
   "nbconvert_exporter": "python",
   "pygments_lexer": "ipython3",
   "version": "3.7.0"
  }
 },
 "nbformat": 4,
 "nbformat_minor": 2
}
