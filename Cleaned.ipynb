{
 "cells": [
  {
   "cell_type": "code",
   "execution_count": 22,
   "metadata": {},
   "outputs": [],
   "source": [
    "import pandas as pd\n",
    "import numpy as np\n",
    "import seaborn as sns  \n",
    "import matplotlib.pyplot as plt\n",
    "from datetime import date\n",
    "from dateutil.relativedelta import relativedelta\n",
    "%matplotlib inline \n",
    "\n",
    "# IMPORTANT:\n",
    "# Redownload the files from slack and Outlook "
   ]
  },
  {
   "cell_type": "markdown",
   "metadata": {},
   "source": [
    "##### DATA (the anonymised dataframe) "
   ]
  },
  {
   "cell_type": "code",
   "execution_count": 23,
   "metadata": {},
   "outputs": [],
   "source": [
    "#import main dataframe\n",
    "data = pd.read_csv('locations.csv', low_memory=False)"
   ]
  },
  {
   "cell_type": "code",
   "execution_count": 24,
   "metadata": {},
   "outputs": [],
   "source": [
    "#rename City column and drop empty columns\n",
    "data.rename( columns={'Unnamed: 5':'City'}, inplace=True )\n",
    "data = data.drop(data.columns[data.columns.str.contains('unnamed',case = False)],axis = 1)"
   ]
  },
  {
   "cell_type": "code",
   "execution_count": 25,
   "metadata": {},
   "outputs": [],
   "source": [
    "#drop VisitorID and ContentInfo\n",
    "data = data.drop(columns=['VisitorID', 'ContentInfo'])"
   ]
  },
  {
   "cell_type": "code",
   "execution_count": 26,
   "metadata": {},
   "outputs": [
    {
     "data": {
      "text/html": [
       "<div>\n",
       "<style scoped>\n",
       "    .dataframe tbody tr th:only-of-type {\n",
       "        vertical-align: middle;\n",
       "    }\n",
       "\n",
       "    .dataframe tbody tr th {\n",
       "        vertical-align: top;\n",
       "    }\n",
       "\n",
       "    .dataframe thead th {\n",
       "        text-align: right;\n",
       "    }\n",
       "</style>\n",
       "<table border=\"1\" class=\"dataframe\">\n",
       "  <thead>\n",
       "    <tr style=\"text-align: right;\">\n",
       "      <th></th>\n",
       "      <th>Time</th>\n",
       "      <th>ExternalID</th>\n",
       "      <th>Role</th>\n",
       "      <th>Building</th>\n",
       "      <th>City</th>\n",
       "      <th>LinkTitle</th>\n",
       "      <th>LinkType</th>\n",
       "    </tr>\n",
       "  </thead>\n",
       "  <tbody>\n",
       "    <tr>\n",
       "      <th>0</th>\n",
       "      <td>10/29/18 10:55</td>\n",
       "      <td>5325.0</td>\n",
       "      <td>User</td>\n",
       "      <td>Broom Ground</td>\n",
       "      <td>Stirling</td>\n",
       "      <td>Sam Smith</td>\n",
       "      <td>Internet</td>\n",
       "    </tr>\n",
       "    <tr>\n",
       "      <th>1</th>\n",
       "      <td>10/29/18 10:50</td>\n",
       "      <td>5325.0</td>\n",
       "      <td>User</td>\n",
       "      <td>Broom Ground</td>\n",
       "      <td>Stirling</td>\n",
       "      <td>Elton John</td>\n",
       "      <td>Internet</td>\n",
       "    </tr>\n",
       "    <tr>\n",
       "      <th>2</th>\n",
       "      <td>10/29/18 10:49</td>\n",
       "      <td>5325.0</td>\n",
       "      <td>User</td>\n",
       "      <td>Broom Ground</td>\n",
       "      <td>Stirling</td>\n",
       "      <td>My Music</td>\n",
       "      <td>Category</td>\n",
       "    </tr>\n",
       "    <tr>\n",
       "      <th>3</th>\n",
       "      <td>10/29/18 10:49</td>\n",
       "      <td>5325.0</td>\n",
       "      <td>User</td>\n",
       "      <td>Broom Ground</td>\n",
       "      <td>Stirling</td>\n",
       "      <td>Entertainment</td>\n",
       "      <td>Category</td>\n",
       "    </tr>\n",
       "    <tr>\n",
       "      <th>4</th>\n",
       "      <td>10/29/18 10:48</td>\n",
       "      <td>NaN</td>\n",
       "      <td>User</td>\n",
       "      <td>Belses Gardens - Care Home</td>\n",
       "      <td>Glasgow</td>\n",
       "      <td>BBC Formula 1</td>\n",
       "      <td>Internet</td>\n",
       "    </tr>\n",
       "  </tbody>\n",
       "</table>\n",
       "</div>"
      ],
      "text/plain": [
       "             Time  ExternalID  Role                    Building      City  \\\n",
       "0  10/29/18 10:55      5325.0  User                Broom Ground  Stirling   \n",
       "1  10/29/18 10:50      5325.0  User                Broom Ground  Stirling   \n",
       "2  10/29/18 10:49      5325.0  User                Broom Ground  Stirling   \n",
       "3  10/29/18 10:49      5325.0  User                Broom Ground  Stirling   \n",
       "4  10/29/18 10:48         NaN  User  Belses Gardens - Care Home   Glasgow   \n",
       "\n",
       "       LinkTitle  LinkType  \n",
       "0      Sam Smith  Internet  \n",
       "1     Elton John  Internet  \n",
       "2       My Music  Category  \n",
       "3  Entertainment  Category  \n",
       "4  BBC Formula 1  Internet  "
      ]
     },
     "execution_count": 26,
     "metadata": {},
     "output_type": "execute_result"
    }
   ],
   "source": [
    "#just getting rid of the space after the name\n",
    "data = data.replace('STH Ayshire St Leonards ', 'STH Ayshire St Leonards')\n",
    "data.head()"
   ]
  },
  {
   "cell_type": "code",
   "execution_count": 27,
   "metadata": {},
   "outputs": [
    {
     "data": {
      "text/html": [
       "<div>\n",
       "<style scoped>\n",
       "    .dataframe tbody tr th:only-of-type {\n",
       "        vertical-align: middle;\n",
       "    }\n",
       "\n",
       "    .dataframe tbody tr th {\n",
       "        vertical-align: top;\n",
       "    }\n",
       "\n",
       "    .dataframe thead th {\n",
       "        text-align: right;\n",
       "    }\n",
       "</style>\n",
       "<table border=\"1\" class=\"dataframe\">\n",
       "  <thead>\n",
       "    <tr style=\"text-align: right;\">\n",
       "      <th></th>\n",
       "      <th>Time</th>\n",
       "      <th>ExternalID</th>\n",
       "      <th>Role</th>\n",
       "      <th>Building</th>\n",
       "      <th>City</th>\n",
       "      <th>LinkTitle</th>\n",
       "      <th>LinkType</th>\n",
       "    </tr>\n",
       "  </thead>\n",
       "  <tbody>\n",
       "    <tr>\n",
       "      <th>0</th>\n",
       "      <td>2018-10-29 10:55:00</td>\n",
       "      <td>5325.0</td>\n",
       "      <td>User</td>\n",
       "      <td>Broom Ground</td>\n",
       "      <td>Stirling</td>\n",
       "      <td>Sam Smith</td>\n",
       "      <td>Internet</td>\n",
       "    </tr>\n",
       "    <tr>\n",
       "      <th>1</th>\n",
       "      <td>2018-10-29 10:50:00</td>\n",
       "      <td>5325.0</td>\n",
       "      <td>User</td>\n",
       "      <td>Broom Ground</td>\n",
       "      <td>Stirling</td>\n",
       "      <td>Elton John</td>\n",
       "      <td>Internet</td>\n",
       "    </tr>\n",
       "    <tr>\n",
       "      <th>2</th>\n",
       "      <td>2018-10-29 10:49:00</td>\n",
       "      <td>5325.0</td>\n",
       "      <td>User</td>\n",
       "      <td>Broom Ground</td>\n",
       "      <td>Stirling</td>\n",
       "      <td>My Music</td>\n",
       "      <td>Category</td>\n",
       "    </tr>\n",
       "    <tr>\n",
       "      <th>3</th>\n",
       "      <td>2018-10-29 10:49:00</td>\n",
       "      <td>5325.0</td>\n",
       "      <td>User</td>\n",
       "      <td>Broom Ground</td>\n",
       "      <td>Stirling</td>\n",
       "      <td>Entertainment</td>\n",
       "      <td>Category</td>\n",
       "    </tr>\n",
       "    <tr>\n",
       "      <th>4</th>\n",
       "      <td>2018-10-29 10:48:00</td>\n",
       "      <td>NaN</td>\n",
       "      <td>User</td>\n",
       "      <td>Belses Gardens - Care Home</td>\n",
       "      <td>Glasgow</td>\n",
       "      <td>BBC Formula 1</td>\n",
       "      <td>Internet</td>\n",
       "    </tr>\n",
       "  </tbody>\n",
       "</table>\n",
       "</div>"
      ],
      "text/plain": [
       "                 Time  ExternalID  Role                    Building      City  \\\n",
       "0 2018-10-29 10:55:00      5325.0  User                Broom Ground  Stirling   \n",
       "1 2018-10-29 10:50:00      5325.0  User                Broom Ground  Stirling   \n",
       "2 2018-10-29 10:49:00      5325.0  User                Broom Ground  Stirling   \n",
       "3 2018-10-29 10:49:00      5325.0  User                Broom Ground  Stirling   \n",
       "4 2018-10-29 10:48:00         NaN  User  Belses Gardens - Care Home   Glasgow   \n",
       "\n",
       "       LinkTitle  LinkType  \n",
       "0      Sam Smith  Internet  \n",
       "1     Elton John  Internet  \n",
       "2       My Music  Category  \n",
       "3  Entertainment  Category  \n",
       "4  BBC Formula 1  Internet  "
      ]
     },
     "execution_count": 27,
     "metadata": {},
     "output_type": "execute_result"
    }
   ],
   "source": [
    "#change time to datetime\n",
    "data['Time'] = pd.to_datetime(data['Time'], format = \"%m/%d/%y %H:%M\", utc=False)\n",
    "data.head()"
   ]
  },
  {
   "cell_type": "code",
   "execution_count": 28,
   "metadata": {},
   "outputs": [],
   "source": [
    "#change ExternalIDs to integers\n",
    "data.ExternalID = data.ExternalID.fillna(0).astype(int)"
   ]
  },
  {
   "cell_type": "code",
   "execution_count": 29,
   "metadata": {},
   "outputs": [],
   "source": [
    "#drop rows that are identical\n",
    "data = data.drop_duplicates(keep='first')"
   ]
  },
  {
   "cell_type": "code",
   "execution_count": 30,
   "metadata": {},
   "outputs": [],
   "source": [
    "#new dataframe with no null ExternalID vaues\n",
    "dataNoNullUsers = data[data.ExternalID != 0]"
   ]
  },
  {
   "cell_type": "markdown",
   "metadata": {},
   "source": [
    "##### USERS (the user dataframe) "
   ]
  },
  {
   "cell_type": "code",
   "execution_count": 31,
   "metadata": {},
   "outputs": [],
   "source": [
    "#import users dataframe\n",
    "users = pd.read_csv('PrimaryConditions age sex by customer reference.csv', low_memory=False)"
   ]
  },
  {
   "cell_type": "code",
   "execution_count": 32,
   "metadata": {},
   "outputs": [],
   "source": [
    "#drop empty column and CleverCogsUserId\n",
    "users = users.drop(users.columns[users.columns.str.contains('unnamed',case = False)],axis = 1)\n",
    "users = users.drop(columns=['CleverCogsUserId'])"
   ]
  },
  {
   "cell_type": "code",
   "execution_count": 33,
   "metadata": {},
   "outputs": [],
   "source": [
    "#delete empty row\n",
    "users = users.dropna(axis=0, how='all', inplace=False)"
   ]
  },
  {
   "cell_type": "code",
   "execution_count": 34,
   "metadata": {},
   "outputs": [
    {
     "data": {
      "text/html": [
       "<div>\n",
       "<style scoped>\n",
       "    .dataframe tbody tr th:only-of-type {\n",
       "        vertical-align: middle;\n",
       "    }\n",
       "\n",
       "    .dataframe tbody tr th {\n",
       "        vertical-align: top;\n",
       "    }\n",
       "\n",
       "    .dataframe thead th {\n",
       "        text-align: right;\n",
       "    }\n",
       "</style>\n",
       "<table border=\"1\" class=\"dataframe\">\n",
       "  <thead>\n",
       "    <tr style=\"text-align: right;\">\n",
       "      <th></th>\n",
       "      <th>ExternalID</th>\n",
       "      <th>BirthDate</th>\n",
       "      <th>Gender</th>\n",
       "      <th>Condition</th>\n",
       "    </tr>\n",
       "  </thead>\n",
       "  <tbody>\n",
       "    <tr>\n",
       "      <th>0</th>\n",
       "      <td>4703</td>\n",
       "      <td>7/4/65</td>\n",
       "      <td>F</td>\n",
       "      <td>Spina Bifida</td>\n",
       "    </tr>\n",
       "    <tr>\n",
       "      <th>1</th>\n",
       "      <td>4704</td>\n",
       "      <td>6/21/40</td>\n",
       "      <td>F</td>\n",
       "      <td>COPD</td>\n",
       "    </tr>\n",
       "    <tr>\n",
       "      <th>2</th>\n",
       "      <td>4706</td>\n",
       "      <td>2/25/31</td>\n",
       "      <td>F</td>\n",
       "      <td>Dementia</td>\n",
       "    </tr>\n",
       "    <tr>\n",
       "      <th>3</th>\n",
       "      <td>4707</td>\n",
       "      <td>9/18/82</td>\n",
       "      <td>F</td>\n",
       "      <td>Brain Injury</td>\n",
       "    </tr>\n",
       "    <tr>\n",
       "      <th>4</th>\n",
       "      <td>4708</td>\n",
       "      <td>12/20/31</td>\n",
       "      <td>F</td>\n",
       "      <td>NaN</td>\n",
       "    </tr>\n",
       "  </tbody>\n",
       "</table>\n",
       "</div>"
      ],
      "text/plain": [
       "   ExternalID BirthDate Gender     Condition\n",
       "0        4703    7/4/65      F  Spina Bifida\n",
       "1        4704   6/21/40      F          COPD\n",
       "2        4706   2/25/31      F      Dementia\n",
       "3        4707   9/18/82      F  Brain Injury\n",
       "4        4708  12/20/31      F           NaN"
      ]
     },
     "execution_count": 34,
     "metadata": {},
     "output_type": "execute_result"
    }
   ],
   "source": [
    "#change ExternalID into integers\n",
    "users['ExternalID'] = users['ExternalID'].apply(np.int64)\n",
    "users.shape\n",
    "users.head()"
   ]
  },
  {
   "cell_type": "code",
   "execution_count": 35,
   "metadata": {},
   "outputs": [
    {
     "data": {
      "text/plain": [
       "(680, 4)"
      ]
     },
     "execution_count": 35,
     "metadata": {},
     "output_type": "execute_result"
    }
   ],
   "source": [
    "#drop duplicates\n",
    "users = users.drop_duplicates(subset = ['ExternalID'], keep='last')\n",
    "users.shape"
   ]
  },
  {
   "cell_type": "code",
   "execution_count": 36,
   "metadata": {},
   "outputs": [
    {
     "data": {
      "text/html": [
       "<div>\n",
       "<style scoped>\n",
       "    .dataframe tbody tr th:only-of-type {\n",
       "        vertical-align: middle;\n",
       "    }\n",
       "\n",
       "    .dataframe tbody tr th {\n",
       "        vertical-align: top;\n",
       "    }\n",
       "\n",
       "    .dataframe thead th {\n",
       "        text-align: right;\n",
       "    }\n",
       "</style>\n",
       "<table border=\"1\" class=\"dataframe\">\n",
       "  <thead>\n",
       "    <tr style=\"text-align: right;\">\n",
       "      <th></th>\n",
       "      <th>ExternalID</th>\n",
       "      <th>BirthDate</th>\n",
       "      <th>Gender</th>\n",
       "      <th>Condition</th>\n",
       "    </tr>\n",
       "    <tr>\n",
       "      <th>BirthDate</th>\n",
       "      <th></th>\n",
       "      <th></th>\n",
       "      <th></th>\n",
       "      <th></th>\n",
       "    </tr>\n",
       "  </thead>\n",
       "  <tbody>\n",
       "    <tr>\n",
       "      <th>1980-01-05</th>\n",
       "      <td>5089</td>\n",
       "      <td>1980-01-05</td>\n",
       "      <td>M</td>\n",
       "      <td>NaN</td>\n",
       "    </tr>\n",
       "    <tr>\n",
       "      <th>1983-05-12</th>\n",
       "      <td>5096</td>\n",
       "      <td>1983-05-12</td>\n",
       "      <td>F</td>\n",
       "      <td>NaN</td>\n",
       "    </tr>\n",
       "    <tr>\n",
       "      <th>1994-03-03</th>\n",
       "      <td>5105</td>\n",
       "      <td>1994-03-03</td>\n",
       "      <td>M</td>\n",
       "      <td>NaN</td>\n",
       "    </tr>\n",
       "    <tr>\n",
       "      <th>1969-11-03</th>\n",
       "      <td>5188</td>\n",
       "      <td>1969-11-03</td>\n",
       "      <td>M</td>\n",
       "      <td>Learning Difficulties</td>\n",
       "    </tr>\n",
       "    <tr>\n",
       "      <th>1994-08-04</th>\n",
       "      <td>5213</td>\n",
       "      <td>1994-08-04</td>\n",
       "      <td>M</td>\n",
       "      <td>NaN</td>\n",
       "    </tr>\n",
       "  </tbody>\n",
       "</table>\n",
       "</div>"
      ],
      "text/plain": [
       "            ExternalID  BirthDate Gender              Condition\n",
       "BirthDate                                                      \n",
       "1980-01-05        5089 1980-01-05      M                    NaN\n",
       "1983-05-12        5096 1983-05-12      F                    NaN\n",
       "1994-03-03        5105 1994-03-03      M                    NaN\n",
       "1969-11-03        5188 1969-11-03      M  Learning Difficulties\n",
       "1994-08-04        5213 1994-08-04      M                    NaN"
      ]
     },
     "execution_count": 36,
     "metadata": {},
     "output_type": "execute_result"
    }
   ],
   "source": [
    "#change BirthDate to date time\n",
    "#users['BirthDate'] = pd.to_datetime(users['BirthDate'], format = \"%m/%d/%y\", dayfirst=False, utc=True)\n",
    "\n",
    "users['BirthDate'] = pd.to_datetime(users['BirthDate'], errors='coerce', dayfirst=False, yearfirst=False, \n",
    "                   format=\"%d/%m/%y\", utc=False, infer_datetime_format=False, origin='unix')\n",
    "users = users.set_index(pd.DatetimeIndex(users['BirthDate']))\n",
    "\n",
    "#Remove erroneous entries\n",
    "threshold = pd.to_datetime(\"2010-01-01\", format=\"%Y-%m-%d\", utc=False, origin='unix')\n",
    "users = users[users['BirthDate'] < threshold]\n",
    "\n",
    "users.head()"
   ]
  },
  {
   "cell_type": "code",
   "execution_count": 37,
   "metadata": {},
   "outputs": [],
   "source": [
    "now = pd.to_datetime(date.today())\n",
    "\n",
    "def getYears(start):\n",
    "    diff = relativedelta(now, start)\n",
    "    return diff.years\n",
    "\n",
    "# Add a new column that contains the age of the user\n",
    "users[\"Age\"] = users['BirthDate'].map(getYears)"
   ]
  },
  {
   "cell_type": "code",
   "execution_count": 38,
   "metadata": {},
   "outputs": [
    {
     "data": {
      "text/html": [
       "<div>\n",
       "<style scoped>\n",
       "    .dataframe tbody tr th:only-of-type {\n",
       "        vertical-align: middle;\n",
       "    }\n",
       "\n",
       "    .dataframe tbody tr th {\n",
       "        vertical-align: top;\n",
       "    }\n",
       "\n",
       "    .dataframe thead th {\n",
       "        text-align: right;\n",
       "    }\n",
       "</style>\n",
       "<table border=\"1\" class=\"dataframe\">\n",
       "  <thead>\n",
       "    <tr style=\"text-align: right;\">\n",
       "      <th></th>\n",
       "      <th>ExternalID</th>\n",
       "      <th>BirthDate</th>\n",
       "      <th>Gender</th>\n",
       "      <th>Condition</th>\n",
       "      <th>Age</th>\n",
       "    </tr>\n",
       "    <tr>\n",
       "      <th>BirthDate</th>\n",
       "      <th></th>\n",
       "      <th></th>\n",
       "      <th></th>\n",
       "      <th></th>\n",
       "      <th></th>\n",
       "    </tr>\n",
       "  </thead>\n",
       "  <tbody>\n",
       "    <tr>\n",
       "      <th>1980-01-05</th>\n",
       "      <td>5089</td>\n",
       "      <td>1980-01-05</td>\n",
       "      <td>M</td>\n",
       "      <td>NaN</td>\n",
       "      <td>38</td>\n",
       "    </tr>\n",
       "    <tr>\n",
       "      <th>1983-05-12</th>\n",
       "      <td>5096</td>\n",
       "      <td>1983-05-12</td>\n",
       "      <td>F</td>\n",
       "      <td>NaN</td>\n",
       "      <td>35</td>\n",
       "    </tr>\n",
       "    <tr>\n",
       "      <th>1994-03-03</th>\n",
       "      <td>5105</td>\n",
       "      <td>1994-03-03</td>\n",
       "      <td>M</td>\n",
       "      <td>NaN</td>\n",
       "      <td>24</td>\n",
       "    </tr>\n",
       "    <tr>\n",
       "      <th>1969-11-03</th>\n",
       "      <td>5188</td>\n",
       "      <td>1969-11-03</td>\n",
       "      <td>M</td>\n",
       "      <td>Learning Difficulties</td>\n",
       "      <td>49</td>\n",
       "    </tr>\n",
       "    <tr>\n",
       "      <th>1994-08-04</th>\n",
       "      <td>5213</td>\n",
       "      <td>1994-08-04</td>\n",
       "      <td>M</td>\n",
       "      <td>NaN</td>\n",
       "      <td>24</td>\n",
       "    </tr>\n",
       "  </tbody>\n",
       "</table>\n",
       "</div>"
      ],
      "text/plain": [
       "            ExternalID  BirthDate Gender              Condition  Age\n",
       "BirthDate                                                           \n",
       "1980-01-05        5089 1980-01-05      M                    NaN   38\n",
       "1983-05-12        5096 1983-05-12      F                    NaN   35\n",
       "1994-03-03        5105 1994-03-03      M                    NaN   24\n",
       "1969-11-03        5188 1969-11-03      M  Learning Difficulties   49\n",
       "1994-08-04        5213 1994-08-04      M                    NaN   24"
      ]
     },
     "execution_count": 38,
     "metadata": {},
     "output_type": "execute_result"
    }
   ],
   "source": [
    "users.head()"
   ]
  },
  {
   "cell_type": "code",
   "execution_count": null,
   "metadata": {},
   "outputs": [],
   "source": []
  }
 ],
 "metadata": {
  "kernelspec": {
   "display_name": "Python 3",
   "language": "python",
   "name": "python3"
  },
  "language_info": {
   "codemirror_mode": {
    "name": "ipython",
    "version": 3
   },
   "file_extension": ".py",
   "mimetype": "text/x-python",
   "name": "python",
   "nbconvert_exporter": "python",
   "pygments_lexer": "ipython3",
   "version": "3.7.0"
  }
 },
 "nbformat": 4,
 "nbformat_minor": 2
}
