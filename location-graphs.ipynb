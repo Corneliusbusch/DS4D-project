{
 "cells": [
  {
   "cell_type": "code",
   "execution_count": 1,
   "metadata": {},
   "outputs": [],
   "source": [
    "import pandas as pd\n",
    "import numpy as np\n",
    "import seaborn as sns  \n",
    "import matplotlib.pyplot as plt\n",
    "from datetime import date\n",
    "from dateutil.relativedelta import relativedelta\n",
    "%matplotlib inline \n",
    "\n",
    "# IMPORTANT:\n",
    "# Redownload the files from slack and Outlook "
   ]
  },
  {
   "cell_type": "markdown",
   "metadata": {},
   "source": [
    "##### DATA (the anonymised dataframe) "
   ]
  },
  {
   "cell_type": "code",
   "execution_count": 2,
   "metadata": {},
   "outputs": [],
   "source": [
    "#import main dataframe\n",
    "data = pd.read_csv('locations.csv', low_memory=False)"
   ]
  },
  {
   "cell_type": "code",
   "execution_count": 3,
   "metadata": {},
   "outputs": [],
   "source": [
    "#rename City column and drop empty columns\n",
    "data.rename( columns={'Unnamed: 5':'City'}, inplace=True )\n",
    "data = data.drop(data.columns[data.columns.str.contains('unnamed',case = False)],axis = 1)"
   ]
  },
  {
   "cell_type": "code",
   "execution_count": 4,
   "metadata": {},
   "outputs": [],
   "source": [
    "#drop VisitorID and ContentInfo\n",
    "data = data.drop(columns=['VisitorID', 'ContentInfo'])"
   ]
  },
  {
   "cell_type": "code",
   "execution_count": 5,
   "metadata": {},
   "outputs": [],
   "source": [
    "#just getting rid of the space after the name\n",
    "data = data.replace('STH Ayshire St Leonards ', 'STH Ayshire St Leonards')"
   ]
  },
  {
   "cell_type": "code",
   "execution_count": 6,
   "metadata": {},
   "outputs": [],
   "source": [
    "#drop nan in Building\n",
    "data = data.dropna(subset=['Building'])"
   ]
  },
  {
   "cell_type": "code",
   "execution_count": 7,
   "metadata": {},
   "outputs": [
    {
     "data": {
      "text/html": [
       "<div>\n",
       "<style scoped>\n",
       "    .dataframe tbody tr th:only-of-type {\n",
       "        vertical-align: middle;\n",
       "    }\n",
       "\n",
       "    .dataframe tbody tr th {\n",
       "        vertical-align: top;\n",
       "    }\n",
       "\n",
       "    .dataframe thead th {\n",
       "        text-align: right;\n",
       "    }\n",
       "</style>\n",
       "<table border=\"1\" class=\"dataframe\">\n",
       "  <thead>\n",
       "    <tr style=\"text-align: right;\">\n",
       "      <th></th>\n",
       "      <th>Time</th>\n",
       "      <th>ExternalID</th>\n",
       "      <th>Role</th>\n",
       "      <th>Building</th>\n",
       "      <th>City</th>\n",
       "      <th>LinkTitle</th>\n",
       "      <th>LinkType</th>\n",
       "    </tr>\n",
       "  </thead>\n",
       "  <tbody>\n",
       "    <tr>\n",
       "      <th>0</th>\n",
       "      <td>2018-10-29 10:55:00</td>\n",
       "      <td>5325.0</td>\n",
       "      <td>User</td>\n",
       "      <td>Broom Ground</td>\n",
       "      <td>Stirling</td>\n",
       "      <td>Sam Smith</td>\n",
       "      <td>Internet</td>\n",
       "    </tr>\n",
       "    <tr>\n",
       "      <th>1</th>\n",
       "      <td>2018-10-29 10:50:00</td>\n",
       "      <td>5325.0</td>\n",
       "      <td>User</td>\n",
       "      <td>Broom Ground</td>\n",
       "      <td>Stirling</td>\n",
       "      <td>Elton John</td>\n",
       "      <td>Internet</td>\n",
       "    </tr>\n",
       "    <tr>\n",
       "      <th>2</th>\n",
       "      <td>2018-10-29 10:49:00</td>\n",
       "      <td>5325.0</td>\n",
       "      <td>User</td>\n",
       "      <td>Broom Ground</td>\n",
       "      <td>Stirling</td>\n",
       "      <td>My Music</td>\n",
       "      <td>Category</td>\n",
       "    </tr>\n",
       "    <tr>\n",
       "      <th>3</th>\n",
       "      <td>2018-10-29 10:49:00</td>\n",
       "      <td>5325.0</td>\n",
       "      <td>User</td>\n",
       "      <td>Broom Ground</td>\n",
       "      <td>Stirling</td>\n",
       "      <td>Entertainment</td>\n",
       "      <td>Category</td>\n",
       "    </tr>\n",
       "    <tr>\n",
       "      <th>4</th>\n",
       "      <td>2018-10-29 10:48:00</td>\n",
       "      <td>NaN</td>\n",
       "      <td>User</td>\n",
       "      <td>Belses Gardens - Care Home</td>\n",
       "      <td>Glasgow</td>\n",
       "      <td>BBC Formula 1</td>\n",
       "      <td>Internet</td>\n",
       "    </tr>\n",
       "  </tbody>\n",
       "</table>\n",
       "</div>"
      ],
      "text/plain": [
       "                 Time  ExternalID  Role                    Building      City  \\\n",
       "0 2018-10-29 10:55:00      5325.0  User                Broom Ground  Stirling   \n",
       "1 2018-10-29 10:50:00      5325.0  User                Broom Ground  Stirling   \n",
       "2 2018-10-29 10:49:00      5325.0  User                Broom Ground  Stirling   \n",
       "3 2018-10-29 10:49:00      5325.0  User                Broom Ground  Stirling   \n",
       "4 2018-10-29 10:48:00         NaN  User  Belses Gardens - Care Home   Glasgow   \n",
       "\n",
       "       LinkTitle  LinkType  \n",
       "0      Sam Smith  Internet  \n",
       "1     Elton John  Internet  \n",
       "2       My Music  Category  \n",
       "3  Entertainment  Category  \n",
       "4  BBC Formula 1  Internet  "
      ]
     },
     "execution_count": 7,
     "metadata": {},
     "output_type": "execute_result"
    }
   ],
   "source": [
    "#change time to datetime\n",
    "data['Time'] = pd.to_datetime(data['Time'], format = \"%d/%m/%Y %H:%M\", utc=False)\n",
    "data.head()"
   ]
  },
  {
   "cell_type": "code",
   "execution_count": 8,
   "metadata": {},
   "outputs": [],
   "source": [
    "#change ExternalIDs to integers\n",
    "data.ExternalID = data.ExternalID.fillna(0).astype(int)"
   ]
  },
  {
   "cell_type": "code",
   "execution_count": 9,
   "metadata": {},
   "outputs": [],
   "source": [
    "#drop rows that are identical\n",
    "data = data.drop_duplicates(keep='first')"
   ]
  },
  {
   "cell_type": "code",
   "execution_count": 10,
   "metadata": {},
   "outputs": [],
   "source": [
    "#new dataframe with no null ExternalID vaues\n",
    "data = data[data.ExternalID != 0]"
   ]
  },
  {
   "cell_type": "markdown",
   "metadata": {},
   "source": [
    "##### USERS (the user dataframe) "
   ]
  },
  {
   "cell_type": "code",
   "execution_count": 11,
   "metadata": {},
   "outputs": [],
   "source": [
    "#import users dataframe\n",
    "users = pd.read_csv('PrimaryConditions age sex by customer reference.csv', low_memory=False)"
   ]
  },
  {
   "cell_type": "code",
   "execution_count": 12,
   "metadata": {},
   "outputs": [],
   "source": [
    "#drop empty column and CleverCogsUserId\n",
    "users = users.drop(users.columns[users.columns.str.contains('unnamed',case = False)],axis = 1)\n",
    "users = users.drop(columns=['CleverCogsUserId'])"
   ]
  },
  {
   "cell_type": "code",
   "execution_count": 13,
   "metadata": {},
   "outputs": [],
   "source": [
    "#delete empty row\n",
    "users = users.dropna(axis=0, how='all', inplace=False)"
   ]
  },
  {
   "cell_type": "code",
   "execution_count": 14,
   "metadata": {},
   "outputs": [
    {
     "data": {
      "text/html": [
       "<div>\n",
       "<style scoped>\n",
       "    .dataframe tbody tr th:only-of-type {\n",
       "        vertical-align: middle;\n",
       "    }\n",
       "\n",
       "    .dataframe tbody tr th {\n",
       "        vertical-align: top;\n",
       "    }\n",
       "\n",
       "    .dataframe thead th {\n",
       "        text-align: right;\n",
       "    }\n",
       "</style>\n",
       "<table border=\"1\" class=\"dataframe\">\n",
       "  <thead>\n",
       "    <tr style=\"text-align: right;\">\n",
       "      <th></th>\n",
       "      <th>ExternalID</th>\n",
       "      <th>BirthDate</th>\n",
       "      <th>Gender</th>\n",
       "      <th>Condition</th>\n",
       "    </tr>\n",
       "  </thead>\n",
       "  <tbody>\n",
       "    <tr>\n",
       "      <th>0</th>\n",
       "      <td>4703</td>\n",
       "      <td>04/07/1965</td>\n",
       "      <td>F</td>\n",
       "      <td>Spina Bifida</td>\n",
       "    </tr>\n",
       "    <tr>\n",
       "      <th>1</th>\n",
       "      <td>4704</td>\n",
       "      <td>21/06/1940</td>\n",
       "      <td>F</td>\n",
       "      <td>COPD</td>\n",
       "    </tr>\n",
       "    <tr>\n",
       "      <th>2</th>\n",
       "      <td>4706</td>\n",
       "      <td>25/02/1931</td>\n",
       "      <td>F</td>\n",
       "      <td>Dementia</td>\n",
       "    </tr>\n",
       "    <tr>\n",
       "      <th>3</th>\n",
       "      <td>4707</td>\n",
       "      <td>18/09/1982</td>\n",
       "      <td>F</td>\n",
       "      <td>Brain Injury</td>\n",
       "    </tr>\n",
       "    <tr>\n",
       "      <th>4</th>\n",
       "      <td>4708</td>\n",
       "      <td>20/12/1931</td>\n",
       "      <td>F</td>\n",
       "      <td>NaN</td>\n",
       "    </tr>\n",
       "  </tbody>\n",
       "</table>\n",
       "</div>"
      ],
      "text/plain": [
       "   ExternalID   BirthDate Gender     Condition\n",
       "0        4703  04/07/1965      F  Spina Bifida\n",
       "1        4704  21/06/1940      F          COPD\n",
       "2        4706  25/02/1931      F      Dementia\n",
       "3        4707  18/09/1982      F  Brain Injury\n",
       "4        4708  20/12/1931      F           NaN"
      ]
     },
     "execution_count": 14,
     "metadata": {},
     "output_type": "execute_result"
    }
   ],
   "source": [
    "#change ExternalID into integers\n",
    "users['ExternalID'] = users['ExternalID'].apply(np.int64)\n",
    "users.shape\n",
    "users.head()"
   ]
  },
  {
   "cell_type": "code",
   "execution_count": 15,
   "metadata": {},
   "outputs": [
    {
     "data": {
      "text/plain": [
       "(680, 4)"
      ]
     },
     "execution_count": 15,
     "metadata": {},
     "output_type": "execute_result"
    }
   ],
   "source": [
    "#drop duplicates\n",
    "users = users.drop_duplicates(subset = ['ExternalID'], keep='last')\n",
    "users.shape"
   ]
  },
  {
   "cell_type": "code",
   "execution_count": 16,
   "metadata": {},
   "outputs": [
    {
     "data": {
      "text/html": [
       "<div>\n",
       "<style scoped>\n",
       "    .dataframe tbody tr th:only-of-type {\n",
       "        vertical-align: middle;\n",
       "    }\n",
       "\n",
       "    .dataframe tbody tr th {\n",
       "        vertical-align: top;\n",
       "    }\n",
       "\n",
       "    .dataframe thead th {\n",
       "        text-align: right;\n",
       "    }\n",
       "</style>\n",
       "<table border=\"1\" class=\"dataframe\">\n",
       "  <thead>\n",
       "    <tr style=\"text-align: right;\">\n",
       "      <th></th>\n",
       "      <th>ExternalID</th>\n",
       "      <th>BirthDate</th>\n",
       "      <th>Gender</th>\n",
       "      <th>Condition</th>\n",
       "    </tr>\n",
       "    <tr>\n",
       "      <th>BirthDate</th>\n",
       "      <th></th>\n",
       "      <th></th>\n",
       "      <th></th>\n",
       "      <th></th>\n",
       "    </tr>\n",
       "  </thead>\n",
       "  <tbody>\n",
       "    <tr>\n",
       "      <th>1965-07-04</th>\n",
       "      <td>4703</td>\n",
       "      <td>1965-07-04</td>\n",
       "      <td>F</td>\n",
       "      <td>Spina Bifida</td>\n",
       "    </tr>\n",
       "    <tr>\n",
       "      <th>1940-06-21</th>\n",
       "      <td>4704</td>\n",
       "      <td>1940-06-21</td>\n",
       "      <td>F</td>\n",
       "      <td>COPD</td>\n",
       "    </tr>\n",
       "    <tr>\n",
       "      <th>1931-02-25</th>\n",
       "      <td>4706</td>\n",
       "      <td>1931-02-25</td>\n",
       "      <td>F</td>\n",
       "      <td>Dementia</td>\n",
       "    </tr>\n",
       "    <tr>\n",
       "      <th>1982-09-18</th>\n",
       "      <td>4707</td>\n",
       "      <td>1982-09-18</td>\n",
       "      <td>F</td>\n",
       "      <td>Brain Injury</td>\n",
       "    </tr>\n",
       "    <tr>\n",
       "      <th>1931-12-20</th>\n",
       "      <td>4708</td>\n",
       "      <td>1931-12-20</td>\n",
       "      <td>F</td>\n",
       "      <td>NaN</td>\n",
       "    </tr>\n",
       "  </tbody>\n",
       "</table>\n",
       "</div>"
      ],
      "text/plain": [
       "            ExternalID  BirthDate Gender     Condition\n",
       "BirthDate                                             \n",
       "1965-07-04        4703 1965-07-04      F  Spina Bifida\n",
       "1940-06-21        4704 1940-06-21      F          COPD\n",
       "1931-02-25        4706 1931-02-25      F      Dementia\n",
       "1982-09-18        4707 1982-09-18      F  Brain Injury\n",
       "1931-12-20        4708 1931-12-20      F           NaN"
      ]
     },
     "execution_count": 16,
     "metadata": {},
     "output_type": "execute_result"
    }
   ],
   "source": [
    "#change BirthDate to date time\n",
    "#users['BirthDate'] = pd.to_datetime(users['BirthDate'], format = \"%m/%d/%y\", dayfirst=False, utc=True)\n",
    "\n",
    "users['BirthDate'] = pd.to_datetime(users['BirthDate'], errors='coerce', dayfirst=False, yearfirst=False, \n",
    "                   format=\"%d/%m/%Y\", utc=False, infer_datetime_format=False, origin='unix')\n",
    "users = users.set_index(pd.DatetimeIndex(users['BirthDate']))\n",
    "\n",
    "#Remove erroneous entries\n",
    "threshold = pd.to_datetime(\"2010-01-01\", format=\"%Y-%m-%d\", utc=False, origin='unix')\n",
    "users = users[users['BirthDate'] < threshold]\n",
    "\n",
    "users.head()"
   ]
  },
  {
   "cell_type": "code",
   "execution_count": 17,
   "metadata": {},
   "outputs": [],
   "source": [
    "now = pd.to_datetime(date.today())\n",
    "\n",
    "def getYears(start):\n",
    "    diff = relativedelta(now, start)\n",
    "    return diff.years\n",
    "\n",
    "# Add a new column that contains the age of the user\n",
    "users[\"Age\"] = users['BirthDate'].map(getYears)"
   ]
  },
  {
   "cell_type": "code",
   "execution_count": 18,
   "metadata": {},
   "outputs": [
    {
     "data": {
      "text/html": [
       "<div>\n",
       "<style scoped>\n",
       "    .dataframe tbody tr th:only-of-type {\n",
       "        vertical-align: middle;\n",
       "    }\n",
       "\n",
       "    .dataframe tbody tr th {\n",
       "        vertical-align: top;\n",
       "    }\n",
       "\n",
       "    .dataframe thead th {\n",
       "        text-align: right;\n",
       "    }\n",
       "</style>\n",
       "<table border=\"1\" class=\"dataframe\">\n",
       "  <thead>\n",
       "    <tr style=\"text-align: right;\">\n",
       "      <th></th>\n",
       "      <th>ExternalID</th>\n",
       "      <th>BirthDate</th>\n",
       "      <th>Gender</th>\n",
       "      <th>Condition</th>\n",
       "      <th>Age</th>\n",
       "    </tr>\n",
       "    <tr>\n",
       "      <th>BirthDate</th>\n",
       "      <th></th>\n",
       "      <th></th>\n",
       "      <th></th>\n",
       "      <th></th>\n",
       "      <th></th>\n",
       "    </tr>\n",
       "  </thead>\n",
       "  <tbody>\n",
       "    <tr>\n",
       "      <th>1965-07-04</th>\n",
       "      <td>4703</td>\n",
       "      <td>1965-07-04</td>\n",
       "      <td>F</td>\n",
       "      <td>Spina Bifida</td>\n",
       "      <td>53</td>\n",
       "    </tr>\n",
       "    <tr>\n",
       "      <th>1940-06-21</th>\n",
       "      <td>4704</td>\n",
       "      <td>1940-06-21</td>\n",
       "      <td>F</td>\n",
       "      <td>COPD</td>\n",
       "      <td>78</td>\n",
       "    </tr>\n",
       "    <tr>\n",
       "      <th>1931-02-25</th>\n",
       "      <td>4706</td>\n",
       "      <td>1931-02-25</td>\n",
       "      <td>F</td>\n",
       "      <td>Dementia</td>\n",
       "      <td>87</td>\n",
       "    </tr>\n",
       "    <tr>\n",
       "      <th>1982-09-18</th>\n",
       "      <td>4707</td>\n",
       "      <td>1982-09-18</td>\n",
       "      <td>F</td>\n",
       "      <td>Brain Injury</td>\n",
       "      <td>36</td>\n",
       "    </tr>\n",
       "    <tr>\n",
       "      <th>1931-12-20</th>\n",
       "      <td>4708</td>\n",
       "      <td>1931-12-20</td>\n",
       "      <td>F</td>\n",
       "      <td>NaN</td>\n",
       "      <td>86</td>\n",
       "    </tr>\n",
       "  </tbody>\n",
       "</table>\n",
       "</div>"
      ],
      "text/plain": [
       "            ExternalID  BirthDate Gender     Condition  Age\n",
       "BirthDate                                                  \n",
       "1965-07-04        4703 1965-07-04      F  Spina Bifida   53\n",
       "1940-06-21        4704 1940-06-21      F          COPD   78\n",
       "1931-02-25        4706 1931-02-25      F      Dementia   87\n",
       "1982-09-18        4707 1982-09-18      F  Brain Injury   36\n",
       "1931-12-20        4708 1931-12-20      F           NaN   86"
      ]
     },
     "execution_count": 18,
     "metadata": {},
     "output_type": "execute_result"
    }
   ],
   "source": [
    "users.head()"
   ]
  },
  {
   "cell_type": "code",
   "execution_count": 19,
   "metadata": {},
   "outputs": [
    {
     "name": "stdout",
     "output_type": "stream",
     "text": [
      "1 :  Stirling\n",
      "2 :  Ayr\n",
      "3 :  Edinburgh\n",
      "4 :  Dundee\n",
      "5 :  Aberdeen\n",
      "6 :  Dundee (Tayside)\n",
      "7 :  test user\n",
      "8 :  Glasgow\n",
      "9 :  Arbroath (Tayside)\n"
     ]
    }
   ],
   "source": [
    "#print all Cities, drop or group unneccessary\n",
    "city = data.City.unique()\n",
    "index = 1\n",
    "for item in city:\n",
    "    print(index, ': ', item)\n",
    "    index += 1"
   ]
  },
  {
   "cell_type": "code",
   "execution_count": 20,
   "metadata": {},
   "outputs": [],
   "source": [
    "data = data.replace('Dundee (Tayside)', 'Dundee')\n",
    "#replace Arbroath with Dundee, since they are very close and there is only 1 user in Arbroath-->generalise location\n",
    "data = data.replace('Arbroath (Tayside)', 'Dundee')"
   ]
  },
  {
   "cell_type": "code",
   "execution_count": 21,
   "metadata": {},
   "outputs": [],
   "source": [
    "#drop rows when assumed data is not from actual user\n",
    "data = data[(data.City != 'Test user ignore') & (data.City != 'test user')]"
   ]
  },
  {
   "cell_type": "code",
   "execution_count": 22,
   "metadata": {},
   "outputs": [
    {
     "name": "stdout",
     "output_type": "stream",
     "text": [
      "1 :  Stirling\n",
      "2 :  Ayr\n",
      "3 :  Edinburgh\n",
      "4 :  Dundee\n",
      "5 :  Aberdeen\n",
      "6 :  Glasgow\n"
     ]
    }
   ],
   "source": [
    "city = data.City.unique()\n",
    "index = 1\n",
    "for item in city:\n",
    "    print(index, ': ', item)\n",
    "    index += 1"
   ]
  },
  {
   "cell_type": "code",
   "execution_count": 23,
   "metadata": {},
   "outputs": [
    {
     "name": "stdout",
     "output_type": "stream",
     "text": [
      "Number of users in total :  93\n",
      "        City  NumberOfUsers\n",
      "0   Aberdeen              9\n",
      "1        Ayr             11\n",
      "2     Dundee             22\n",
      "3  Edinburgh             27\n",
      "4    Glasgow              6\n",
      "5   Stirling             18\n"
     ]
    },
    {
     "data": {
      "text/plain": [
       "City             AberdeenAyrDundeeEdinburghGlasgowStirling\n",
       "NumberOfUsers                                           93\n",
       "dtype: object"
      ]
     },
     "execution_count": 23,
     "metadata": {},
     "output_type": "execute_result"
    }
   ],
   "source": [
    "#Count the number of the users in each City\n",
    "print ('Number of users in total : ', data.ExternalID.nunique())\n",
    "\n",
    "numberOfUsers = data.groupby('City')['ExternalID'].nunique().reset_index(name='NumberOfUsers')\n",
    "\n",
    "#add column NumberOfUsers on the dataframe\n",
    "data = pd.merge(data, numberOfUsers, on = 'City', how='left')\n",
    "\n",
    "print (numberOfUsers)\n",
    "np.sum(numberOfUsers)"
   ]
  },
  {
   "cell_type": "code",
   "execution_count": 24,
   "metadata": {},
   "outputs": [
    {
     "name": "stdout",
     "output_type": "stream",
     "text": [
      "        City  NumberOfClicks\n",
      "0  Edinburgh           24442\n",
      "1   Stirling           21632\n",
      "2        Ayr           18599\n",
      "3     Dundee           16826\n",
      "4   Aberdeen            4015\n",
      "5    Glasgow            2099\n"
     ]
    }
   ],
   "source": [
    "#Calculate number of clicks per each location over period of 10 months\n",
    "logs = data['City'].value_counts().reset_index(name='NumberOfClicks')\n",
    "logs.columns = logs.columns.str.replace('index','City')\n",
    "\n",
    "##add column NumberOfClicks on the dataframe\n",
    "data = pd.merge(data, logs, on = 'City', how='left')\n",
    "\n",
    "print(logs)"
   ]
  },
  {
   "cell_type": "code",
   "execution_count": 25,
   "metadata": {},
   "outputs": [],
   "source": [
    "#calculate average of cliks per person\n",
    "data['AverageUsage'] = data.NumberOfClicks / data.NumberOfUsers"
   ]
  },
  {
   "cell_type": "code",
   "execution_count": 26,
   "metadata": {},
   "outputs": [],
   "source": [
    "#define months and assign index\n",
    "january = pd.to_datetime(\"2018-01-31\", format=\"%Y-%m-%d\", utc=False, origin='unix')\n",
    "february = pd.to_datetime(\"2018-02-28\", format=\"%Y-%m-%d\", utc=False, origin='unix')\n",
    "march = pd.to_datetime(\"2018-03-31\", format=\"%Y-%m-%d\", utc=False, origin='unix')\n",
    "april = pd.to_datetime(\"2018-04-30\", format=\"%Y-%m-%d\", utc=False, origin='unix')\n",
    "may = pd.to_datetime(\"2018-05-31\", format=\"%Y-%m-%d\", utc=False, origin='unix')\n",
    "june = pd.to_datetime(\"2018-06-30\", format=\"%Y-%m-%d\", utc=False, origin='unix')\n",
    "july = pd.to_datetime(\"2018-07-31\", format=\"%Y-%m-%d\", utc=False, origin='unix')\n",
    "august = pd.to_datetime(\"2018-08-31\", format=\"%Y-%m-%d\", utc=False, origin='unix')\n",
    "september = pd.to_datetime(\"2018-09-30\", format=\"%Y-%m-%d\", utc=False, origin='unix')\n",
    "october = pd.to_datetime(\"2018-10-31\", format=\"%Y-%m-%d\", utc=False, origin='unix')\n",
    "\n",
    "def months(date):\n",
    "    if date <= january:\n",
    "        return 'January'\n",
    "    elif january < date <= february:\n",
    "        return 'February'\n",
    "    elif february < date <= march:\n",
    "        return 'March'\n",
    "    elif march < date <= april:\n",
    "        return 'April'\n",
    "    elif april < date <= may:\n",
    "        return 'May'\n",
    "    elif may < date <= june:\n",
    "        return 'June'\n",
    "    elif june < date <= july:\n",
    "        return 'July'\n",
    "    elif july < date <= august:\n",
    "        return 'August'\n",
    "    elif august < date <= september:\n",
    "        return 'September'\n",
    "    elif september < date <= october:\n",
    "        return 'October'\n",
    "    \n",
    "def monthindex(month):\n",
    "    if month == 'January':\n",
    "        return 1\n",
    "    elif month == 'February':\n",
    "        return 2\n",
    "    elif month == 'March':\n",
    "        return 3\n",
    "    elif month == 'April':\n",
    "        return 4\n",
    "    elif month == 'May':\n",
    "        return 5\n",
    "    elif month == 'June':\n",
    "        return 6\n",
    "    if month == 'July':\n",
    "        return 7\n",
    "    elif month == 'August':\n",
    "        return 8\n",
    "    elif month == 'September':\n",
    "        return 9\n",
    "    else:\n",
    "        return 10\n",
    "\n",
    "data['Month'] = data['Time'].map(months)\n",
    "data['MonthIndex'] = data['Month'].map(monthindex)"
   ]
  },
  {
   "cell_type": "code",
   "execution_count": 27,
   "metadata": {},
   "outputs": [],
   "source": [
    "ClicksPerMonth = data.groupby(['Month', 'City','MonthIndex', 'NumberOfUsers'])['ExternalID'].count().reset_index(name='ClicksPerMonth').sort_values(by=['MonthIndex'])\n",
    "ClicksPerMonth['AverageUsageMonth'] = ClicksPerMonth['ClicksPerMonth'] / ClicksPerMonth['NumberOfUsers']"
   ]
  },
  {
   "cell_type": "code",
   "execution_count": 28,
   "metadata": {},
   "outputs": [
    {
     "data": {
      "text/html": [
       "<div>\n",
       "<style scoped>\n",
       "    .dataframe tbody tr th:only-of-type {\n",
       "        vertical-align: middle;\n",
       "    }\n",
       "\n",
       "    .dataframe tbody tr th {\n",
       "        vertical-align: top;\n",
       "    }\n",
       "\n",
       "    .dataframe thead th {\n",
       "        text-align: right;\n",
       "    }\n",
       "</style>\n",
       "<table border=\"1\" class=\"dataframe\">\n",
       "  <thead>\n",
       "    <tr style=\"text-align: right;\">\n",
       "      <th></th>\n",
       "      <th>Time</th>\n",
       "      <th>ExternalID</th>\n",
       "      <th>Role</th>\n",
       "      <th>Building</th>\n",
       "      <th>City</th>\n",
       "      <th>LinkTitle</th>\n",
       "      <th>LinkType</th>\n",
       "      <th>NumberOfUsers</th>\n",
       "      <th>NumberOfClicks</th>\n",
       "      <th>AverageUsage</th>\n",
       "      <th>Month</th>\n",
       "      <th>MonthIndex</th>\n",
       "    </tr>\n",
       "  </thead>\n",
       "  <tbody>\n",
       "    <tr>\n",
       "      <th>0</th>\n",
       "      <td>2018-10-29 10:55:00</td>\n",
       "      <td>5325</td>\n",
       "      <td>User</td>\n",
       "      <td>Broom Ground</td>\n",
       "      <td>Stirling</td>\n",
       "      <td>Sam Smith</td>\n",
       "      <td>Internet</td>\n",
       "      <td>18</td>\n",
       "      <td>21632</td>\n",
       "      <td>1201.777778</td>\n",
       "      <td>October</td>\n",
       "      <td>10</td>\n",
       "    </tr>\n",
       "    <tr>\n",
       "      <th>1</th>\n",
       "      <td>2018-10-29 10:50:00</td>\n",
       "      <td>5325</td>\n",
       "      <td>User</td>\n",
       "      <td>Broom Ground</td>\n",
       "      <td>Stirling</td>\n",
       "      <td>Elton John</td>\n",
       "      <td>Internet</td>\n",
       "      <td>18</td>\n",
       "      <td>21632</td>\n",
       "      <td>1201.777778</td>\n",
       "      <td>October</td>\n",
       "      <td>10</td>\n",
       "    </tr>\n",
       "    <tr>\n",
       "      <th>2</th>\n",
       "      <td>2018-10-29 10:49:00</td>\n",
       "      <td>5325</td>\n",
       "      <td>User</td>\n",
       "      <td>Broom Ground</td>\n",
       "      <td>Stirling</td>\n",
       "      <td>My Music</td>\n",
       "      <td>Category</td>\n",
       "      <td>18</td>\n",
       "      <td>21632</td>\n",
       "      <td>1201.777778</td>\n",
       "      <td>October</td>\n",
       "      <td>10</td>\n",
       "    </tr>\n",
       "    <tr>\n",
       "      <th>3</th>\n",
       "      <td>2018-10-29 10:49:00</td>\n",
       "      <td>5325</td>\n",
       "      <td>User</td>\n",
       "      <td>Broom Ground</td>\n",
       "      <td>Stirling</td>\n",
       "      <td>Entertainment</td>\n",
       "      <td>Category</td>\n",
       "      <td>18</td>\n",
       "      <td>21632</td>\n",
       "      <td>1201.777778</td>\n",
       "      <td>October</td>\n",
       "      <td>10</td>\n",
       "    </tr>\n",
       "    <tr>\n",
       "      <th>4</th>\n",
       "      <td>2018-10-29 10:41:00</td>\n",
       "      <td>5541</td>\n",
       "      <td>User</td>\n",
       "      <td>STH Ayshire St Leonards</td>\n",
       "      <td>Ayr</td>\n",
       "      <td>YouTube</td>\n",
       "      <td>Internet</td>\n",
       "      <td>11</td>\n",
       "      <td>18599</td>\n",
       "      <td>1690.818182</td>\n",
       "      <td>October</td>\n",
       "      <td>10</td>\n",
       "    </tr>\n",
       "  </tbody>\n",
       "</table>\n",
       "</div>"
      ],
      "text/plain": [
       "                 Time  ExternalID  Role                 Building      City  \\\n",
       "0 2018-10-29 10:55:00        5325  User             Broom Ground  Stirling   \n",
       "1 2018-10-29 10:50:00        5325  User             Broom Ground  Stirling   \n",
       "2 2018-10-29 10:49:00        5325  User             Broom Ground  Stirling   \n",
       "3 2018-10-29 10:49:00        5325  User             Broom Ground  Stirling   \n",
       "4 2018-10-29 10:41:00        5541  User  STH Ayshire St Leonards       Ayr   \n",
       "\n",
       "       LinkTitle  LinkType  NumberOfUsers  NumberOfClicks  AverageUsage  \\\n",
       "0      Sam Smith  Internet             18           21632   1201.777778   \n",
       "1     Elton John  Internet             18           21632   1201.777778   \n",
       "2       My Music  Category             18           21632   1201.777778   \n",
       "3  Entertainment  Category             18           21632   1201.777778   \n",
       "4        YouTube  Internet             11           18599   1690.818182   \n",
       "\n",
       "     Month  MonthIndex  \n",
       "0  October          10  \n",
       "1  October          10  \n",
       "2  October          10  \n",
       "3  October          10  \n",
       "4  October          10  "
      ]
     },
     "execution_count": 28,
     "metadata": {},
     "output_type": "execute_result"
    }
   ],
   "source": [
    "data.head()"
   ]
  },
  {
   "cell_type": "code",
   "execution_count": 29,
   "metadata": {},
   "outputs": [
    {
     "name": "stderr",
     "output_type": "stream",
     "text": [
      "/Users/Mojca/anaconda3/lib/python3.7/site-packages/seaborn/categorical.py:3692: UserWarning: The `size` paramter has been renamed to `height`; please update your code.\n",
      "  warnings.warn(msg, UserWarning)\n",
      "/Users/Mojca/anaconda3/lib/python3.7/site-packages/scipy/stats/stats.py:1713: FutureWarning: Using a non-tuple sequence for multidimensional indexing is deprecated; use `arr[tuple(seq)]` instead of `arr[seq]`. In the future this will be interpreted as an array index, `arr[np.array(seq)]`, which will result either in an error or a different result.\n",
      "  return np.add.reduce(sorted[indexer] * weights, axis=axis) / sumval\n",
      "/Users/Mojca/anaconda3/lib/python3.7/site-packages/seaborn/categorical.py:3692: UserWarning: The `size` paramter has been renamed to `height`; please update your code.\n",
      "  warnings.warn(msg, UserWarning)\n",
      "/Users/Mojca/anaconda3/lib/python3.7/site-packages/seaborn/categorical.py:3692: UserWarning: The `size` paramter has been renamed to `height`; please update your code.\n",
      "  warnings.warn(msg, UserWarning)\n",
      "/Users/Mojca/anaconda3/lib/python3.7/site-packages/seaborn/categorical.py:3692: UserWarning: The `size` paramter has been renamed to `height`; please update your code.\n",
      "  warnings.warn(msg, UserWarning)\n"
     ]
    },
    {
     "data": {
      "image/png": "[encoded data removed]",
      "text/plain": [
       "<Figure size 864x432 with 1 Axes>"
      ]
     },
     "metadata": {
      "needs_background": "light"
     },
     "output_type": "display_data"
    },
    {
     "data": {
      "image/png": "[encoded data removed]",
      "text/plain": [
       "<Figure size 864x432 with 1 Axes>"
      ]
     },
     "metadata": {
      "needs_background": "light"
     },
     "output_type": "display_data"
    },
    {
     "data": {
      "image/png": "[encoded data removed]",
      "text/plain": [
       "<Figure size 864x432 with 1 Axes>"
      ]
     },
     "metadata": {
      "needs_background": "light"
     },
     "output_type": "display_data"
    },
    {
     "data": {
      "image/png": "[encoded data removed]",
      "text/plain": [
       "<Figure size 954.75x432 with 1 Axes>"
      ]
     },
     "metadata": {
      "needs_background": "light"
     },
     "output_type": "display_data"
    }
   ],
   "source": [
    "UsersInCity = sns.catplot(x='City', y='NumberOfUsers', kind='bar', color=\"green\", data=data, size=6, aspect=2, order=data['City'].value_counts().index)\n",
    "UsersInCity.fig.suptitle('Number of users on each location')\n",
    "plt.savefig(\"UsersInCity.svg\")\n",
    "\n",
    "FrequencyUsersCity = sns.catplot(x='City', y='NumberOfClicks', kind='bar', color=\"#003f5c\", data=data, size=6, aspect=2, order=data['City'].value_counts().index)\n",
    "FrequencyUsersCity.fig.suptitle('Number of clicks over 10 months')\n",
    "plt.savefig(\"FrequencyUsersCity.svg\")\n",
    "\n",
    "AverageUsageCity = sns.catplot(x='City', y='AverageUsage', kind='bar', color=\"pink\", data=data, size=6, aspect=2, order=data['City'].value_counts().index)\n",
    "AverageUsageCity.fig.suptitle('Average usage per location over 10 months')\n",
    "plt.savefig(\"AverageUsageCity.svg\")\n",
    "\n",
    "MonthActivity = sns.catplot(x='City', y='AverageUsageMonth', hue='Month', kind='bar', palette=sns.color_palette(\"BrBG\", 10), data=ClicksPerMonth, size=6, aspect=2, order=data['City'].value_counts().index)\n",
    "MonthActivity.fig.suptitle('Average usage per location each month')\n",
    "plt.savefig(\"MonthActivity.svg\")\n"
   ]
  },
  {
   "cell_type": "code",
   "execution_count": 30,
   "metadata": {},
   "outputs": [
    {
     "data": {
      "image/png": "[encoded data removed]",
      "text/plain": [
       "<Figure size 2160x1080 with 6 Axes>"
      ]
     },
     "metadata": {
      "needs_background": "light"
     },
     "output_type": "display_data"
    }
   ],
   "source": [
    "sns.catplot(x=\"Month\", y=\"AverageUsageMonth\", col=\"City\", col_wrap=2,\n",
    "            data=ClicksPerMonth, saturation=.5,\n",
    "            kind=\"bar\", ci=None, aspect=3,)\n",
    "plt.savefig(\"MonthActivityByMonths.svg\")"
   ]
  }
 ],
 "metadata": {
  "kernelspec": {
   "display_name": "Python 3",
   "language": "python",
   "name": "python3"
  },
  "language_info": {
   "codemirror_mode": {
    "name": "ipython",
    "version": 3
   },
   "file_extension": ".py",
   "mimetype": "text/x-python",
   "name": "python",
   "nbconvert_exporter": "python",
   "pygments_lexer": "ipython3",
   "version": "3.7.0"
  }
 },
 "nbformat": 4,
 "nbformat_minor": 2
}
