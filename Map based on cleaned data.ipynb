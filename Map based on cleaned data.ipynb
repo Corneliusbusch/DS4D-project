{
 "cells": [
  {
   "cell_type": "code",
   "execution_count": 1,
   "metadata": {},
   "outputs": [],
   "source": [
    "import pandas as pd\n",
    "import numpy as np\n",
    "import seaborn as sns  \n",
    "import matplotlib.pyplot as plt\n",
    "from datetime import date\n",
    "from dateutil.relativedelta import relativedelta\n",
    "%matplotlib inline \n",
    "\n",
    "# IMPORTANT:\n",
    "# Redownload the files from slack and Outlook "
   ]
  },
  {
   "cell_type": "markdown",
   "metadata": {},
   "source": [
    "##### DATA (the anonymised dataframe) "
   ]
  },
  {
   "cell_type": "code",
   "execution_count": 2,
   "metadata": {},
   "outputs": [],
   "source": [
    "#import main dataframe\n",
    "data = pd.read_csv('locations.csv', low_memory=False)"
   ]
  },
  {
   "cell_type": "code",
   "execution_count": 3,
   "metadata": {},
   "outputs": [],
   "source": [
    "#rename City column and drop empty columns\n",
    "data.rename( columns={'Unnamed: 5':'City'}, inplace=True )\n",
    "data = data.drop(data.columns[data.columns.str.contains('unnamed',case = False)],axis = 1)"
   ]
  },
  {
   "cell_type": "code",
   "execution_count": 4,
   "metadata": {},
   "outputs": [],
   "source": [
    "#drop VisitorID and ContentInfo\n",
    "data = data.drop(columns=['VisitorID', 'ContentInfo'])"
   ]
  },
  {
   "cell_type": "code",
   "execution_count": 5,
   "metadata": {},
   "outputs": [],
   "source": [
    "#just getting rid of the space after the name\n",
    "data = data.replace('STH Ayshire St Leonards ', 'STH Ayshire St Leonards')"
   ]
  },
  {
   "cell_type": "code",
   "execution_count": 6,
   "metadata": {},
   "outputs": [],
   "source": [
    "#change time to datetime\n",
    "data['Time'] = pd.to_datetime(data['Time'], format = \"%d/%m/%Y %H:%M\", utc=False)"
   ]
  },
  {
   "cell_type": "code",
   "execution_count": 7,
   "metadata": {},
   "outputs": [],
   "source": [
    "#change ExternalIDs to integers\n",
    "data.ExternalID = data.ExternalID.fillna(0).astype(int)"
   ]
  },
  {
   "cell_type": "code",
   "execution_count": 8,
   "metadata": {},
   "outputs": [],
   "source": [
    "#drop rows that are identical\n",
    "data = data.drop_duplicates(keep='first')"
   ]
  },
  {
   "cell_type": "code",
   "execution_count": 9,
   "metadata": {},
   "outputs": [],
   "source": [
    "#new dataframe with no null ExternalID vaues\n",
    "dataNoNullUsers = data[data.ExternalID != 0]"
   ]
  },
  {
   "cell_type": "code",
   "execution_count": 10,
   "metadata": {},
   "outputs": [
    {
     "data": {
      "text/html": [
       "<div>\n",
       "<style scoped>\n",
       "    .dataframe tbody tr th:only-of-type {\n",
       "        vertical-align: middle;\n",
       "    }\n",
       "\n",
       "    .dataframe tbody tr th {\n",
       "        vertical-align: top;\n",
       "    }\n",
       "\n",
       "    .dataframe thead th {\n",
       "        text-align: right;\n",
       "    }\n",
       "</style>\n",
       "<table border=\"1\" class=\"dataframe\">\n",
       "  <thead>\n",
       "    <tr style=\"text-align: right;\">\n",
       "      <th></th>\n",
       "      <th>Time</th>\n",
       "      <th>ExternalID</th>\n",
       "      <th>Role</th>\n",
       "      <th>Building</th>\n",
       "      <th>City</th>\n",
       "      <th>LinkTitle</th>\n",
       "      <th>LinkType</th>\n",
       "    </tr>\n",
       "  </thead>\n",
       "  <tbody>\n",
       "    <tr>\n",
       "      <th>0</th>\n",
       "      <td>2018-10-29 10:55:00</td>\n",
       "      <td>5325</td>\n",
       "      <td>User</td>\n",
       "      <td>Broom Ground</td>\n",
       "      <td>Stirling</td>\n",
       "      <td>Sam Smith</td>\n",
       "      <td>Internet</td>\n",
       "    </tr>\n",
       "    <tr>\n",
       "      <th>1</th>\n",
       "      <td>2018-10-29 10:50:00</td>\n",
       "      <td>5325</td>\n",
       "      <td>User</td>\n",
       "      <td>Broom Ground</td>\n",
       "      <td>Stirling</td>\n",
       "      <td>Elton John</td>\n",
       "      <td>Internet</td>\n",
       "    </tr>\n",
       "    <tr>\n",
       "      <th>2</th>\n",
       "      <td>2018-10-29 10:49:00</td>\n",
       "      <td>5325</td>\n",
       "      <td>User</td>\n",
       "      <td>Broom Ground</td>\n",
       "      <td>Stirling</td>\n",
       "      <td>My Music</td>\n",
       "      <td>Category</td>\n",
       "    </tr>\n",
       "    <tr>\n",
       "      <th>3</th>\n",
       "      <td>2018-10-29 10:49:00</td>\n",
       "      <td>5325</td>\n",
       "      <td>User</td>\n",
       "      <td>Broom Ground</td>\n",
       "      <td>Stirling</td>\n",
       "      <td>Entertainment</td>\n",
       "      <td>Category</td>\n",
       "    </tr>\n",
       "    <tr>\n",
       "      <th>4</th>\n",
       "      <td>2018-10-29 10:48:00</td>\n",
       "      <td>0</td>\n",
       "      <td>User</td>\n",
       "      <td>Belses Gardens - Care Home</td>\n",
       "      <td>Glasgow</td>\n",
       "      <td>BBC Formula 1</td>\n",
       "      <td>Internet</td>\n",
       "    </tr>\n",
       "  </tbody>\n",
       "</table>\n",
       "</div>"
      ],
      "text/plain": [
       "                 Time  ExternalID  Role                    Building      City  \\\n",
       "0 2018-10-29 10:55:00        5325  User                Broom Ground  Stirling   \n",
       "1 2018-10-29 10:50:00        5325  User                Broom Ground  Stirling   \n",
       "2 2018-10-29 10:49:00        5325  User                Broom Ground  Stirling   \n",
       "3 2018-10-29 10:49:00        5325  User                Broom Ground  Stirling   \n",
       "4 2018-10-29 10:48:00           0  User  Belses Gardens - Care Home   Glasgow   \n",
       "\n",
       "       LinkTitle  LinkType  \n",
       "0      Sam Smith  Internet  \n",
       "1     Elton John  Internet  \n",
       "2       My Music  Category  \n",
       "3  Entertainment  Category  \n",
       "4  BBC Formula 1  Internet  "
      ]
     },
     "execution_count": 10,
     "metadata": {},
     "output_type": "execute_result"
    }
   ],
   "source": [
    "data.head()"
   ]
  },
  {
   "cell_type": "markdown",
   "metadata": {},
   "source": [
    "# Heatmap"
   ]
  },
  {
   "cell_type": "code",
   "execution_count": 11,
   "metadata": {},
   "outputs": [
    {
     "name": "stdout",
     "output_type": "stream",
     "text": [
      "Requirement already satisfied: pyecharts in /opt/conda/lib/python3.6/site-packages (0.5.11)\n",
      "Requirement already satisfied: pyecharts-javascripthon==0.0.6 in /opt/conda/lib/python3.6/site-packages (from pyecharts) (0.0.6)\n",
      "Requirement already satisfied: lml==0.0.2 in /opt/conda/lib/python3.6/site-packages (from pyecharts) (0.0.2)\n",
      "Requirement already satisfied: jupyter-echarts-pypkg==0.1.2 in /opt/conda/lib/python3.6/site-packages (from pyecharts) (0.1.2)\n",
      "Requirement already satisfied: jinja2 in /opt/conda/lib/python3.6/site-packages (from pyecharts) (2.10)\n",
      "Requirement already satisfied: future in /opt/conda/lib/python3.6/site-packages (from pyecharts) (0.17.1)\n",
      "Requirement already satisfied: pillow in /opt/conda/lib/python3.6/site-packages (from pyecharts) (5.3.0)\n",
      "Requirement already satisfied: javascripthon>=0.10; python_version > \"3.4\" in /opt/conda/lib/python3.6/site-packages (from pyecharts-javascripthon==0.0.6->pyecharts) (0.10)\n",
      "Requirement already satisfied: pyecharts-jupyter-installer==0.0.3 in /opt/conda/lib/python3.6/site-packages (from jupyter-echarts-pypkg==0.1.2->pyecharts) (0.0.3)\n",
      "Requirement already satisfied: MarkupSafe>=0.23 in /opt/conda/lib/python3.6/site-packages (from jinja2->pyecharts) (1.0)\n",
      "Requirement already satisfied: setuptools in /opt/conda/lib/python3.6/site-packages (from javascripthon>=0.10; python_version > \"3.4\"->pyecharts-javascripthon==0.0.6->pyecharts) (39.2.0)\n",
      "Requirement already satisfied: macropy3==1.1.0b2 in /opt/conda/lib/python3.6/site-packages (from javascripthon>=0.10; python_version > \"3.4\"->pyecharts-javascripthon==0.0.6->pyecharts) (1.1.0b2)\n",
      "Requirement already satisfied: dukpy in /opt/conda/lib/python3.6/site-packages (from javascripthon>=0.10; python_version > \"3.4\"->pyecharts-javascripthon==0.0.6->pyecharts) (0.2.2)\n",
      "Requirement already up-to-date: pip in /opt/conda/lib/python3.6/site-packages (18.1)\n"
     ]
    }
   ],
   "source": [
    "!pip install pyecharts\n",
    "!pip install --upgrade pip"
   ]
  },
  {
   "cell_type": "code",
   "execution_count": 12,
   "metadata": {},
   "outputs": [
    {
     "name": "stdout",
     "output_type": "stream",
     "text": [
      "fatal: destination path 'pyecharts' already exists and is not an empty directory.\n",
      "python: can't open file 'setup.py': [Errno 2] No such file or directory\n",
      "Requirement already satisfied: pyecharts-snapshot in /opt/conda/lib/python3.6/site-packages (0.1.9)\n",
      "Requirement already satisfied: lml>=0.0.2 in /opt/conda/lib/python3.6/site-packages (from pyecharts-snapshot) (0.0.2)\n",
      "Requirement already satisfied: pillow in /opt/conda/lib/python3.6/site-packages (from pyecharts-snapshot) (5.3.0)\n"
     ]
    }
   ],
   "source": [
    "!git clone https://github.com/pyecharts/pyecharts.git\n",
    "!cd pyecharts\n",
    "!python setup.py install\n",
    "!pip install pyecharts-snapshot"
   ]
  },
  {
   "cell_type": "code",
   "execution_count": 13,
   "metadata": {},
   "outputs": [
    {
     "data": {
      "text/html": [
       "<div>\n",
       "<style scoped>\n",
       "    .dataframe tbody tr th:only-of-type {\n",
       "        vertical-align: middle;\n",
       "    }\n",
       "\n",
       "    .dataframe tbody tr th {\n",
       "        vertical-align: top;\n",
       "    }\n",
       "\n",
       "    .dataframe thead th {\n",
       "        text-align: right;\n",
       "    }\n",
       "</style>\n",
       "<table border=\"1\" class=\"dataframe\">\n",
       "  <thead>\n",
       "    <tr style=\"text-align: right;\">\n",
       "      <th></th>\n",
       "      <th>date</th>\n",
       "      <th>click</th>\n",
       "    </tr>\n",
       "  </thead>\n",
       "  <tbody>\n",
       "    <tr>\n",
       "      <th>0</th>\n",
       "      <td>2018-09-18</td>\n",
       "      <td>656</td>\n",
       "    </tr>\n",
       "    <tr>\n",
       "      <th>1</th>\n",
       "      <td>2018-09-20</td>\n",
       "      <td>638</td>\n",
       "    </tr>\n",
       "    <tr>\n",
       "      <th>2</th>\n",
       "      <td>2018-08-31</td>\n",
       "      <td>633</td>\n",
       "    </tr>\n",
       "    <tr>\n",
       "      <th>3</th>\n",
       "      <td>2018-05-11</td>\n",
       "      <td>616</td>\n",
       "    </tr>\n",
       "    <tr>\n",
       "      <th>4</th>\n",
       "      <td>2018-10-16</td>\n",
       "      <td>600</td>\n",
       "    </tr>\n",
       "  </tbody>\n",
       "</table>\n",
       "</div>"
      ],
      "text/plain": [
       "         date  click\n",
       "0  2018-09-18    656\n",
       "1  2018-09-20    638\n",
       "2  2018-08-31    633\n",
       "3  2018-05-11    616\n",
       "4  2018-10-16    600"
      ]
     },
     "execution_count": 13,
     "metadata": {},
     "output_type": "execute_result"
    }
   ],
   "source": [
    "#Clicks per date\n",
    "import datetime as dt\n",
    "data['Day']=data['Time'].dt.date\n",
    "from collections import Counter\n",
    "daycount=Counter(data.Day).most_common()\n",
    "daycount=pd.DataFrame(data=daycount,columns=['date','click'])\n",
    "daycount.head()"
   ]
  },
  {
   "cell_type": "code",
   "execution_count": 14,
   "metadata": {},
   "outputs": [],
   "source": [
    "myJson=daycount.to_json(orient='values',date_format='iso')\n",
    "import re\n",
    "myJson=re.sub(r'(\\d\\d\\d\\d-\\d\\d-\\d\\d).{14}\"', r'\\1\"',myJson)"
   ]
  },
  {
   "cell_type": "code",
   "execution_count": 15,
   "metadata": {},
   "outputs": [],
   "source": [
    "import datetime\n",
    "import random\n",
    "from pyecharts import HeatMap\n",
    "\n",
    "begin = datetime.date(2018, 1, 1)\n",
    "end = datetime.date(2018, 12, 31)\n",
    "click = eval(myJson)\n",
    "heatmap = HeatMap(\"Click Distribution\", \"Number of clicks per day\", width=1200)\n",
    "heatmap.add(\n",
    "    \"\",\n",
    "    click,\n",
    "    is_calendar_heatmap=True,\n",
    "    visual_text_color=\"#000\",\n",
    "    visual_range_text=[\"\", \"\"],\n",
    "    visual_range=[0,700],\n",
    "    calendar_cell_size=[\"auto\", 30],\n",
    "    is_visualmap=True,\n",
    "    calendar_date_range=\"2018\",\n",
    "    visual_orient=\"horizontal\",\n",
    "    visual_pos=\"center\",\n",
    "    visual_top=\"80%\",\n",
    "    is_piecewise=True,\n",
    ")\n",
    "heatmap.render()"
   ]
  },
  {
   "cell_type": "markdown",
   "metadata": {},
   "source": [
    "# Wordcloud"
   ]
  },
  {
   "cell_type": "code",
   "execution_count": 16,
   "metadata": {},
   "outputs": [
    {
     "data": {
      "text/html": [
       "<div>\n",
       "<style scoped>\n",
       "    .dataframe tbody tr th:only-of-type {\n",
       "        vertical-align: middle;\n",
       "    }\n",
       "\n",
       "    .dataframe tbody tr th {\n",
       "        vertical-align: top;\n",
       "    }\n",
       "\n",
       "    .dataframe thead th {\n",
       "        text-align: right;\n",
       "    }\n",
       "</style>\n",
       "<table border=\"1\" class=\"dataframe\">\n",
       "  <thead>\n",
       "    <tr style=\"text-align: right;\">\n",
       "      <th></th>\n",
       "      <th>Keyword</th>\n",
       "      <th>Frequency</th>\n",
       "    </tr>\n",
       "  </thead>\n",
       "  <tbody>\n",
       "    <tr>\n",
       "      <th>0</th>\n",
       "      <td>Entertainment</td>\n",
       "      <td>18024</td>\n",
       "    </tr>\n",
       "    <tr>\n",
       "      <th>2</th>\n",
       "      <td>Games</td>\n",
       "      <td>12767</td>\n",
       "    </tr>\n",
       "    <tr>\n",
       "      <th>3</th>\n",
       "      <td>Interests</td>\n",
       "      <td>9194</td>\n",
       "    </tr>\n",
       "    <tr>\n",
       "      <th>4</th>\n",
       "      <td>Music</td>\n",
       "      <td>8149</td>\n",
       "    </tr>\n",
       "    <tr>\n",
       "      <th>6</th>\n",
       "      <td>BBC</td>\n",
       "      <td>6174</td>\n",
       "    </tr>\n",
       "  </tbody>\n",
       "</table>\n",
       "</div>"
      ],
      "text/plain": [
       "         Keyword  Frequency\n",
       "0  Entertainment      18024\n",
       "2          Games      12767\n",
       "3      Interests       9194\n",
       "4          Music       8149\n",
       "6            BBC       6174"
      ]
     },
     "execution_count": 16,
     "metadata": {},
     "output_type": "execute_result"
    }
   ],
   "source": [
    "LinkName=''\n",
    "for row in data.LinkTitle:\n",
    "    LinkName+=row+' '\n",
    "from collections import Counter\n",
    "freword = Counter(LinkName.split()).most_common(60)\n",
    "Word=pd.DataFrame(data=freword,columns=['Keyword','Frequency'])\n",
    "Word=Word[~Word['Keyword'].isin(['My'])]\n",
    "Word=Word[~Word['Keyword'].isin(['Play'])]\n",
    "Word=Word[~Word['Keyword'].isin(['Player'])]\n",
    "Word=Word[~Word['Keyword'].isin(['Stations'])]\n",
    "Word=Word[~Word['Keyword'].isin(['The'])]\n",
    "Word=Word[~Word['Keyword'].isin(['&'])]\n",
    "Word=Word[~Word['Keyword'].isin(['2'])]\n",
    "Word=Word[~Word['Keyword'].isin(['FC'])]\n",
    "Word=Word[~Word['Keyword'].isin(['Mail'])]\n",
    "Word=Word[~Word['Keyword'].isin(['Card'])]\n",
    "Word.head()"
   ]
  },
  {
   "cell_type": "code",
   "execution_count": 17,
   "metadata": {},
   "outputs": [],
   "source": [
    "keyword = np.array(Word.Keyword)\n",
    "keyword=keyword.tolist()\n",
    "frequency=np.array(Word.Frequency)\n",
    "frequency=frequency.tolist()"
   ]
  },
  {
   "cell_type": "code",
   "execution_count": 18,
   "metadata": {},
   "outputs": [],
   "source": [
    "from pyecharts import WordCloud\n",
    "wordcloud = WordCloud(width=1200, height=600)\n",
    "wordcloud.add(\"\", keyword, frequency, word_size_range=[20, 120])\n",
    "wordcloud.render()"
   ]
  },
  {
   "cell_type": "code",
   "execution_count": 19,
   "metadata": {},
   "outputs": [],
   "source": [
    "#frelink=Counter(data.LinkTitle).most_common(50)\n",
    "#Title=pd.DataFrame(data=frelink,columns=['Linktitle','Frequency'])\n",
    "#Title.head()\n",
    "#title = np.array(Title.Linktitle)\n",
    "#title=title.tolist()\n",
    "#frequency=np.array(Title.Frequency)\n",
    "#frequency=frequency.tolist()\n",
    "#wordcloud = WordCloud(width=1300, height=620)\n",
    "#wordcloud.add(\"\", title, frequency, word_size_range=[10, 100])\n",
    "#wordcloud.render()"
   ]
  },
  {
   "cell_type": "markdown",
   "metadata": {},
   "source": [
    "# Geomap"
   ]
  },
  {
   "cell_type": "code",
   "execution_count": 20,
   "metadata": {},
   "outputs": [
    {
     "data": {
      "text/plain": [
       "'[[\"Stirling\",29138],[\"Edinburgh\",28420],[\"Ayr\",19161],[\"Dundee\",16866],[\"Glasgow\",14914],[\"Aberdeen\",11973],[\"Arbroath\",73],[\"Dundee\",30]]'"
      ]
     },
     "execution_count": 20,
     "metadata": {},
     "output_type": "execute_result"
    }
   ],
   "source": [
    "city = Counter(data.City).most_common()\n",
    "city=pd.DataFrame(data=city,columns=['city','users'])\n",
    "city=city[~city['city'].isin(['test user'])]\n",
    "city=city[~city['city'].isin(['nan'])]\n",
    "city=city[~city['city'].isin(['Test user ignore'])]\n",
    "city=city.dropna(subset=['city'])\n",
    "city=city.replace(['Dundee (Tayside)','Arbroath (Tayside)'],['Dundee','Arbroath'])\n",
    "city.to_json(orient='values')"
   ]
  },
  {
   "cell_type": "code",
   "execution_count": 21,
   "metadata": {},
   "outputs": [
    {
     "name": "stdout",
     "output_type": "stream",
     "text": [
      "Requirement already satisfied: echarts-cities-pypkg in /opt/conda/lib/python3.6/site-packages (0.0.1)\r\n",
      "Requirement already satisfied: lml>=0.0.2 in /opt/conda/lib/python3.6/site-packages (from echarts-cities-pypkg) (0.0.2)\r\n"
     ]
    }
   ],
   "source": [
    "!pip install echarts-cities-pypkg"
   ]
  },
  {
   "cell_type": "code",
   "execution_count": 22,
   "metadata": {},
   "outputs": [
    {
     "name": "stdout",
     "output_type": "stream",
     "text": [
      "Requirement already satisfied: echarts-countries-pypkg in /opt/conda/lib/python3.6/site-packages (0.1.6)\n",
      "Requirement already satisfied: lml>=0.0.2 in /opt/conda/lib/python3.6/site-packages (from echarts-countries-pypkg) (0.0.2)\n",
      "Requirement already satisfied: pyecharts-jupyter-installer==0.0.3 in /opt/conda/lib/python3.6/site-packages (from echarts-countries-pypkg) (0.0.3)\n",
      "Requirement already satisfied: echarts-united-kingdom-pypkg in /opt/conda/lib/python3.6/site-packages (0.0.1)\n",
      "Requirement already satisfied: lml==0.0.2 in /opt/conda/lib/python3.6/site-packages (from echarts-united-kingdom-pypkg) (0.0.2)\n",
      "Requirement already satisfied: pyecharts-jupyter-installer==0.0.3 in /opt/conda/lib/python3.6/site-packages (from echarts-united-kingdom-pypkg) (0.0.3)\n"
     ]
    }
   ],
   "source": [
    "! pip install echarts-countries-pypkg\n",
    "! pip install echarts-united-kingdom-pypkg"
   ]
  },
  {
   "cell_type": "code",
   "execution_count": 30,
   "metadata": {},
   "outputs": [],
   "source": [
    "from pyecharts import Map, Geo\n",
    "city = [(\"Stirling\",29138),(\"Edinburgh\",28420),(\"Ayr\",19161),(\"Dundee\",16866),(\"Glasgow\",14914),(\"Aberdeen\",11973),(\"Arbroath\",73),(\"Dundee\",30)]\n",
    "geo = Geo(\n",
    "    \"User Distribution\",\n",
    "    \"\",\n",
    "    title_color=\"#000\",\n",
    "    title_pos=\"center\",\n",
    "    width=1200,\n",
    "    height=600,\n",
    "    #background_color=\"#404a59\",\n",
    ")\n",
    "attr, value = geo.cast(city)\n",
    "geo.add(\n",
    "    \"\",\n",
    "    attr,\n",
    "    value,\n",
    "    type=\"effectScatter\",\n",
    "    is_random=True, \n",
    "    effect_scale=5,\n",
    "    maptype='英国',\n",
    "    coordinate_region='GB',\n",
    "    visual_range=[0, 30000],\n",
    "    visual_text_color=\"#fff\",\n",
    "    symbol_size=15,\n",
    "    is_visualmap=True,\n",
    ")\n",
    "geo.render()"
   ]
  },
  {
   "cell_type": "markdown",
   "metadata": {},
   "source": [
    "# Page"
   ]
  },
  {
   "cell_type": "code",
   "execution_count": 31,
   "metadata": {},
   "outputs": [],
   "source": [
    "from pyecharts import Page\n",
    "page = Page()\n",
    "\n",
    "# geo\n",
    "page.add(geo)\n",
    "\n",
    "# heat\n",
    "page.add(heatmap) \n",
    "\n",
    "# word\n",
    "page.add(wordcloud)\n",
    "\n",
    "page.render() "
   ]
  },
  {
   "cell_type": "markdown",
   "metadata": {},
   "source": [
    "##### USERS (the user dataframe) "
   ]
  },
  {
   "cell_type": "code",
   "execution_count": null,
   "metadata": {},
   "outputs": [],
   "source": [
    "#import users dataframe\n",
    "users = pd.read_csv('PrimaryConditions age sex by customer reference.csv', low_memory=False)"
   ]
  },
  {
   "cell_type": "code",
   "execution_count": null,
   "metadata": {},
   "outputs": [],
   "source": [
    "#drop empty column and CleverCogsUserId\n",
    "users = users.drop(users.columns[users.columns.str.contains('unnamed',case = False)],axis = 1)\n",
    "users = users.drop(columns=['CleverCogsUserId'])"
   ]
  },
  {
   "cell_type": "code",
   "execution_count": null,
   "metadata": {},
   "outputs": [],
   "source": [
    "#delete empty row\n",
    "users = users.dropna(axis=0, how='all', inplace=False)"
   ]
  },
  {
   "cell_type": "code",
   "execution_count": null,
   "metadata": {},
   "outputs": [],
   "source": [
    "#change ExternalID into integers\n",
    "users['ExternalID'] = users['ExternalID'].apply(np.int64)\n",
    "users.shape\n",
    "users.head()"
   ]
  },
  {
   "cell_type": "code",
   "execution_count": null,
   "metadata": {},
   "outputs": [],
   "source": [
    "#drop duplicates\n",
    "users = users.drop_duplicates(subset = ['ExternalID'], keep='last')\n",
    "users.shape"
   ]
  },
  {
   "cell_type": "code",
   "execution_count": null,
   "metadata": {},
   "outputs": [],
   "source": [
    "#change BirthDate to date time\n",
    "#users['BirthDate'] = pd.to_datetime(users['BirthDate'], format = \"%m/%d/%y\", dayfirst=False, utc=True)\n",
    "\n",
    "users['BirthDate'] = pd.to_datetime(users['BirthDate'], errors='coerce', dayfirst=False, yearfirst=False, \n",
    "                   format=\"%d/%m/%y\", utc=False, infer_datetime_format=False, origin='unix')\n",
    "users = users.set_index(pd.DatetimeIndex(users['BirthDate']))\n",
    "\n",
    "#Remove erroneous entries\n",
    "threshold = pd.to_datetime(\"2010-01-01\", format=\"%Y-%m-%d\", utc=False, origin='unix')\n",
    "users = users[users['BirthDate'] < threshold]\n",
    "\n",
    "users.head()"
   ]
  },
  {
   "cell_type": "code",
   "execution_count": null,
   "metadata": {},
   "outputs": [],
   "source": [
    "now = pd.to_datetime(date.today())\n",
    "\n",
    "def getYears(start):\n",
    "    diff = relativedelta(now, start)\n",
    "    return diff.years\n",
    "\n",
    "# Add a new column that contains the age of the user\n",
    "users[\"Age\"] = users['BirthDate'].map(getYears)"
   ]
  },
  {
   "cell_type": "code",
   "execution_count": null,
   "metadata": {},
   "outputs": [],
   "source": [
    "users.head()"
   ]
  },
  {
   "cell_type": "code",
   "execution_count": null,
   "metadata": {},
   "outputs": [],
   "source": [
    "users=users.dropna(subset=['Condition'])\n",
    "con = Counter(users.Condition).most_common()\n",
    "condition=pd.DataFrame(data=con,columns=['Condition','Number'])\n",
    "print(condition)"
   ]
  },
  {
   "cell_type": "code",
   "execution_count": null,
   "metadata": {},
   "outputs": [],
   "source": [
    "from pyecharts import Pie\n",
    "\n",
    "attr = [\"Stroke\", \"Learning Difficulties\", \"Brain Injury\", \"Spina Bifida\", \"Cerebral Palsy\", \"Spinal Injury\",\"Epilepsy\",\"Multiple Sclerosis\",\"Physical Injury\"]\n",
    "v1 = [3,2,2,2,2,1,1,1,1]\n",
    "pie = Pie(\"Condition Distribution\", title_pos='center', width=900)\n",
    "pie.add(\"\", attr, v1, is_label_show=True,radius=[40, 75],legend_orient=\"vertical\", legend_pos=\"left\",)\n",
    "pie.render()"
   ]
  }
 ],
 "metadata": {
  "kernelspec": {
   "display_name": "Python 3",
   "language": "python",
   "name": "python3"
  },
  "language_info": {
   "codemirror_mode": {
    "name": "ipython",
    "version": 3
   },
   "file_extension": ".py",
   "mimetype": "text/x-python",
   "name": "python",
   "nbconvert_exporter": "python",
   "pygments_lexer": "ipython3",
   "version": "3.6.6"
  }
 },
 "nbformat": 4,
 "nbformat_minor": 2
}
